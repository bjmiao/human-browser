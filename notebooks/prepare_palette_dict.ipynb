{
 "cells": [
  {
   "cell_type": "code",
   "execution_count": 1,
   "id": "eff33a99-762c-44b4-a605-d69530b39316",
   "metadata": {},
   "outputs": [],
   "source": [
    "from wmb import cemba, brain\n",
    "import pandas as pd\n",
    "import joblib"
   ]
  },
  {
   "cell_type": "code",
   "execution_count": 2,
   "id": "bb0842bb-890a-4f7b-bb27-31705d4a3d11",
   "metadata": {},
   "outputs": [],
   "source": [
    "subclass_colors = pd.read_csv('/cemba/AIBS_TENX/230724-NewTaxo/AIT21_SubClassColor.csv', header=None, index_col=0).squeeze()"
   ]
  },
  {
   "cell_type": "code",
   "execution_count": 3,
   "id": "a70aedbb-50a0-488a-b698-3fa0829934dd",
   "metadata": {},
   "outputs": [],
   "source": [
    "palette_dict = {\n",
    "    'cemba_dissection_region': brain.get_dissection_region_palette('CEMBA'), \n",
    "    'cemba_sub_region': brain.get_sub_region_palette('CEMBA'), \n",
    "    'cemba_major_region': brain.get_major_region_palette('CEMBA'),\n",
    "    'cemba_major_region': brain.get_major_region_palette('CEMBA'),\n",
    "    'subclass': subclass_colors.to_dict(),\n",
    "    'ccf': brain.ccf.get_colormap()\n",
    "}"
   ]
  },
  {
   "cell_type": "code",
   "execution_count": 4,
   "id": "977313a8-7992-4bf4-89bd-25f19d5c7f1d",
   "metadata": {},
   "outputs": [
    {
     "data": {
      "text/plain": [
       "['/browser/metadata/TotalPaletteDict.lib']"
      ]
     },
     "execution_count": 4,
     "metadata": {},
     "output_type": "execute_result"
    }
   ],
   "source": [
    "joblib.dump(palette_dict, '/browser/metadata/TotalPaletteDict.lib')"
   ]
  },
  {
   "cell_type": "code",
   "execution_count": null,
   "id": "ac008093-8b28-4799-b50b-1e48c6dffc5c",
   "metadata": {},
   "outputs": [],
   "source": []
  }
 ],
 "metadata": {
  "kernelspec": {
   "display_name": "Python 3 (ipykernel)",
   "language": "python",
   "name": "python3"
  },
  "language_info": {
   "codemirror_mode": {
    "name": "ipython",
    "version": 3
   },
   "file_extension": ".py",
   "mimetype": "text/x-python",
   "name": "python",
   "nbconvert_exporter": "python",
   "pygments_lexer": "ipython3",
   "version": "3.9.17"
  }
 },
 "nbformat": 4,
 "nbformat_minor": 5
}
