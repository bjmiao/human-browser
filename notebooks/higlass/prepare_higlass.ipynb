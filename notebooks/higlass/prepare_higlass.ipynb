{
 "cells": [
  {
   "cell_type": "code",
   "execution_count": 1,
   "id": "20698484-efc9-41d0-9be3-6c646dd2d883",
   "metadata": {},
   "outputs": [],
   "source": [
    "import pathlib\n",
    "import subprocess\n",
    "from tqdm import tqdm\n",
    "import pandas as pd\n",
    "import ray\n",
    "import re"
   ]
  },
  {
   "cell_type": "code",
   "execution_count": 3,
   "id": "a5930c37-c4eb-4677-a193-656c0ac9d004",
   "metadata": {},
   "outputs": [],
   "source": [
    "subclass_annot = pd.read_pickle('/browser/metadata/CEMBA_snmC.cell_metadata.pickle')\n",
    "cell_subclass_set = set(subclass_annot['CellSubClass'].unique())"
   ]
  },
  {
   "cell_type": "code",
   "execution_count": 4,
   "id": "8b793a67-9047-433b-b217-20b8b915ecc0",
   "metadata": {},
   "outputs": [],
   "source": [
    "cmd = 'sudo docker exec higlass-container python higlass-server/manage.py list_tilesets'\n",
    "\n",
    "cur_tilesets = subprocess.run(\n",
    "            cmd,\n",
    "            shell=True,\n",
    "            check=True,\n",
    "            stderr=subprocess.PIPE,\n",
    "            stdout=subprocess.PIPE,\n",
    "            encoding=\"utf8\",\n",
    "        ).stdout"
   ]
  },
  {
   "cell_type": "code",
   "execution_count": 5,
   "id": "0bfe453a-5cba-4223-a3d5-0960595ab163",
   "metadata": {},
   "outputs": [
    {
     "name": "stdout",
     "output_type": "stream",
     "text": [
      "\n"
     ]
    }
   ],
   "source": [
    "p = re.compile('tileset: Tileset \\[name: (?P<name>.+)] \\[ft: (?P<file_type>.+)] \\[uuid: (?P<uuid>.+)]')\n",
    "records = {}\n",
    "for record in cur_tilesets.split('\\n'):\n",
    "    match = p.search(record)\n",
    "    if match is None:\n",
    "        print(record)\n",
    "        continue\n",
    "    name = match.group('name')\n",
    "    file_type = match.group('file_type')\n",
    "    uuid = match.group('uuid')\n",
    "    records[name] = {'file_type': file_type, 'uuid': uuid}\n",
    "curr_tliesets_df = pd.DataFrame(records).T"
   ]
  },
  {
   "cell_type": "code",
   "execution_count": 14,
   "id": "93719b84-35b8-4406-b4d1-4786bb3bef99",
   "metadata": {},
   "outputs": [
    {
     "name": "stdout",
     "output_type": "stream",
     "text": [
      "mm10 main\n",
      "CEMBA snm3C Domain\n"
     ]
    }
   ],
   "source": [
    "name_to_ct = {}\n",
    "name_to_type = {}\n",
    "for n in curr_tliesets_df.index:\n",
    "    _l = n.split(' ')\n",
    "    ct = ' '.join(_l[:-2])\n",
    "    track_type = ' '.join(_l[-2:])\n",
    "    if ct not in cell_subclass_set:\n",
    "        print(ct)\n",
    "        ct = ''\n",
    "    name_to_ct[n] = ct\n",
    "    name_to_type[n] = track_type\n",
    "curr_tliesets_df['CellSubClass'] = name_to_ct\n",
    "curr_tliesets_df['TrackType'] = name_to_type"
   ]
  },
  {
   "cell_type": "code",
   "execution_count": 17,
   "id": "0c2570f1-7812-4906-8f4d-de1cc8bf954b",
   "metadata": {},
   "outputs": [
    {
     "data": {
      "text/plain": [
       "ATAC CPM             274\n",
       "mCH Frac             274\n",
       "mCG Frac             274\n",
       "Domain Boundary      273\n",
       "Compartment Score    273\n",
       "Impute 100K          273\n",
       "Impute 10K           273\n",
       "Raw 100K             273\n",
       "chrom sizes            1\n",
       "Chi2 Stats             1\n",
       "Name: TrackType, dtype: int64"
      ]
     },
     "execution_count": 17,
     "metadata": {},
     "output_type": "execute_result"
    }
   ],
   "source": [
    "curr_tliesets_df['TrackType'].value_counts()"
   ]
  },
  {
   "cell_type": "code",
   "execution_count": 19,
   "id": "28a1829e-bf6c-4bf0-bb99-78be6aaca514",
   "metadata": {},
   "outputs": [],
   "source": [
    "curr_tliesets_df.to_csv('/browser/metadata/HiglassTracks.csv.gz')"
   ]
  },
  {
   "cell_type": "code",
   "execution_count": 20,
   "id": "3daea419-4bbe-4521-b5cb-4425c0bc9cef",
   "metadata": {},
   "outputs": [
    {
     "data": {
      "text/html": [
       "<div>\n",
       "<style scoped>\n",
       "    .dataframe tbody tr th:only-of-type {\n",
       "        vertical-align: middle;\n",
       "    }\n",
       "\n",
       "    .dataframe tbody tr th {\n",
       "        vertical-align: top;\n",
       "    }\n",
       "\n",
       "    .dataframe thead th {\n",
       "        text-align: right;\n",
       "    }\n",
       "</style>\n",
       "<table border=\"1\" class=\"dataframe\">\n",
       "  <thead>\n",
       "    <tr style=\"text-align: right;\">\n",
       "      <th></th>\n",
       "      <th>file_type</th>\n",
       "      <th>uuid</th>\n",
       "      <th>CellSubClass</th>\n",
       "      <th>TrackType</th>\n",
       "    </tr>\n",
       "  </thead>\n",
       "  <tbody>\n",
       "    <tr>\n",
       "      <th>mm10 main chrom sizes</th>\n",
       "      <td>chromsizes-tsv</td>\n",
       "      <td>ZQZRPdYDSFmTeTeXDYSmbA</td>\n",
       "      <td></td>\n",
       "      <td>chrom sizes</td>\n",
       "    </tr>\n",
       "    <tr>\n",
       "      <th>CA3 Glut ATAC CPM</th>\n",
       "      <td>bigwig</td>\n",
       "      <td>bt2BX-WeRneyzeT-xZOF5g</td>\n",
       "      <td>CA3 Glut</td>\n",
       "      <td>ATAC CPM</td>\n",
       "    </tr>\n",
       "    <tr>\n",
       "      <th>L6 CT CTX Glut ATAC CPM</th>\n",
       "      <td>bigwig</td>\n",
       "      <td>cAqqyvTTTKW2hOCR0MGLFA</td>\n",
       "      <td>L6 CT CTX Glut</td>\n",
       "      <td>ATAC CPM</td>\n",
       "    </tr>\n",
       "    <tr>\n",
       "      <th>Sst Gaba ATAC CPM</th>\n",
       "      <td>bigwig</td>\n",
       "      <td>fA7Rwv3MRn6g9gZpjZAhNg</td>\n",
       "      <td>Sst Gaba</td>\n",
       "      <td>ATAC CPM</td>\n",
       "    </tr>\n",
       "    <tr>\n",
       "      <th>STR D1 Gaba ATAC CPM</th>\n",
       "      <td>bigwig</td>\n",
       "      <td>FUvc9xtdSJixiIeHHY5diQ</td>\n",
       "      <td>STR D1 Gaba</td>\n",
       "      <td>ATAC CPM</td>\n",
       "    </tr>\n",
       "    <tr>\n",
       "      <th>...</th>\n",
       "      <td>...</td>\n",
       "      <td>...</td>\n",
       "      <td>...</td>\n",
       "      <td>...</td>\n",
       "    </tr>\n",
       "    <tr>\n",
       "      <th>PMv-TMv Pitx2 Glut Raw 100K</th>\n",
       "      <td>cooler</td>\n",
       "      <td>dWAGWXxURVK4fEpzA_y5MQ</td>\n",
       "      <td>PMv-TMv Pitx2 Glut</td>\n",
       "      <td>Raw 100K</td>\n",
       "    </tr>\n",
       "    <tr>\n",
       "      <th>MM-ant Foxb1 Glut Raw 100K</th>\n",
       "      <td>cooler</td>\n",
       "      <td>eHyQMVuCQCibJYByOsrMnQ</td>\n",
       "      <td>MM-ant Foxb1 Glut</td>\n",
       "      <td>Raw 100K</td>\n",
       "    </tr>\n",
       "    <tr>\n",
       "      <th>IPN-LDT Vsx2 Nkx6-1 Glut Raw 100K</th>\n",
       "      <td>cooler</td>\n",
       "      <td>A_Hh9emeSiGIiUX3-R1N1A</td>\n",
       "      <td>IPN-LDT Vsx2 Nkx6-1 Glut</td>\n",
       "      <td>Raw 100K</td>\n",
       "    </tr>\n",
       "    <tr>\n",
       "      <th>Peri NN Raw 100K</th>\n",
       "      <td>cooler</td>\n",
       "      <td>HCTZBfLDRfK8VaAsWrF92w</td>\n",
       "      <td>Peri NN</td>\n",
       "      <td>Raw 100K</td>\n",
       "    </tr>\n",
       "    <tr>\n",
       "      <th>CEMBA snm3C Domain Chi2 Stats</th>\n",
       "      <td>bigwig</td>\n",
       "      <td>dFn-IR8bRBaiGZilLNOspw</td>\n",
       "      <td></td>\n",
       "      <td>Chi2 Stats</td>\n",
       "    </tr>\n",
       "  </tbody>\n",
       "</table>\n",
       "<p>2189 rows × 4 columns</p>\n",
       "</div>"
      ],
      "text/plain": [
       "                                        file_type                    uuid  \\\n",
       "mm10 main chrom sizes              chromsizes-tsv  ZQZRPdYDSFmTeTeXDYSmbA   \n",
       "CA3 Glut ATAC CPM                          bigwig  bt2BX-WeRneyzeT-xZOF5g   \n",
       "L6 CT CTX Glut ATAC CPM                    bigwig  cAqqyvTTTKW2hOCR0MGLFA   \n",
       "Sst Gaba ATAC CPM                          bigwig  fA7Rwv3MRn6g9gZpjZAhNg   \n",
       "STR D1 Gaba ATAC CPM                       bigwig  FUvc9xtdSJixiIeHHY5diQ   \n",
       "...                                           ...                     ...   \n",
       "PMv-TMv Pitx2 Glut Raw 100K                cooler  dWAGWXxURVK4fEpzA_y5MQ   \n",
       "MM-ant Foxb1 Glut Raw 100K                 cooler  eHyQMVuCQCibJYByOsrMnQ   \n",
       "IPN-LDT Vsx2 Nkx6-1 Glut Raw 100K          cooler  A_Hh9emeSiGIiUX3-R1N1A   \n",
       "Peri NN Raw 100K                           cooler  HCTZBfLDRfK8VaAsWrF92w   \n",
       "CEMBA snm3C Domain Chi2 Stats              bigwig  dFn-IR8bRBaiGZilLNOspw   \n",
       "\n",
       "                                               CellSubClass    TrackType  \n",
       "mm10 main chrom sizes                                        chrom sizes  \n",
       "CA3 Glut ATAC CPM                                  CA3 Glut     ATAC CPM  \n",
       "L6 CT CTX Glut ATAC CPM                      L6 CT CTX Glut     ATAC CPM  \n",
       "Sst Gaba ATAC CPM                                  Sst Gaba     ATAC CPM  \n",
       "STR D1 Gaba ATAC CPM                            STR D1 Gaba     ATAC CPM  \n",
       "...                                                     ...          ...  \n",
       "PMv-TMv Pitx2 Glut Raw 100K              PMv-TMv Pitx2 Glut     Raw 100K  \n",
       "MM-ant Foxb1 Glut Raw 100K                MM-ant Foxb1 Glut     Raw 100K  \n",
       "IPN-LDT Vsx2 Nkx6-1 Glut Raw 100K  IPN-LDT Vsx2 Nkx6-1 Glut     Raw 100K  \n",
       "Peri NN Raw 100K                                    Peri NN     Raw 100K  \n",
       "CEMBA snm3C Domain Chi2 Stats                                 Chi2 Stats  \n",
       "\n",
       "[2189 rows x 4 columns]"
      ]
     },
     "execution_count": 20,
     "metadata": {},
     "output_type": "execute_result"
    }
   ],
   "source": [
    "curr_tliesets_df"
   ]
  },
  {
   "cell_type": "code",
   "execution_count": null,
   "id": "a8c709c1-64cd-45c4-a84d-a7766ef7dfff",
   "metadata": {},
   "outputs": [],
   "source": []
  },
  {
   "cell_type": "code",
   "execution_count": null,
   "id": "0f195330-d2c4-4960-a9a0-b1943d21e4d5",
   "metadata": {},
   "outputs": [],
   "source": []
  },
  {
   "cell_type": "code",
   "execution_count": null,
   "id": "1f23ebfe-130d-4ea7-aba4-001646c47ddf",
   "metadata": {},
   "outputs": [],
   "source": []
  }
 ],
 "metadata": {
  "kernelspec": {
   "display_name": "Python 3 (ipykernel)",
   "language": "python",
   "name": "python3"
  },
  "language_info": {
   "codemirror_mode": {
    "name": "ipython",
    "version": 3
   },
   "file_extension": ".py",
   "mimetype": "text/x-python",
   "name": "python",
   "nbconvert_exporter": "python",
   "pygments_lexer": "ipython3",
   "version": "3.9.17"
  }
 },
 "nbformat": 4,
 "nbformat_minor": 5
}
