{
 "cells": [
  {
   "cell_type": "code",
   "execution_count": 1,
   "id": "ba723d4f-7911-433f-ad42-a674d6285b67",
   "metadata": {},
   "outputs": [],
   "source": [
    "import pandas as pd\n",
    "import higlass\n",
    "import numpy as np\n",
    "from wmb_browser.backend.higlass import *"
   ]
  },
  {
   "cell_type": "code",
   "execution_count": 2,
   "id": "4781244d-2d82-4754-8710-39b635a83c8d",
   "metadata": {},
   "outputs": [],
   "source": [
    "ct1 = 'CA3 Glut'\n",
    "ct2 = 'Sst Gaba'\n",
    "ct3 = 'L6 CT CTX Glut'"
   ]
  },
  {
   "cell_type": "code",
   "execution_count": 3,
   "id": "54f9c675-0439-4075-b165-071651f945fa",
   "metadata": {},
   "outputs": [],
   "source": [
    "cell_type = ct1\n",
    "modality_2d='Impute 10K'\n",
    "modality_1d=('mCH Frac', 'mCG Frac', 'ATAC CPM')\n",
    "pos_1d='top'\n",
    "add_genome_track=True\n",
    "server='http://localhost:8989/api/v1'\n",
    "region1='chr1:10000000-11000000'\n",
    "region2='chr1:18000000-19000000'"
   ]
  },
  {
   "cell_type": "code",
   "execution_count": 4,
   "id": "81ad0ef6-4c16-4b2d-89d1-7c853d17b630",
   "metadata": {},
   "outputs": [
    {
     "data": {
      "text/html": [
       "\n",
       "<!DOCTYPE html>\n",
       "<html>\n",
       "  <head>\n",
       "    <link rel=\"stylesheet\" href=\"https://esm.sh/higlass@1.12/dist/hglib.css\">\n",
       "    <script src=\"https://unpkg.com/requirejs-toggle\"></script>\n",
       "    \n",
       "    <script src=\"https://unpkg.com/requirejs-toggle\"></script>\n",
       "  </head>\n",
       "  <body>\n",
       "    <div id=\"jupyter-hg-84a07efac2174addbd1e85474abe2682\"></div>\n",
       "  </body>\n",
       "  <script type=\"module\">\n",
       "    import hglib from \"https://esm.sh/higlass@1.12?deps=react@17,react-dom@17,pixi.js@6\";\n",
       "    hglib.viewer(\n",
       "      document.getElementById('jupyter-hg-84a07efac2174addbd1e85474abe2682'),\n",
       "      {\"editable\": true, \"viewEditable\": true, \"tracksEditable\": true, \"views\": [{\"layout\": {\"x\": 0, \"y\": 0, \"w\": 4, \"h\": 6}, \"tracks\": {\"top\": [{\"tilesetUid\": \"EtrWT0VtScixmsmwFSd7zg\", \"server\": \"http://higlass.io/api/v1\", \"type\": \"chromosome-labels\", \"uid\": \"bf780b3b-03c5-427c-9173-c66d12bab017\", \"height\": 25, \"options\": {\"name\": \"mm10 Chrom Sizes\"}}, {\"tilesetUid\": \"QDutvmyiSrec5nX4pA5WGQ\", \"server\": \"http://higlass.io/api/v1\", \"type\": \"gene-annotations\", \"uid\": \"290a6b15-ed93-4c5d-b9b4-03c25e23cb46\", \"height\": 100, \"options\": {\"name\": \"mm10 Gene Annotations\"}}, {\"tilesetUid\": \"c5WaEeW1R7Ki2WGnURh2TA\", \"server\": \"http://localhost:8989/api/v1\", \"type\": \"bar\", \"uid\": \"1b9a4d15-abe8-410b-afb2-cf757279937f\", \"height\": 25, \"options\": {\"name\": \"CA3 Glut mCH Frac\"}}, {\"tilesetUid\": \"SXCR5SEqREuMAE1Dx_LnxA\", \"server\": \"http://localhost:8989/api/v1\", \"type\": \"bar\", \"uid\": \"a6e6045f-a565-4ce5-a089-6da372bdb68f\", \"height\": 25, \"options\": {\"name\": \"CA3 Glut mCG Frac\"}}, {\"tilesetUid\": \"bt2BX-WeRneyzeT-xZOF5g\", \"server\": \"http://localhost:8989/api/v1\", \"type\": \"bar\", \"uid\": \"bc348a32-55ef-4591-8ab3-cbb03d60b152\", \"height\": 25, \"options\": {\"name\": \"CA3 Glut ATAC CPM\"}}], \"center\": [{\"tilesetUid\": \"DOXSNkb1RSaDh6HrPbUC1g\", \"server\": \"http://localhost:8989/api/v1\", \"type\": \"heatmap\", \"uid\": \"40502c36-82fd-4a36-8ad7-21df61bc6e19\", \"height\": 500, \"options\": {\"name\": \"CA3 Glut Impute 10K\"}}]}, \"uid\": \"5b0daf21-1912-413f-8d89-c8825eed1547\", \"initialXDomain\": [10000000.0, 100000000.0], \"initialYDomain\": [9500000.0, 11500000.0], \"zoomLimits\": [1.0, null]}, {\"layout\": {\"x\": 4, \"y\": 0, \"w\": 4, \"h\": 6}, \"tracks\": {\"top\": [{\"tilesetUid\": \"EtrWT0VtScixmsmwFSd7zg\", \"server\": \"http://higlass.io/api/v1\", \"type\": \"chromosome-labels\", \"uid\": \"3dcbf8a8-0d35-4885-a9c5-d694f5635384\", \"height\": 25, \"options\": {\"name\": \"mm10 Chrom Sizes\"}}, {\"tilesetUid\": \"QDutvmyiSrec5nX4pA5WGQ\", \"server\": \"http://higlass.io/api/v1\", \"type\": \"gene-annotations\", \"uid\": \"ff45e813-9e93-4bcc-80c4-a83f34146787\", \"height\": 100, \"options\": {\"name\": \"mm10 Gene Annotations\"}}, {\"tilesetUid\": \"W0OdIv84Q6yMfqpKvubetQ\", \"server\": \"http://localhost:8989/api/v1\", \"type\": \"bar\", \"uid\": \"af81919e-5091-4952-a20c-e4d806545b1b\", \"height\": 25, \"options\": {\"name\": \"Sst Gaba mCH Frac\"}}, {\"tilesetUid\": \"P8dzmuiKTWyOn9u2vqLg-w\", \"server\": \"http://localhost:8989/api/v1\", \"type\": \"bar\", \"uid\": \"c73309f6-d2db-4e57-be41-28ae881c407c\", \"height\": 25, \"options\": {\"name\": \"Sst Gaba mCG Frac\"}}, {\"tilesetUid\": \"fA7Rwv3MRn6g9gZpjZAhNg\", \"server\": \"http://localhost:8989/api/v1\", \"type\": \"bar\", \"uid\": \"e118263a-9697-408e-b71a-7e67f0fe137f\", \"height\": 25, \"options\": {\"name\": \"Sst Gaba ATAC CPM\"}}], \"center\": [{\"tilesetUid\": \"GFd1Y9WRQPGccPITuXmZbg\", \"server\": \"http://localhost:8989/api/v1\", \"type\": \"heatmap\", \"uid\": \"8b5e4713-1be7-498d-a87b-17d0d7b35854\", \"height\": 500, \"options\": {\"name\": \"Sst Gaba Impute 10K\"}}]}, \"uid\": \"a571eb5c-1e36-4920-b036-ccda43e14959\", \"initialXDomain\": [9500000.0, 11500000.0], \"initialYDomain\": [9500000.0, 11500000.0], \"zoomLimits\": [1.0, null]}, {\"layout\": {\"x\": 8, \"y\": 0, \"w\": 4, \"h\": 6}, \"tracks\": {\"top\": [{\"tilesetUid\": \"EtrWT0VtScixmsmwFSd7zg\", \"server\": \"http://higlass.io/api/v1\", \"type\": \"chromosome-labels\", \"uid\": \"5bac2fa6-5346-4bbf-ad88-c9bea5ed69ca\", \"height\": 25, \"options\": {\"name\": \"mm10 Chrom Sizes\"}}, {\"tilesetUid\": \"QDutvmyiSrec5nX4pA5WGQ\", \"server\": \"http://higlass.io/api/v1\", \"type\": \"gene-annotations\", \"uid\": \"b10c1625-a27a-4569-9068-3e0379fa3778\", \"height\": 100, \"options\": {\"name\": \"mm10 Gene Annotations\"}}, {\"tilesetUid\": \"fCUnWnNbRRCaPg_6YNl8qQ\", \"server\": \"http://localhost:8989/api/v1\", \"type\": \"bar\", \"uid\": \"c9bcf9c0-a430-478f-b31e-2c86f417ff50\", \"height\": 25, \"options\": {\"name\": \"L6 CT CTX Glut mCH Frac\"}}, {\"tilesetUid\": \"QaLWlfpfScOdQcLq2PNSfw\", \"server\": \"http://localhost:8989/api/v1\", \"type\": \"bar\", \"uid\": \"2c57e126-1741-42ce-a1c0-5a2e431053fa\", \"height\": 25, \"options\": {\"name\": \"L6 CT CTX Glut mCG Frac\"}}, {\"tilesetUid\": \"cAqqyvTTTKW2hOCR0MGLFA\", \"server\": \"http://localhost:8989/api/v1\", \"type\": \"bar\", \"uid\": \"98a6b8d5-9d63-412d-ab71-9a08675fbcfa\", \"height\": 25, \"options\": {\"name\": \"L6 CT CTX Glut ATAC CPM\"}}], \"center\": [{\"tilesetUid\": \"Ez5hp86NTLqFNAWpYSy-OA\", \"server\": \"http://localhost:8989/api/v1\", \"type\": \"heatmap\", \"uid\": \"39b0514d-aff7-46f4-8c68-8ff6644c77e4\", \"height\": 500, \"options\": {\"name\": \"L6 CT CTX Glut Impute 10K\"}}]}, \"uid\": \"2cf4df27-aecd-4169-8869-22fe1d0ba5ed\", \"initialXDomain\": [9500000.0, 11500000.0], \"initialYDomain\": [9500000.0, 11500000.0], \"zoomLimits\": [1.0, null]}], \"zoomLocks\": {\"locksByViewUid\": {\"5b0daf21-1912-413f-8d89-c8825eed1547\": \"997b1ca4-0f4c-4b31-bf07-057f2dc791e9\", \"a571eb5c-1e36-4920-b036-ccda43e14959\": \"997b1ca4-0f4c-4b31-bf07-057f2dc791e9\", \"2cf4df27-aecd-4169-8869-22fe1d0ba5ed\": \"997b1ca4-0f4c-4b31-bf07-057f2dc791e9\"}, \"locksDict\": {\"997b1ca4-0f4c-4b31-bf07-057f2dc791e9\": {\"uid\": \"997b1ca4-0f4c-4b31-bf07-057f2dc791e9\", \"5b0daf21-1912-413f-8d89-c8825eed1547\": [1.0, 1.0, 1.0], \"a571eb5c-1e36-4920-b036-ccda43e14959\": [1.0, 1.0, 1.0], \"2cf4df27-aecd-4169-8869-22fe1d0ba5ed\": [1.0, 1.0, 1.0]}}}, \"locationLocks\": {\"locksByViewUid\": {\"5b0daf21-1912-413f-8d89-c8825eed1547\": \"997b1ca4-0f4c-4b31-bf07-057f2dc791e9\", \"a571eb5c-1e36-4920-b036-ccda43e14959\": \"997b1ca4-0f4c-4b31-bf07-057f2dc791e9\", \"2cf4df27-aecd-4169-8869-22fe1d0ba5ed\": \"997b1ca4-0f4c-4b31-bf07-057f2dc791e9\"}, \"locksDict\": {\"997b1ca4-0f4c-4b31-bf07-057f2dc791e9\": {\"uid\": \"997b1ca4-0f4c-4b31-bf07-057f2dc791e9\", \"5b0daf21-1912-413f-8d89-c8825eed1547\": [1.0, 1.0, 1.0], \"a571eb5c-1e36-4920-b036-ccda43e14959\": [1.0, 1.0, 1.0], \"2cf4df27-aecd-4169-8869-22fe1d0ba5ed\": [1.0, 1.0, 1.0]}}}, \"valueScaleLocks\": {\"locksByViewUid\": {\"5b0daf21-1912-413f-8d89-c8825eed1547.40502c36-82fd-4a36-8ad7-21df61bc6e19\": \"862c8793-da10-459e-9931-884f50f7242c\", \"a571eb5c-1e36-4920-b036-ccda43e14959.8b5e4713-1be7-498d-a87b-17d0d7b35854\": \"862c8793-da10-459e-9931-884f50f7242c\", \"2cf4df27-aecd-4169-8869-22fe1d0ba5ed.39b0514d-aff7-46f4-8c68-8ff6644c77e4\": \"862c8793-da10-459e-9931-884f50f7242c\", \"5b0daf21-1912-413f-8d89-c8825eed1547.bf780b3b-03c5-427c-9173-c66d12bab017\": \"ed1e9313-144e-45ea-85cb-d953cada8b0c\", \"a571eb5c-1e36-4920-b036-ccda43e14959.3dcbf8a8-0d35-4885-a9c5-d694f5635384\": \"ed1e9313-144e-45ea-85cb-d953cada8b0c\", \"2cf4df27-aecd-4169-8869-22fe1d0ba5ed.5bac2fa6-5346-4bbf-ad88-c9bea5ed69ca\": \"ed1e9313-144e-45ea-85cb-d953cada8b0c\", \"5b0daf21-1912-413f-8d89-c8825eed1547.290a6b15-ed93-4c5d-b9b4-03c25e23cb46\": \"1ef303d0-fe69-4056-9363-844e6308d67f\", \"a571eb5c-1e36-4920-b036-ccda43e14959.ff45e813-9e93-4bcc-80c4-a83f34146787\": \"1ef303d0-fe69-4056-9363-844e6308d67f\", \"2cf4df27-aecd-4169-8869-22fe1d0ba5ed.b10c1625-a27a-4569-9068-3e0379fa3778\": \"1ef303d0-fe69-4056-9363-844e6308d67f\", \"5b0daf21-1912-413f-8d89-c8825eed1547.1b9a4d15-abe8-410b-afb2-cf757279937f\": \"3d6403e3-d934-47b2-8084-1b62d407a70f\", \"a571eb5c-1e36-4920-b036-ccda43e14959.af81919e-5091-4952-a20c-e4d806545b1b\": \"3d6403e3-d934-47b2-8084-1b62d407a70f\", \"2cf4df27-aecd-4169-8869-22fe1d0ba5ed.c9bcf9c0-a430-478f-b31e-2c86f417ff50\": \"3d6403e3-d934-47b2-8084-1b62d407a70f\", \"5b0daf21-1912-413f-8d89-c8825eed1547.a6e6045f-a565-4ce5-a089-6da372bdb68f\": \"a22373f7-0f8b-475c-b034-baf424ee8093\", \"a571eb5c-1e36-4920-b036-ccda43e14959.c73309f6-d2db-4e57-be41-28ae881c407c\": \"a22373f7-0f8b-475c-b034-baf424ee8093\", \"2cf4df27-aecd-4169-8869-22fe1d0ba5ed.2c57e126-1741-42ce-a1c0-5a2e431053fa\": \"a22373f7-0f8b-475c-b034-baf424ee8093\", \"5b0daf21-1912-413f-8d89-c8825eed1547.bc348a32-55ef-4591-8ab3-cbb03d60b152\": \"469f4383-2f6c-4acd-9cdb-642d3a712d04\", \"a571eb5c-1e36-4920-b036-ccda43e14959.e118263a-9697-408e-b71a-7e67f0fe137f\": \"469f4383-2f6c-4acd-9cdb-642d3a712d04\", \"2cf4df27-aecd-4169-8869-22fe1d0ba5ed.98a6b8d5-9d63-412d-ab71-9a08675fbcfa\": \"469f4383-2f6c-4acd-9cdb-642d3a712d04\"}, \"locksDict\": {\"862c8793-da10-459e-9931-884f50f7242c\": {\"uid\": \"862c8793-da10-459e-9931-884f50f7242c\", \"5b0daf21-1912-413f-8d89-c8825eed1547.40502c36-82fd-4a36-8ad7-21df61bc6e19\": {\"view\": \"5b0daf21-1912-413f-8d89-c8825eed1547\", \"track\": \"40502c36-82fd-4a36-8ad7-21df61bc6e19\"}, \"a571eb5c-1e36-4920-b036-ccda43e14959.8b5e4713-1be7-498d-a87b-17d0d7b35854\": {\"view\": \"a571eb5c-1e36-4920-b036-ccda43e14959\", \"track\": \"8b5e4713-1be7-498d-a87b-17d0d7b35854\"}, \"2cf4df27-aecd-4169-8869-22fe1d0ba5ed.39b0514d-aff7-46f4-8c68-8ff6644c77e4\": {\"view\": \"2cf4df27-aecd-4169-8869-22fe1d0ba5ed\", \"track\": \"39b0514d-aff7-46f4-8c68-8ff6644c77e4\"}}, \"ed1e9313-144e-45ea-85cb-d953cada8b0c\": {\"uid\": \"ed1e9313-144e-45ea-85cb-d953cada8b0c\", \"5b0daf21-1912-413f-8d89-c8825eed1547.bf780b3b-03c5-427c-9173-c66d12bab017\": {\"view\": \"5b0daf21-1912-413f-8d89-c8825eed1547\", \"track\": \"bf780b3b-03c5-427c-9173-c66d12bab017\"}, \"a571eb5c-1e36-4920-b036-ccda43e14959.3dcbf8a8-0d35-4885-a9c5-d694f5635384\": {\"view\": \"a571eb5c-1e36-4920-b036-ccda43e14959\", \"track\": \"3dcbf8a8-0d35-4885-a9c5-d694f5635384\"}, \"2cf4df27-aecd-4169-8869-22fe1d0ba5ed.5bac2fa6-5346-4bbf-ad88-c9bea5ed69ca\": {\"view\": \"2cf4df27-aecd-4169-8869-22fe1d0ba5ed\", \"track\": \"5bac2fa6-5346-4bbf-ad88-c9bea5ed69ca\"}}, \"1ef303d0-fe69-4056-9363-844e6308d67f\": {\"uid\": \"1ef303d0-fe69-4056-9363-844e6308d67f\", \"5b0daf21-1912-413f-8d89-c8825eed1547.290a6b15-ed93-4c5d-b9b4-03c25e23cb46\": {\"view\": \"5b0daf21-1912-413f-8d89-c8825eed1547\", \"track\": \"290a6b15-ed93-4c5d-b9b4-03c25e23cb46\"}, \"a571eb5c-1e36-4920-b036-ccda43e14959.ff45e813-9e93-4bcc-80c4-a83f34146787\": {\"view\": \"a571eb5c-1e36-4920-b036-ccda43e14959\", \"track\": \"ff45e813-9e93-4bcc-80c4-a83f34146787\"}, \"2cf4df27-aecd-4169-8869-22fe1d0ba5ed.b10c1625-a27a-4569-9068-3e0379fa3778\": {\"view\": \"2cf4df27-aecd-4169-8869-22fe1d0ba5ed\", \"track\": \"b10c1625-a27a-4569-9068-3e0379fa3778\"}}, \"3d6403e3-d934-47b2-8084-1b62d407a70f\": {\"uid\": \"3d6403e3-d934-47b2-8084-1b62d407a70f\", \"5b0daf21-1912-413f-8d89-c8825eed1547.1b9a4d15-abe8-410b-afb2-cf757279937f\": {\"view\": \"5b0daf21-1912-413f-8d89-c8825eed1547\", \"track\": \"1b9a4d15-abe8-410b-afb2-cf757279937f\"}, \"a571eb5c-1e36-4920-b036-ccda43e14959.af81919e-5091-4952-a20c-e4d806545b1b\": {\"view\": \"a571eb5c-1e36-4920-b036-ccda43e14959\", \"track\": \"af81919e-5091-4952-a20c-e4d806545b1b\"}, \"2cf4df27-aecd-4169-8869-22fe1d0ba5ed.c9bcf9c0-a430-478f-b31e-2c86f417ff50\": {\"view\": \"2cf4df27-aecd-4169-8869-22fe1d0ba5ed\", \"track\": \"c9bcf9c0-a430-478f-b31e-2c86f417ff50\"}}, \"a22373f7-0f8b-475c-b034-baf424ee8093\": {\"uid\": \"a22373f7-0f8b-475c-b034-baf424ee8093\", \"5b0daf21-1912-413f-8d89-c8825eed1547.a6e6045f-a565-4ce5-a089-6da372bdb68f\": {\"view\": \"5b0daf21-1912-413f-8d89-c8825eed1547\", \"track\": \"a6e6045f-a565-4ce5-a089-6da372bdb68f\"}, \"a571eb5c-1e36-4920-b036-ccda43e14959.c73309f6-d2db-4e57-be41-28ae881c407c\": {\"view\": \"a571eb5c-1e36-4920-b036-ccda43e14959\", \"track\": \"c73309f6-d2db-4e57-be41-28ae881c407c\"}, \"2cf4df27-aecd-4169-8869-22fe1d0ba5ed.2c57e126-1741-42ce-a1c0-5a2e431053fa\": {\"view\": \"2cf4df27-aecd-4169-8869-22fe1d0ba5ed\", \"track\": \"2c57e126-1741-42ce-a1c0-5a2e431053fa\"}}, \"469f4383-2f6c-4acd-9cdb-642d3a712d04\": {\"uid\": \"469f4383-2f6c-4acd-9cdb-642d3a712d04\", \"5b0daf21-1912-413f-8d89-c8825eed1547.bc348a32-55ef-4591-8ab3-cbb03d60b152\": {\"view\": \"5b0daf21-1912-413f-8d89-c8825eed1547\", \"track\": \"bc348a32-55ef-4591-8ab3-cbb03d60b152\"}, \"a571eb5c-1e36-4920-b036-ccda43e14959.e118263a-9697-408e-b71a-7e67f0fe137f\": {\"view\": \"a571eb5c-1e36-4920-b036-ccda43e14959\", \"track\": \"e118263a-9697-408e-b71a-7e67f0fe137f\"}, \"2cf4df27-aecd-4169-8869-22fe1d0ba5ed.98a6b8d5-9d63-412d-ab71-9a08675fbcfa\": {\"view\": \"2cf4df27-aecd-4169-8869-22fe1d0ba5ed\", \"track\": \"98a6b8d5-9d63-412d-ab71-9a08675fbcfa\"}}}}},\n",
       "    );\n",
       "    </script>\n",
       "</html>"
      ],
      "text/plain": [
       "Viewconf(editable=True, viewEditable=True, tracksEditable=True, zoomFixed=None, compactLayout=None, exportViewUrl=None, trackSourceServers=None, views=[View(layout=Layout(x=0, y=0, w=4, h=6, moved=None, static=None), tracks=Tracks[TrackT](left=None, right=None, top=[EnumTrack(tilesetUid='EtrWT0VtScixmsmwFSd7zg', server='http://higlass.io/api/v1', type='chromosome-labels', uid='bf780b3b-03c5-427c-9173-c66d12bab017', width=None, height=25, options={'name': 'mm10 Chrom Sizes'}, data=None, chromInfoPath=None, fromViewUid=None, x=None, y=None), EnumTrack(tilesetUid='QDutvmyiSrec5nX4pA5WGQ', server='http://higlass.io/api/v1', type='gene-annotations', uid='290a6b15-ed93-4c5d-b9b4-03c25e23cb46', width=None, height=100, options={'name': 'mm10 Gene Annotations'}, data=None, chromInfoPath=None, fromViewUid=None, x=None, y=None), EnumTrack(tilesetUid='c5WaEeW1R7Ki2WGnURh2TA', server='http://localhost:8989/api/v1', type='bar', uid='1b9a4d15-abe8-410b-afb2-cf757279937f', width=None, height=25, options={'name': 'CA3 Glut mCH Frac'}, data=None, chromInfoPath=None, fromViewUid=None, x=None, y=None), EnumTrack(tilesetUid='SXCR5SEqREuMAE1Dx_LnxA', server='http://localhost:8989/api/v1', type='bar', uid='a6e6045f-a565-4ce5-a089-6da372bdb68f', width=None, height=25, options={'name': 'CA3 Glut mCG Frac'}, data=None, chromInfoPath=None, fromViewUid=None, x=None, y=None), EnumTrack(tilesetUid='bt2BX-WeRneyzeT-xZOF5g', server='http://localhost:8989/api/v1', type='bar', uid='bc348a32-55ef-4591-8ab3-cbb03d60b152', width=None, height=25, options={'name': 'CA3 Glut ATAC CPM'}, data=None, chromInfoPath=None, fromViewUid=None, x=None, y=None)], bottom=None, center=[HeatmapTrack(tilesetUid='DOXSNkb1RSaDh6HrPbUC1g', server='http://localhost:8989/api/v1', type='heatmap', uid='40502c36-82fd-4a36-8ad7-21df61bc6e19', width=None, height=500, options={'name': 'CA3 Glut Impute 10K'}, data=None, position=None, transforms=None)], whole=None, gallery=None), uid='5b0daf21-1912-413f-8d89-c8825eed1547', autocompleteSource=None, chromInfoPath=None, genomePositionSearchBox=None, genomePositionSearchBoxVisible=None, initialXDomain=(10000000.0, 100000000.0), initialYDomain=(9500000.0, 11500000.0), overlays=None, selectionView=None, zoomFixed=None, zoomLimits=(1.0, None)), View(layout=Layout(x=4, y=0, w=4, h=6, moved=None, static=None), tracks=Tracks[TrackT](left=None, right=None, top=[EnumTrack(tilesetUid='EtrWT0VtScixmsmwFSd7zg', server='http://higlass.io/api/v1', type='chromosome-labels', uid='3dcbf8a8-0d35-4885-a9c5-d694f5635384', width=None, height=25, options={'name': 'mm10 Chrom Sizes'}, data=None, chromInfoPath=None, fromViewUid=None, x=None, y=None), EnumTrack(tilesetUid='QDutvmyiSrec5nX4pA5WGQ', server='http://higlass.io/api/v1', type='gene-annotations', uid='ff45e813-9e93-4bcc-80c4-a83f34146787', width=None, height=100, options={'name': 'mm10 Gene Annotations'}, data=None, chromInfoPath=None, fromViewUid=None, x=None, y=None), EnumTrack(tilesetUid='W0OdIv84Q6yMfqpKvubetQ', server='http://localhost:8989/api/v1', type='bar', uid='af81919e-5091-4952-a20c-e4d806545b1b', width=None, height=25, options={'name': 'Sst Gaba mCH Frac'}, data=None, chromInfoPath=None, fromViewUid=None, x=None, y=None), EnumTrack(tilesetUid='P8dzmuiKTWyOn9u2vqLg-w', server='http://localhost:8989/api/v1', type='bar', uid='c73309f6-d2db-4e57-be41-28ae881c407c', width=None, height=25, options={'name': 'Sst Gaba mCG Frac'}, data=None, chromInfoPath=None, fromViewUid=None, x=None, y=None), EnumTrack(tilesetUid='fA7Rwv3MRn6g9gZpjZAhNg', server='http://localhost:8989/api/v1', type='bar', uid='e118263a-9697-408e-b71a-7e67f0fe137f', width=None, height=25, options={'name': 'Sst Gaba ATAC CPM'}, data=None, chromInfoPath=None, fromViewUid=None, x=None, y=None)], bottom=None, center=[HeatmapTrack(tilesetUid='GFd1Y9WRQPGccPITuXmZbg', server='http://localhost:8989/api/v1', type='heatmap', uid='8b5e4713-1be7-498d-a87b-17d0d7b35854', width=None, height=500, options={'name': 'Sst Gaba Impute 10K'}, data=None, position=None, transforms=None)], whole=None, gallery=None), uid='a571eb5c-1e36-4920-b036-ccda43e14959', autocompleteSource=None, chromInfoPath=None, genomePositionSearchBox=None, genomePositionSearchBoxVisible=None, initialXDomain=(9500000.0, 11500000.0), initialYDomain=(9500000.0, 11500000.0), overlays=None, selectionView=None, zoomFixed=None, zoomLimits=(1.0, None)), View(layout=Layout(x=8, y=0, w=4, h=6, moved=None, static=None), tracks=Tracks[TrackT](left=None, right=None, top=[EnumTrack(tilesetUid='EtrWT0VtScixmsmwFSd7zg', server='http://higlass.io/api/v1', type='chromosome-labels', uid='5bac2fa6-5346-4bbf-ad88-c9bea5ed69ca', width=None, height=25, options={'name': 'mm10 Chrom Sizes'}, data=None, chromInfoPath=None, fromViewUid=None, x=None, y=None), EnumTrack(tilesetUid='QDutvmyiSrec5nX4pA5WGQ', server='http://higlass.io/api/v1', type='gene-annotations', uid='b10c1625-a27a-4569-9068-3e0379fa3778', width=None, height=100, options={'name': 'mm10 Gene Annotations'}, data=None, chromInfoPath=None, fromViewUid=None, x=None, y=None), EnumTrack(tilesetUid='fCUnWnNbRRCaPg_6YNl8qQ', server='http://localhost:8989/api/v1', type='bar', uid='c9bcf9c0-a430-478f-b31e-2c86f417ff50', width=None, height=25, options={'name': 'L6 CT CTX Glut mCH Frac'}, data=None, chromInfoPath=None, fromViewUid=None, x=None, y=None), EnumTrack(tilesetUid='QaLWlfpfScOdQcLq2PNSfw', server='http://localhost:8989/api/v1', type='bar', uid='2c57e126-1741-42ce-a1c0-5a2e431053fa', width=None, height=25, options={'name': 'L6 CT CTX Glut mCG Frac'}, data=None, chromInfoPath=None, fromViewUid=None, x=None, y=None), EnumTrack(tilesetUid='cAqqyvTTTKW2hOCR0MGLFA', server='http://localhost:8989/api/v1', type='bar', uid='98a6b8d5-9d63-412d-ab71-9a08675fbcfa', width=None, height=25, options={'name': 'L6 CT CTX Glut ATAC CPM'}, data=None, chromInfoPath=None, fromViewUid=None, x=None, y=None)], bottom=None, center=[HeatmapTrack(tilesetUid='Ez5hp86NTLqFNAWpYSy-OA', server='http://localhost:8989/api/v1', type='heatmap', uid='39b0514d-aff7-46f4-8c68-8ff6644c77e4', width=None, height=500, options={'name': 'L6 CT CTX Glut Impute 10K'}, data=None, position=None, transforms=None)], whole=None, gallery=None), uid='2cf4df27-aecd-4169-8869-22fe1d0ba5ed', autocompleteSource=None, chromInfoPath=None, genomePositionSearchBox=None, genomePositionSearchBoxVisible=None, initialXDomain=(9500000.0, 11500000.0), initialYDomain=(9500000.0, 11500000.0), overlays=None, selectionView=None, zoomFixed=None, zoomLimits=(1.0, None))], zoomLocks=ZoomLocks(locksByViewUid={'5b0daf21-1912-413f-8d89-c8825eed1547': '997b1ca4-0f4c-4b31-bf07-057f2dc791e9', 'a571eb5c-1e36-4920-b036-ccda43e14959': '997b1ca4-0f4c-4b31-bf07-057f2dc791e9', '2cf4df27-aecd-4169-8869-22fe1d0ba5ed': '997b1ca4-0f4c-4b31-bf07-057f2dc791e9'}, locksDict={'997b1ca4-0f4c-4b31-bf07-057f2dc791e9': Lock(uid='997b1ca4-0f4c-4b31-bf07-057f2dc791e9', 5b0daf21-1912-413f-8d89-c8825eed1547=(1.0, 1.0, 1.0), a571eb5c-1e36-4920-b036-ccda43e14959=(1.0, 1.0, 1.0), 2cf4df27-aecd-4169-8869-22fe1d0ba5ed=(1.0, 1.0, 1.0))}), locationLocks=LocationLocks(locksByViewUid={'5b0daf21-1912-413f-8d89-c8825eed1547': '997b1ca4-0f4c-4b31-bf07-057f2dc791e9', 'a571eb5c-1e36-4920-b036-ccda43e14959': '997b1ca4-0f4c-4b31-bf07-057f2dc791e9', '2cf4df27-aecd-4169-8869-22fe1d0ba5ed': '997b1ca4-0f4c-4b31-bf07-057f2dc791e9'}, locksDict={'997b1ca4-0f4c-4b31-bf07-057f2dc791e9': Lock(uid='997b1ca4-0f4c-4b31-bf07-057f2dc791e9', 5b0daf21-1912-413f-8d89-c8825eed1547=(1.0, 1.0, 1.0), a571eb5c-1e36-4920-b036-ccda43e14959=(1.0, 1.0, 1.0), 2cf4df27-aecd-4169-8869-22fe1d0ba5ed=(1.0, 1.0, 1.0))}), valueScaleLocks=ValueScaleLocks(locksByViewUid={'5b0daf21-1912-413f-8d89-c8825eed1547.40502c36-82fd-4a36-8ad7-21df61bc6e19': '862c8793-da10-459e-9931-884f50f7242c', 'a571eb5c-1e36-4920-b036-ccda43e14959.8b5e4713-1be7-498d-a87b-17d0d7b35854': '862c8793-da10-459e-9931-884f50f7242c', '2cf4df27-aecd-4169-8869-22fe1d0ba5ed.39b0514d-aff7-46f4-8c68-8ff6644c77e4': '862c8793-da10-459e-9931-884f50f7242c', '5b0daf21-1912-413f-8d89-c8825eed1547.bf780b3b-03c5-427c-9173-c66d12bab017': 'ed1e9313-144e-45ea-85cb-d953cada8b0c', 'a571eb5c-1e36-4920-b036-ccda43e14959.3dcbf8a8-0d35-4885-a9c5-d694f5635384': 'ed1e9313-144e-45ea-85cb-d953cada8b0c', '2cf4df27-aecd-4169-8869-22fe1d0ba5ed.5bac2fa6-5346-4bbf-ad88-c9bea5ed69ca': 'ed1e9313-144e-45ea-85cb-d953cada8b0c', '5b0daf21-1912-413f-8d89-c8825eed1547.290a6b15-ed93-4c5d-b9b4-03c25e23cb46': '1ef303d0-fe69-4056-9363-844e6308d67f', 'a571eb5c-1e36-4920-b036-ccda43e14959.ff45e813-9e93-4bcc-80c4-a83f34146787': '1ef303d0-fe69-4056-9363-844e6308d67f', '2cf4df27-aecd-4169-8869-22fe1d0ba5ed.b10c1625-a27a-4569-9068-3e0379fa3778': '1ef303d0-fe69-4056-9363-844e6308d67f', '5b0daf21-1912-413f-8d89-c8825eed1547.1b9a4d15-abe8-410b-afb2-cf757279937f': '3d6403e3-d934-47b2-8084-1b62d407a70f', 'a571eb5c-1e36-4920-b036-ccda43e14959.af81919e-5091-4952-a20c-e4d806545b1b': '3d6403e3-d934-47b2-8084-1b62d407a70f', '2cf4df27-aecd-4169-8869-22fe1d0ba5ed.c9bcf9c0-a430-478f-b31e-2c86f417ff50': '3d6403e3-d934-47b2-8084-1b62d407a70f', '5b0daf21-1912-413f-8d89-c8825eed1547.a6e6045f-a565-4ce5-a089-6da372bdb68f': 'a22373f7-0f8b-475c-b034-baf424ee8093', 'a571eb5c-1e36-4920-b036-ccda43e14959.c73309f6-d2db-4e57-be41-28ae881c407c': 'a22373f7-0f8b-475c-b034-baf424ee8093', '2cf4df27-aecd-4169-8869-22fe1d0ba5ed.2c57e126-1741-42ce-a1c0-5a2e431053fa': 'a22373f7-0f8b-475c-b034-baf424ee8093', '5b0daf21-1912-413f-8d89-c8825eed1547.bc348a32-55ef-4591-8ab3-cbb03d60b152': '469f4383-2f6c-4acd-9cdb-642d3a712d04', 'a571eb5c-1e36-4920-b036-ccda43e14959.e118263a-9697-408e-b71a-7e67f0fe137f': '469f4383-2f6c-4acd-9cdb-642d3a712d04', '2cf4df27-aecd-4169-8869-22fe1d0ba5ed.98a6b8d5-9d63-412d-ab71-9a08675fbcfa': '469f4383-2f6c-4acd-9cdb-642d3a712d04'}, locksDict={'862c8793-da10-459e-9931-884f50f7242c': ValueScaleLock(uid='862c8793-da10-459e-9931-884f50f7242c', ignoreOffScreenValues=None, 5b0daf21-1912-413f-8d89-c8825eed1547.40502c36-82fd-4a36-8ad7-21df61bc6e19={'view': '5b0daf21-1912-413f-8d89-c8825eed1547', 'track': '40502c36-82fd-4a36-8ad7-21df61bc6e19'}, a571eb5c-1e36-4920-b036-ccda43e14959.8b5e4713-1be7-498d-a87b-17d0d7b35854={'view': 'a571eb5c-1e36-4920-b036-ccda43e14959', 'track': '8b5e4713-1be7-498d-a87b-17d0d7b35854'}, 2cf4df27-aecd-4169-8869-22fe1d0ba5ed.39b0514d-aff7-46f4-8c68-8ff6644c77e4={'view': '2cf4df27-aecd-4169-8869-22fe1d0ba5ed', 'track': '39b0514d-aff7-46f4-8c68-8ff6644c77e4'}), 'ed1e9313-144e-45ea-85cb-d953cada8b0c': ValueScaleLock(uid='ed1e9313-144e-45ea-85cb-d953cada8b0c', ignoreOffScreenValues=None, 5b0daf21-1912-413f-8d89-c8825eed1547.bf780b3b-03c5-427c-9173-c66d12bab017={'view': '5b0daf21-1912-413f-8d89-c8825eed1547', 'track': 'bf780b3b-03c5-427c-9173-c66d12bab017'}, a571eb5c-1e36-4920-b036-ccda43e14959.3dcbf8a8-0d35-4885-a9c5-d694f5635384={'view': 'a571eb5c-1e36-4920-b036-ccda43e14959', 'track': '3dcbf8a8-0d35-4885-a9c5-d694f5635384'}, 2cf4df27-aecd-4169-8869-22fe1d0ba5ed.5bac2fa6-5346-4bbf-ad88-c9bea5ed69ca={'view': '2cf4df27-aecd-4169-8869-22fe1d0ba5ed', 'track': '5bac2fa6-5346-4bbf-ad88-c9bea5ed69ca'}), '1ef303d0-fe69-4056-9363-844e6308d67f': ValueScaleLock(uid='1ef303d0-fe69-4056-9363-844e6308d67f', ignoreOffScreenValues=None, 5b0daf21-1912-413f-8d89-c8825eed1547.290a6b15-ed93-4c5d-b9b4-03c25e23cb46={'view': '5b0daf21-1912-413f-8d89-c8825eed1547', 'track': '290a6b15-ed93-4c5d-b9b4-03c25e23cb46'}, a571eb5c-1e36-4920-b036-ccda43e14959.ff45e813-9e93-4bcc-80c4-a83f34146787={'view': 'a571eb5c-1e36-4920-b036-ccda43e14959', 'track': 'ff45e813-9e93-4bcc-80c4-a83f34146787'}, 2cf4df27-aecd-4169-8869-22fe1d0ba5ed.b10c1625-a27a-4569-9068-3e0379fa3778={'view': '2cf4df27-aecd-4169-8869-22fe1d0ba5ed', 'track': 'b10c1625-a27a-4569-9068-3e0379fa3778'}), '3d6403e3-d934-47b2-8084-1b62d407a70f': ValueScaleLock(uid='3d6403e3-d934-47b2-8084-1b62d407a70f', ignoreOffScreenValues=None, 5b0daf21-1912-413f-8d89-c8825eed1547.1b9a4d15-abe8-410b-afb2-cf757279937f={'view': '5b0daf21-1912-413f-8d89-c8825eed1547', 'track': '1b9a4d15-abe8-410b-afb2-cf757279937f'}, a571eb5c-1e36-4920-b036-ccda43e14959.af81919e-5091-4952-a20c-e4d806545b1b={'view': 'a571eb5c-1e36-4920-b036-ccda43e14959', 'track': 'af81919e-5091-4952-a20c-e4d806545b1b'}, 2cf4df27-aecd-4169-8869-22fe1d0ba5ed.c9bcf9c0-a430-478f-b31e-2c86f417ff50={'view': '2cf4df27-aecd-4169-8869-22fe1d0ba5ed', 'track': 'c9bcf9c0-a430-478f-b31e-2c86f417ff50'}), 'a22373f7-0f8b-475c-b034-baf424ee8093': ValueScaleLock(uid='a22373f7-0f8b-475c-b034-baf424ee8093', ignoreOffScreenValues=None, 5b0daf21-1912-413f-8d89-c8825eed1547.a6e6045f-a565-4ce5-a089-6da372bdb68f={'view': '5b0daf21-1912-413f-8d89-c8825eed1547', 'track': 'a6e6045f-a565-4ce5-a089-6da372bdb68f'}, a571eb5c-1e36-4920-b036-ccda43e14959.c73309f6-d2db-4e57-be41-28ae881c407c={'view': 'a571eb5c-1e36-4920-b036-ccda43e14959', 'track': 'c73309f6-d2db-4e57-be41-28ae881c407c'}, 2cf4df27-aecd-4169-8869-22fe1d0ba5ed.2c57e126-1741-42ce-a1c0-5a2e431053fa={'view': '2cf4df27-aecd-4169-8869-22fe1d0ba5ed', 'track': '2c57e126-1741-42ce-a1c0-5a2e431053fa'}), '469f4383-2f6c-4acd-9cdb-642d3a712d04': ValueScaleLock(uid='469f4383-2f6c-4acd-9cdb-642d3a712d04', ignoreOffScreenValues=None, 5b0daf21-1912-413f-8d89-c8825eed1547.bc348a32-55ef-4591-8ab3-cbb03d60b152={'view': '5b0daf21-1912-413f-8d89-c8825eed1547', 'track': 'bc348a32-55ef-4591-8ab3-cbb03d60b152'}, a571eb5c-1e36-4920-b036-ccda43e14959.e118263a-9697-408e-b71a-7e67f0fe137f={'view': 'a571eb5c-1e36-4920-b036-ccda43e14959', 'track': 'e118263a-9697-408e-b71a-7e67f0fe137f'}, 2cf4df27-aecd-4169-8869-22fe1d0ba5ed.98a6b8d5-9d63-412d-ab71-9a08675fbcfa={'view': '2cf4df27-aecd-4169-8869-22fe1d0ba5ed', 'track': '98a6b8d5-9d63-412d-ab71-9a08675fbcfa'})}), chromInfoPath=None)"
      ]
     },
     "execution_count": 4,
     "metadata": {},
     "output_type": "execute_result"
    }
   ],
   "source": [
    "vc = multi_cell_type_2d_viewconf(\n",
    "    cell_types=[ct1, ct2, ct3],\n",
    "    server=server,\n",
    "    region1=region1,\n",
    "    region2=region1\n",
    ")\n",
    "vc.views[0].domain(x=[1e7, 1e8], inplace=True)\n",
    "vc"
   ]
  },
  {
   "cell_type": "code",
   "execution_count": null,
   "id": "0598910e-8075-4a1d-8e1b-af070b080cfb",
   "metadata": {},
   "outputs": [],
   "source": []
  },
  {
   "cell_type": "code",
   "execution_count": null,
   "id": "1e9318ed-cd6b-4d5a-add3-1a3f502cb85b",
   "metadata": {},
   "outputs": [],
   "source": []
  },
  {
   "cell_type": "code",
   "execution_count": null,
   "id": "0bde668d-c49d-4795-b634-8f0ca24aa19a",
   "metadata": {},
   "outputs": [],
   "source": []
  },
  {
   "cell_type": "code",
   "execution_count": null,
   "id": "be2f9d80-c67e-465b-bde2-3d1c3389db12",
   "metadata": {},
   "outputs": [],
   "source": []
  },
  {
   "cell_type": "code",
   "execution_count": null,
   "id": "52f14711-c7ea-4f26-a948-f20d473f4fcc",
   "metadata": {},
   "outputs": [],
   "source": []
  },
  {
   "cell_type": "code",
   "execution_count": 5,
   "id": "ccaa0ebe-2a5c-4d11-ba2d-3d2383d5b54c",
   "metadata": {},
   "outputs": [
    {
     "data": {
      "text/html": [
       "\n",
       "<!DOCTYPE html>\n",
       "<html>\n",
       "  <head>\n",
       "    <link rel=\"stylesheet\" href=\"https://esm.sh/higlass@1.12/dist/hglib.css\">\n",
       "    <script src=\"https://unpkg.com/requirejs-toggle\"></script>\n",
       "    \n",
       "    <script src=\"https://unpkg.com/requirejs-toggle\"></script>\n",
       "  </head>\n",
       "  <body>\n",
       "    <div id=\"jupyter-hg-155d4f23f88d41e183eadf425499f6b2\"></div>\n",
       "  </body>\n",
       "  <script type=\"module\">\n",
       "    import hglib from \"https://esm.sh/higlass@1.12?deps=react@17,react-dom@17,pixi.js@6\";\n",
       "    hglib.viewer(\n",
       "      document.getElementById('jupyter-hg-155d4f23f88d41e183eadf425499f6b2'),\n",
       "      {\"editable\": true, \"viewEditable\": true, \"tracksEditable\": true, \"views\": [{\"layout\": {\"x\": 0, \"y\": 0, \"w\": 12, \"h\": 6}, \"tracks\": {\"top\": [{\"tilesetUid\": \"EtrWT0VtScixmsmwFSd7zg\", \"server\": \"http://higlass.io/api/v1\", \"type\": \"chromosome-labels\", \"uid\": \"254280b3-6abd-4a92-9dc8-253ece5fd15c\", \"height\": 25, \"options\": {\"name\": \"mm10 Chrom Sizes\"}}, {\"tilesetUid\": \"QDutvmyiSrec5nX4pA5WGQ\", \"server\": \"http://higlass.io/api/v1\", \"type\": \"gene-annotations\", \"uid\": \"e1dae4d4-72e9-42dd-a673-e9d962ec9354\", \"height\": 100, \"options\": {\"name\": \"mm10 Gene Annotations\"}}, {\"tilesetUid\": \"c5WaEeW1R7Ki2WGnURh2TA\", \"server\": \"http://localhost:8989/api/v1\", \"type\": \"bar\", \"uid\": \"bd47279f-560a-46a1-bf01-52d3bdbf0ed4\", \"height\": 25, \"options\": {\"name\": \"CA3 Glut mCH Frac\", \"showTooltip\": true, \"showMousePosition\": true, \"barFillColor\": \"#16499D\"}}, {\"tilesetUid\": \"W0OdIv84Q6yMfqpKvubetQ\", \"server\": \"http://localhost:8989/api/v1\", \"type\": \"bar\", \"uid\": \"f1d2e82c-2914-4069-ae6b-43c372fb815b\", \"height\": 25, \"options\": {\"name\": \"Sst Gaba mCH Frac\", \"showTooltip\": true, \"showMousePosition\": true, \"barFillColor\": \"#16499D\"}}, {\"tilesetUid\": \"fCUnWnNbRRCaPg_6YNl8qQ\", \"server\": \"http://localhost:8989/api/v1\", \"type\": \"bar\", \"uid\": \"5af6b760-83c2-4570-88ff-689936b04dc5\", \"height\": 25, \"options\": {\"name\": \"L6 CT CTX Glut mCH Frac\", \"showTooltip\": true, \"showMousePosition\": true, \"barFillColor\": \"#16499D\"}}, {\"tilesetUid\": \"SXCR5SEqREuMAE1Dx_LnxA\", \"server\": \"http://localhost:8989/api/v1\", \"type\": \"bar\", \"uid\": \"718585a2-bbd8-490c-9454-f35378b6cf34\", \"height\": 25, \"options\": {\"name\": \"CA3 Glut mCG Frac\", \"showTooltip\": true, \"showMousePosition\": true, \"barFillColor\": \"#36AE37\"}}, {\"tilesetUid\": \"P8dzmuiKTWyOn9u2vqLg-w\", \"server\": \"http://localhost:8989/api/v1\", \"type\": \"bar\", \"uid\": \"9bc570e6-e5aa-41fa-a2d7-26fb93d9ea3d\", \"height\": 25, \"options\": {\"name\": \"Sst Gaba mCG Frac\", \"showTooltip\": true, \"showMousePosition\": true, \"barFillColor\": \"#36AE37\"}}, {\"tilesetUid\": \"QaLWlfpfScOdQcLq2PNSfw\", \"server\": \"http://localhost:8989/api/v1\", \"type\": \"bar\", \"uid\": \"935d83eb-dca9-4e08-a56a-1b4467b0d2c1\", \"height\": 25, \"options\": {\"name\": \"L6 CT CTX Glut mCG Frac\", \"showTooltip\": true, \"showMousePosition\": true, \"barFillColor\": \"#36AE37\"}}, {\"tilesetUid\": \"bt2BX-WeRneyzeT-xZOF5g\", \"server\": \"http://localhost:8989/api/v1\", \"type\": \"bar\", \"uid\": \"8ca31fa1-bfaf-4852-bfcf-cc9271fd851f\", \"height\": 25, \"options\": {\"name\": \"CA3 Glut ATAC CPM\", \"showTooltip\": true, \"showMousePosition\": true, \"barFillColor\": \"#1f77b4\"}}, {\"tilesetUid\": \"fA7Rwv3MRn6g9gZpjZAhNg\", \"server\": \"http://localhost:8989/api/v1\", \"type\": \"bar\", \"uid\": \"03622443-b22e-4b39-9347-b2d3328e2447\", \"height\": 25, \"options\": {\"name\": \"Sst Gaba ATAC CPM\", \"showTooltip\": true, \"showMousePosition\": true, \"barFillColor\": \"#1f77b4\"}}, {\"tilesetUid\": \"cAqqyvTTTKW2hOCR0MGLFA\", \"server\": \"http://localhost:8989/api/v1\", \"type\": \"bar\", \"uid\": \"311aa835-f171-4845-915c-6bff6d007cfd\", \"height\": 25, \"options\": {\"name\": \"L6 CT CTX Glut ATAC CPM\", \"showTooltip\": true, \"showMousePosition\": true, \"barFillColor\": \"#1f77b4\"}}, {\"tilesetUid\": \"N3HKj6v9Qd2LP2bnSNhmMA\", \"server\": \"http://localhost:8989/api/v1\", \"type\": \"bar\", \"uid\": \"c6ac6a7f-3f24-4f6e-aa07-c4e70f3bc45f\", \"height\": 25, \"options\": {\"name\": \"CA3 Glut Domain Boundary\", \"showTooltip\": true, \"showMousePosition\": true, \"barFillColor\": \"#E71F19\"}}, {\"tilesetUid\": \"PMzIUx8IS5mOk8pPfDV-gA\", \"server\": \"http://localhost:8989/api/v1\", \"type\": \"bar\", \"uid\": \"4abbbd39-4751-4c5e-a41c-9c3df53f4527\", \"height\": 25, \"options\": {\"name\": \"Sst Gaba Domain Boundary\", \"showTooltip\": true, \"showMousePosition\": true, \"barFillColor\": \"#E71F19\"}}, {\"tilesetUid\": \"axCCDVoKSQGR1Ci03uH2eA\", \"server\": \"http://localhost:8989/api/v1\", \"type\": \"bar\", \"uid\": \"97e08985-a2a8-4978-8c9e-3312a504210e\", \"height\": 25, \"options\": {\"name\": \"L6 CT CTX Glut Domain Boundary\", \"showTooltip\": true, \"showMousePosition\": true, \"barFillColor\": \"#E71F19\"}}, {\"tilesetUid\": \"OT476i4qRIWo0iMlNP0Yxg\", \"server\": \"http://localhost:8989/api/v1\", \"type\": \"divergent-bar\", \"uid\": \"e770ee75-7afb-4f13-a372-8d5c7c5ee295\", \"height\": 25, \"options\": {\"name\": \"CA3 Glut Compartment Score\", \"showTooltip\": true, \"showMousePosition\": true, \"barFillColor\": \"#E71F19\", \"barFillColorTop\": \"#E71F19\", \"barFillColorBottom\": \"#16499D\"}}, {\"tilesetUid\": \"e860fO0GRByuo_vOFZ3xgQ\", \"server\": \"http://localhost:8989/api/v1\", \"type\": \"divergent-bar\", \"uid\": \"234cdc84-86df-4c94-a937-0d289b2f7479\", \"height\": 25, \"options\": {\"name\": \"Sst Gaba Compartment Score\", \"showTooltip\": true, \"showMousePosition\": true, \"barFillColor\": \"#E71F19\", \"barFillColorTop\": \"#E71F19\", \"barFillColorBottom\": \"#16499D\"}}, {\"tilesetUid\": \"Km3XbwriQUelxb9Y6kU3Ow\", \"server\": \"http://localhost:8989/api/v1\", \"type\": \"divergent-bar\", \"uid\": \"2e3449d8-650a-4551-b3db-9e91c613d604\", \"height\": 25, \"options\": {\"name\": \"L6 CT CTX Glut Compartment Score\", \"showTooltip\": true, \"showMousePosition\": true, \"barFillColor\": \"#E71F19\", \"barFillColorTop\": \"#E71F19\", \"barFillColorBottom\": \"#16499D\"}}]}, \"uid\": \"d50fa6c9-cfde-41ed-8a4f-a88dc62bec1f\", \"zoomLimits\": [1, null]}]},\n",
       "    );\n",
       "    </script>\n",
       "</html>"
      ],
      "text/plain": [
       "Viewconf(editable=True, viewEditable=True, tracksEditable=True, zoomFixed=None, compactLayout=None, exportViewUrl=None, trackSourceServers=None, views=[View(layout=Layout(x=0, y=0, w=12, h=6, moved=None, static=None), tracks=Tracks[TrackT](left=None, right=None, top=[EnumTrack(tilesetUid='EtrWT0VtScixmsmwFSd7zg', server='http://higlass.io/api/v1', type='chromosome-labels', uid='254280b3-6abd-4a92-9dc8-253ece5fd15c', width=None, height=25, options={'name': 'mm10 Chrom Sizes'}, data=None, chromInfoPath=None, fromViewUid=None, x=None, y=None), EnumTrack(tilesetUid='QDutvmyiSrec5nX4pA5WGQ', server='http://higlass.io/api/v1', type='gene-annotations', uid='e1dae4d4-72e9-42dd-a673-e9d962ec9354', width=None, height=100, options={'name': 'mm10 Gene Annotations'}, data=None, chromInfoPath=None, fromViewUid=None, x=None, y=None), EnumTrack(tilesetUid='c5WaEeW1R7Ki2WGnURh2TA', server='http://localhost:8989/api/v1', type='bar', uid='bd47279f-560a-46a1-bf01-52d3bdbf0ed4', width=None, height=25, options={'name': 'CA3 Glut mCH Frac', 'showTooltip': True, 'showMousePosition': True, 'barFillColor': '#16499D'}, data=None, chromInfoPath=None, fromViewUid=None, x=None, y=None), EnumTrack(tilesetUid='W0OdIv84Q6yMfqpKvubetQ', server='http://localhost:8989/api/v1', type='bar', uid='f1d2e82c-2914-4069-ae6b-43c372fb815b', width=None, height=25, options={'name': 'Sst Gaba mCH Frac', 'showTooltip': True, 'showMousePosition': True, 'barFillColor': '#16499D'}, data=None, chromInfoPath=None, fromViewUid=None, x=None, y=None), EnumTrack(tilesetUid='fCUnWnNbRRCaPg_6YNl8qQ', server='http://localhost:8989/api/v1', type='bar', uid='5af6b760-83c2-4570-88ff-689936b04dc5', width=None, height=25, options={'name': 'L6 CT CTX Glut mCH Frac', 'showTooltip': True, 'showMousePosition': True, 'barFillColor': '#16499D'}, data=None, chromInfoPath=None, fromViewUid=None, x=None, y=None), EnumTrack(tilesetUid='SXCR5SEqREuMAE1Dx_LnxA', server='http://localhost:8989/api/v1', type='bar', uid='718585a2-bbd8-490c-9454-f35378b6cf34', width=None, height=25, options={'name': 'CA3 Glut mCG Frac', 'showTooltip': True, 'showMousePosition': True, 'barFillColor': '#36AE37'}, data=None, chromInfoPath=None, fromViewUid=None, x=None, y=None), EnumTrack(tilesetUid='P8dzmuiKTWyOn9u2vqLg-w', server='http://localhost:8989/api/v1', type='bar', uid='9bc570e6-e5aa-41fa-a2d7-26fb93d9ea3d', width=None, height=25, options={'name': 'Sst Gaba mCG Frac', 'showTooltip': True, 'showMousePosition': True, 'barFillColor': '#36AE37'}, data=None, chromInfoPath=None, fromViewUid=None, x=None, y=None), EnumTrack(tilesetUid='QaLWlfpfScOdQcLq2PNSfw', server='http://localhost:8989/api/v1', type='bar', uid='935d83eb-dca9-4e08-a56a-1b4467b0d2c1', width=None, height=25, options={'name': 'L6 CT CTX Glut mCG Frac', 'showTooltip': True, 'showMousePosition': True, 'barFillColor': '#36AE37'}, data=None, chromInfoPath=None, fromViewUid=None, x=None, y=None), EnumTrack(tilesetUid='bt2BX-WeRneyzeT-xZOF5g', server='http://localhost:8989/api/v1', type='bar', uid='8ca31fa1-bfaf-4852-bfcf-cc9271fd851f', width=None, height=25, options={'name': 'CA3 Glut ATAC CPM', 'showTooltip': True, 'showMousePosition': True, 'barFillColor': '#1f77b4'}, data=None, chromInfoPath=None, fromViewUid=None, x=None, y=None), EnumTrack(tilesetUid='fA7Rwv3MRn6g9gZpjZAhNg', server='http://localhost:8989/api/v1', type='bar', uid='03622443-b22e-4b39-9347-b2d3328e2447', width=None, height=25, options={'name': 'Sst Gaba ATAC CPM', 'showTooltip': True, 'showMousePosition': True, 'barFillColor': '#1f77b4'}, data=None, chromInfoPath=None, fromViewUid=None, x=None, y=None), EnumTrack(tilesetUid='cAqqyvTTTKW2hOCR0MGLFA', server='http://localhost:8989/api/v1', type='bar', uid='311aa835-f171-4845-915c-6bff6d007cfd', width=None, height=25, options={'name': 'L6 CT CTX Glut ATAC CPM', 'showTooltip': True, 'showMousePosition': True, 'barFillColor': '#1f77b4'}, data=None, chromInfoPath=None, fromViewUid=None, x=None, y=None), EnumTrack(tilesetUid='N3HKj6v9Qd2LP2bnSNhmMA', server='http://localhost:8989/api/v1', type='bar', uid='c6ac6a7f-3f24-4f6e-aa07-c4e70f3bc45f', width=None, height=25, options={'name': 'CA3 Glut Domain Boundary', 'showTooltip': True, 'showMousePosition': True, 'barFillColor': '#E71F19'}, data=None, chromInfoPath=None, fromViewUid=None, x=None, y=None), EnumTrack(tilesetUid='PMzIUx8IS5mOk8pPfDV-gA', server='http://localhost:8989/api/v1', type='bar', uid='4abbbd39-4751-4c5e-a41c-9c3df53f4527', width=None, height=25, options={'name': 'Sst Gaba Domain Boundary', 'showTooltip': True, 'showMousePosition': True, 'barFillColor': '#E71F19'}, data=None, chromInfoPath=None, fromViewUid=None, x=None, y=None), EnumTrack(tilesetUid='axCCDVoKSQGR1Ci03uH2eA', server='http://localhost:8989/api/v1', type='bar', uid='97e08985-a2a8-4978-8c9e-3312a504210e', width=None, height=25, options={'name': 'L6 CT CTX Glut Domain Boundary', 'showTooltip': True, 'showMousePosition': True, 'barFillColor': '#E71F19'}, data=None, chromInfoPath=None, fromViewUid=None, x=None, y=None), EnumTrack(tilesetUid='OT476i4qRIWo0iMlNP0Yxg', server='http://localhost:8989/api/v1', type='divergent-bar', uid='e770ee75-7afb-4f13-a372-8d5c7c5ee295', width=None, height=25, options={'name': 'CA3 Glut Compartment Score', 'showTooltip': True, 'showMousePosition': True, 'barFillColor': '#E71F19', 'barFillColorTop': '#E71F19', 'barFillColorBottom': '#16499D'}, data=None, chromInfoPath=None, fromViewUid=None, x=None, y=None), EnumTrack(tilesetUid='e860fO0GRByuo_vOFZ3xgQ', server='http://localhost:8989/api/v1', type='divergent-bar', uid='234cdc84-86df-4c94-a937-0d289b2f7479', width=None, height=25, options={'name': 'Sst Gaba Compartment Score', 'showTooltip': True, 'showMousePosition': True, 'barFillColor': '#E71F19', 'barFillColorTop': '#E71F19', 'barFillColorBottom': '#16499D'}, data=None, chromInfoPath=None, fromViewUid=None, x=None, y=None), EnumTrack(tilesetUid='Km3XbwriQUelxb9Y6kU3Ow', server='http://localhost:8989/api/v1', type='divergent-bar', uid='2e3449d8-650a-4551-b3db-9e91c613d604', width=None, height=25, options={'name': 'L6 CT CTX Glut Compartment Score', 'showTooltip': True, 'showMousePosition': True, 'barFillColor': '#E71F19', 'barFillColorTop': '#E71F19', 'barFillColorBottom': '#16499D'}, data=None, chromInfoPath=None, fromViewUid=None, x=None, y=None)], bottom=None, center=None, whole=None, gallery=None), uid='d50fa6c9-cfde-41ed-8a4f-a88dc62bec1f', autocompleteSource=None, chromInfoPath=None, genomePositionSearchBox=None, genomePositionSearchBoxVisible=None, initialXDomain=None, initialYDomain=None, overlays=None, selectionView=None, zoomFixed=None, zoomLimits=(1, None))], zoomLocks=None, locationLocks=None, valueScaleLocks=None, chromInfoPath=None)"
      ]
     },
     "execution_count": 5,
     "metadata": {},
     "output_type": "execute_result"
    }
   ],
   "source": [
    "vc = multi_cell_type_1d_viewconf(\n",
    "    cell_types=[ct1, ct2, ct3],\n",
    "    server=server,\n",
    "    modality_1d=(\"mCH Frac\", \"mCG Frac\", \"ATAC CPM\", \"Domain Boundary\", \"Compartment Score\"),\n",
    "    groupby=\"modality\",\n",
    "    pos_1d=\"top\",\n",
    "    add_genome_track=True,\n",
    "    height_1d=25,\n",
    "    color_by='modality',\n",
    "    view_width=12,\n",
    "    \n",
    ")\n",
    "vc"
   ]
  },
  {
   "cell_type": "code",
   "execution_count": 9,
   "id": "028bd3a9-23c2-4ad8-a1ea-774d586b886c",
   "metadata": {},
   "outputs": [
    {
     "data": {
      "text/html": [
       "\n",
       "<!DOCTYPE html>\n",
       "<html>\n",
       "  <head>\n",
       "    <link rel=\"stylesheet\" href=\"https://esm.sh/higlass@1.12/dist/hglib.css\">\n",
       "    <script src=\"https://unpkg.com/requirejs-toggle\"></script>\n",
       "    \n",
       "    <script src=\"https://unpkg.com/requirejs-toggle\"></script>\n",
       "  </head>\n",
       "  <body>\n",
       "    <div id=\"jupyter-hg-23a13ac75edf4ccbb9a905e03daa1597\"></div>\n",
       "  </body>\n",
       "  <script type=\"module\">\n",
       "    import hglib from \"https://esm.sh/higlass@1.12?deps=react@17,react-dom@17,pixi.js@6\";\n",
       "    hglib.viewer(\n",
       "      document.getElementById('jupyter-hg-23a13ac75edf4ccbb9a905e03daa1597'),\n",
       "      {\"editable\": true, \"viewEditable\": true, \"tracksEditable\": true, \"views\": [{\"layout\": {\"x\": 0, \"y\": 0, \"w\": 4, \"h\": 6}, \"tracks\": {\"top\": [{\"tilesetUid\": \"EtrWT0VtScixmsmwFSd7zg\", \"server\": \"http://higlass.io/api/v1\", \"type\": \"chromosome-labels\", \"uid\": \"726c47c9-05bb-433f-958d-a5724fd83c81\", \"height\": 25, \"options\": {\"name\": \"mm10 Chrom Sizes\"}}, {\"tilesetUid\": \"QDutvmyiSrec5nX4pA5WGQ\", \"server\": \"http://higlass.io/api/v1\", \"type\": \"gene-annotations\", \"uid\": \"8e8b7b64-9a41-47b0-9f46-1b4da7f16cb4\", \"height\": 100, \"options\": {\"name\": \"mm10 Gene Annotations\"}}, {\"tilesetUid\": \"c5WaEeW1R7Ki2WGnURh2TA\", \"server\": \"http://localhost:8989/api/v1\", \"type\": \"bar\", \"uid\": \"b970203e-6da2-4594-8b16-b7ae7220a7bb\", \"height\": 25, \"options\": {\"name\": \"CA3 Glut mCH Frac\"}}, {\"tilesetUid\": \"SXCR5SEqREuMAE1Dx_LnxA\", \"server\": \"http://localhost:8989/api/v1\", \"type\": \"bar\", \"uid\": \"60f54992-a002-48f9-8a74-b5e08152305c\", \"height\": 25, \"options\": {\"name\": \"CA3 Glut mCG Frac\"}}, {\"tilesetUid\": \"bt2BX-WeRneyzeT-xZOF5g\", \"server\": \"http://localhost:8989/api/v1\", \"type\": \"bar\", \"uid\": \"ad197f83-8077-4106-91a4-afd3fc7f9cfe\", \"height\": 25, \"options\": {\"name\": \"CA3 Glut ATAC CPM\"}}], \"center\": [{\"tilesetUid\": \"DOXSNkb1RSaDh6HrPbUC1g\", \"server\": \"http://localhost:8989/api/v1\", \"type\": \"heatmap\", \"uid\": \"1a63a8e0-e2d4-44b3-86cb-c95920ca1aef\", \"height\": 500, \"options\": {\"name\": \"CA3 Glut Impute 10K\"}}]}, \"uid\": \"e0a02bd0-1ba4-48a1-a7ca-c5d1b2e31968\", \"zoomLimits\": [1.0, null]}, {\"layout\": {\"x\": 4, \"y\": 0, \"w\": 4, \"h\": 6}, \"tracks\": {\"top\": [{\"tilesetUid\": \"EtrWT0VtScixmsmwFSd7zg\", \"server\": \"http://higlass.io/api/v1\", \"type\": \"chromosome-labels\", \"uid\": \"726c47c9-05bb-433f-958d-a5724fd83c81\", \"height\": 25, \"options\": {\"name\": \"mm10 Chrom Sizes\"}}, {\"tilesetUid\": \"QDutvmyiSrec5nX4pA5WGQ\", \"server\": \"http://higlass.io/api/v1\", \"type\": \"gene-annotations\", \"uid\": \"8e8b7b64-9a41-47b0-9f46-1b4da7f16cb4\", \"height\": 100, \"options\": {\"name\": \"mm10 Gene Annotations\"}}, {\"type\": \"divergent-bar\", \"uid\": \"8aa28f98-e510-495f-af6f-8168dc1f5bfc\", \"height\": 25, \"options\": {\"name\": \"mCH Frac (left / right) - log scale\", \"valueScaleMin\": 0.1, \"valueScaleMax\": 10, \"valueScaling\": \"log\"}, \"data\": {\"type\": \"divided\", \"children\": [{\"tilesetUid\": \"c5WaEeW1R7Ki2WGnURh2TA\", \"server\": \"http://localhost:8989/api/v1\"}, {\"tilesetUid\": \"W0OdIv84Q6yMfqpKvubetQ\", \"server\": \"http://localhost:8989/api/v1\"}]}}, {\"type\": \"divergent-bar\", \"uid\": \"da7fc6c4-c771-4d1e-b21d-9ca466ff2001\", \"height\": 25, \"options\": {\"name\": \"mCG Frac (left / right) - log scale\", \"valueScaleMin\": 0.1, \"valueScaleMax\": 10, \"valueScaling\": \"log\"}, \"data\": {\"type\": \"divided\", \"children\": [{\"tilesetUid\": \"SXCR5SEqREuMAE1Dx_LnxA\", \"server\": \"http://localhost:8989/api/v1\"}, {\"tilesetUid\": \"P8dzmuiKTWyOn9u2vqLg-w\", \"server\": \"http://localhost:8989/api/v1\"}]}}, {\"type\": \"divergent-bar\", \"uid\": \"7a1f9546-208b-498e-97e7-6f12d5e6b2b1\", \"height\": 25, \"options\": {\"name\": \"ATAC CPM (left / right) - log scale\", \"valueScaleMin\": 0.1, \"valueScaleMax\": 10, \"valueScaling\": \"log\"}, \"data\": {\"type\": \"divided\", \"children\": [{\"tilesetUid\": \"bt2BX-WeRneyzeT-xZOF5g\", \"server\": \"http://localhost:8989/api/v1\"}, {\"tilesetUid\": \"fA7Rwv3MRn6g9gZpjZAhNg\", \"server\": \"http://localhost:8989/api/v1\"}]}}], \"center\": [{\"type\": \"heatmap\", \"uid\": \"9326a19f-f0bf-4525-8a11-c6de5ff4bf9f\", \"height\": 500, \"options\": {\"name\": \"Impute 10K (left / right) - log scale\", \"colorRange\": [\"blue\", \"white\", \"red\"], \"valueScaleMin\": 0.1, \"valueScaleMax\": 10}, \"data\": {\"type\": \"divided\", \"children\": [{\"tilesetUid\": \"DOXSNkb1RSaDh6HrPbUC1g\", \"server\": \"http://localhost:8989/api/v1\"}, {\"tilesetUid\": \"GFd1Y9WRQPGccPITuXmZbg\", \"server\": \"http://localhost:8989/api/v1\"}]}}]}, \"uid\": \"204ea918-16f4-4d12-8c82-b76f0565996a\", \"zoomLimits\": [1.0, null]}, {\"layout\": {\"x\": 8, \"y\": 0, \"w\": 4, \"h\": 6}, \"tracks\": {\"top\": [{\"tilesetUid\": \"EtrWT0VtScixmsmwFSd7zg\", \"server\": \"http://higlass.io/api/v1\", \"type\": \"chromosome-labels\", \"uid\": \"726c47c9-05bb-433f-958d-a5724fd83c81\", \"height\": 25, \"options\": {\"name\": \"mm10 Chrom Sizes\"}}, {\"tilesetUid\": \"QDutvmyiSrec5nX4pA5WGQ\", \"server\": \"http://higlass.io/api/v1\", \"type\": \"gene-annotations\", \"uid\": \"8e8b7b64-9a41-47b0-9f46-1b4da7f16cb4\", \"height\": 100, \"options\": {\"name\": \"mm10 Gene Annotations\"}}, {\"tilesetUid\": \"W0OdIv84Q6yMfqpKvubetQ\", \"server\": \"http://localhost:8989/api/v1\", \"type\": \"bar\", \"uid\": \"b3b15158-7356-4d26-aef9-395742b68d10\", \"height\": 25, \"options\": {\"name\": \"Sst Gaba mCH Frac\"}}, {\"tilesetUid\": \"P8dzmuiKTWyOn9u2vqLg-w\", \"server\": \"http://localhost:8989/api/v1\", \"type\": \"bar\", \"uid\": \"2e3d37e7-0487-4f6d-ba21-885a4ceb6fd6\", \"height\": 25, \"options\": {\"name\": \"Sst Gaba mCG Frac\"}}, {\"tilesetUid\": \"fA7Rwv3MRn6g9gZpjZAhNg\", \"server\": \"http://localhost:8989/api/v1\", \"type\": \"bar\", \"uid\": \"1bc46d1b-f60a-4124-9a49-b42cb4f5083b\", \"height\": 25, \"options\": {\"name\": \"Sst Gaba ATAC CPM\"}}], \"center\": [{\"tilesetUid\": \"GFd1Y9WRQPGccPITuXmZbg\", \"server\": \"http://localhost:8989/api/v1\", \"type\": \"heatmap\", \"uid\": \"3fdd88de-62c8-433a-97de-d8fddbd744b9\", \"height\": 500, \"options\": {\"name\": \"Sst Gaba Impute 10K\"}}]}, \"uid\": \"0eb29649-d21c-4bea-9894-2dd433fe2e83\", \"zoomLimits\": [1.0, null]}], \"zoomLocks\": {\"locksByViewUid\": {\"e0a02bd0-1ba4-48a1-a7ca-c5d1b2e31968\": \"570c4f08-2d60-49f5-b3d7-f44f8b3f2d06\", \"0eb29649-d21c-4bea-9894-2dd433fe2e83\": \"570c4f08-2d60-49f5-b3d7-f44f8b3f2d06\", \"204ea918-16f4-4d12-8c82-b76f0565996a\": \"570c4f08-2d60-49f5-b3d7-f44f8b3f2d06\"}, \"locksDict\": {\"570c4f08-2d60-49f5-b3d7-f44f8b3f2d06\": {\"uid\": \"570c4f08-2d60-49f5-b3d7-f44f8b3f2d06\", \"e0a02bd0-1ba4-48a1-a7ca-c5d1b2e31968\": [1.0, 1.0, 1.0], \"0eb29649-d21c-4bea-9894-2dd433fe2e83\": [1.0, 1.0, 1.0], \"204ea918-16f4-4d12-8c82-b76f0565996a\": [1.0, 1.0, 1.0]}}}, \"locationLocks\": {\"locksByViewUid\": {\"e0a02bd0-1ba4-48a1-a7ca-c5d1b2e31968\": \"570c4f08-2d60-49f5-b3d7-f44f8b3f2d06\", \"0eb29649-d21c-4bea-9894-2dd433fe2e83\": \"570c4f08-2d60-49f5-b3d7-f44f8b3f2d06\", \"204ea918-16f4-4d12-8c82-b76f0565996a\": \"570c4f08-2d60-49f5-b3d7-f44f8b3f2d06\"}, \"locksDict\": {\"570c4f08-2d60-49f5-b3d7-f44f8b3f2d06\": {\"uid\": \"570c4f08-2d60-49f5-b3d7-f44f8b3f2d06\", \"e0a02bd0-1ba4-48a1-a7ca-c5d1b2e31968\": [1.0, 1.0, 1.0], \"0eb29649-d21c-4bea-9894-2dd433fe2e83\": [1.0, 1.0, 1.0], \"204ea918-16f4-4d12-8c82-b76f0565996a\": [1.0, 1.0, 1.0]}}}, \"valueScaleLocks\": {\"locksByViewUid\": {\"e0a02bd0-1ba4-48a1-a7ca-c5d1b2e31968.1a63a8e0-e2d4-44b3-86cb-c95920ca1aef\": \"f556a159-1d5a-4854-8a1c-a4a91cfc9c9d\", \"0eb29649-d21c-4bea-9894-2dd433fe2e83.3fdd88de-62c8-433a-97de-d8fddbd744b9\": \"f556a159-1d5a-4854-8a1c-a4a91cfc9c9d\", \"e0a02bd0-1ba4-48a1-a7ca-c5d1b2e31968.726c47c9-05bb-433f-958d-a5724fd83c81\": \"3779dbea-864a-4b2a-b359-78af24d40b15\", \"0eb29649-d21c-4bea-9894-2dd433fe2e83.726c47c9-05bb-433f-958d-a5724fd83c81\": \"3779dbea-864a-4b2a-b359-78af24d40b15\", \"e0a02bd0-1ba4-48a1-a7ca-c5d1b2e31968.8e8b7b64-9a41-47b0-9f46-1b4da7f16cb4\": \"533264b6-4f36-4cd0-a4c0-e1272daf518b\", \"0eb29649-d21c-4bea-9894-2dd433fe2e83.8e8b7b64-9a41-47b0-9f46-1b4da7f16cb4\": \"533264b6-4f36-4cd0-a4c0-e1272daf518b\", \"e0a02bd0-1ba4-48a1-a7ca-c5d1b2e31968.b970203e-6da2-4594-8b16-b7ae7220a7bb\": \"be985c5b-d3c5-4e9a-8b85-8f35ae91787b\", \"0eb29649-d21c-4bea-9894-2dd433fe2e83.b3b15158-7356-4d26-aef9-395742b68d10\": \"be985c5b-d3c5-4e9a-8b85-8f35ae91787b\", \"e0a02bd0-1ba4-48a1-a7ca-c5d1b2e31968.60f54992-a002-48f9-8a74-b5e08152305c\": \"161c6881-7863-4bec-bac3-e7b62eef3ec9\", \"0eb29649-d21c-4bea-9894-2dd433fe2e83.2e3d37e7-0487-4f6d-ba21-885a4ceb6fd6\": \"161c6881-7863-4bec-bac3-e7b62eef3ec9\", \"e0a02bd0-1ba4-48a1-a7ca-c5d1b2e31968.ad197f83-8077-4106-91a4-afd3fc7f9cfe\": \"835fbd6c-f71a-4a8e-b4ec-e2301c5966a4\", \"0eb29649-d21c-4bea-9894-2dd433fe2e83.1bc46d1b-f60a-4124-9a49-b42cb4f5083b\": \"835fbd6c-f71a-4a8e-b4ec-e2301c5966a4\"}, \"locksDict\": {\"f556a159-1d5a-4854-8a1c-a4a91cfc9c9d\": {\"uid\": \"f556a159-1d5a-4854-8a1c-a4a91cfc9c9d\", \"e0a02bd0-1ba4-48a1-a7ca-c5d1b2e31968.1a63a8e0-e2d4-44b3-86cb-c95920ca1aef\": {\"view\": \"e0a02bd0-1ba4-48a1-a7ca-c5d1b2e31968\", \"track\": \"1a63a8e0-e2d4-44b3-86cb-c95920ca1aef\"}, \"0eb29649-d21c-4bea-9894-2dd433fe2e83.3fdd88de-62c8-433a-97de-d8fddbd744b9\": {\"view\": \"0eb29649-d21c-4bea-9894-2dd433fe2e83\", \"track\": \"3fdd88de-62c8-433a-97de-d8fddbd744b9\"}}, \"3779dbea-864a-4b2a-b359-78af24d40b15\": {\"uid\": \"3779dbea-864a-4b2a-b359-78af24d40b15\", \"e0a02bd0-1ba4-48a1-a7ca-c5d1b2e31968.726c47c9-05bb-433f-958d-a5724fd83c81\": {\"view\": \"e0a02bd0-1ba4-48a1-a7ca-c5d1b2e31968\", \"track\": \"726c47c9-05bb-433f-958d-a5724fd83c81\"}, \"0eb29649-d21c-4bea-9894-2dd433fe2e83.726c47c9-05bb-433f-958d-a5724fd83c81\": {\"view\": \"0eb29649-d21c-4bea-9894-2dd433fe2e83\", \"track\": \"726c47c9-05bb-433f-958d-a5724fd83c81\"}}, \"533264b6-4f36-4cd0-a4c0-e1272daf518b\": {\"uid\": \"533264b6-4f36-4cd0-a4c0-e1272daf518b\", \"e0a02bd0-1ba4-48a1-a7ca-c5d1b2e31968.8e8b7b64-9a41-47b0-9f46-1b4da7f16cb4\": {\"view\": \"e0a02bd0-1ba4-48a1-a7ca-c5d1b2e31968\", \"track\": \"8e8b7b64-9a41-47b0-9f46-1b4da7f16cb4\"}, \"0eb29649-d21c-4bea-9894-2dd433fe2e83.8e8b7b64-9a41-47b0-9f46-1b4da7f16cb4\": {\"view\": \"0eb29649-d21c-4bea-9894-2dd433fe2e83\", \"track\": \"8e8b7b64-9a41-47b0-9f46-1b4da7f16cb4\"}}, \"be985c5b-d3c5-4e9a-8b85-8f35ae91787b\": {\"uid\": \"be985c5b-d3c5-4e9a-8b85-8f35ae91787b\", \"e0a02bd0-1ba4-48a1-a7ca-c5d1b2e31968.b970203e-6da2-4594-8b16-b7ae7220a7bb\": {\"view\": \"e0a02bd0-1ba4-48a1-a7ca-c5d1b2e31968\", \"track\": \"b970203e-6da2-4594-8b16-b7ae7220a7bb\"}, \"0eb29649-d21c-4bea-9894-2dd433fe2e83.b3b15158-7356-4d26-aef9-395742b68d10\": {\"view\": \"0eb29649-d21c-4bea-9894-2dd433fe2e83\", \"track\": \"b3b15158-7356-4d26-aef9-395742b68d10\"}}, \"161c6881-7863-4bec-bac3-e7b62eef3ec9\": {\"uid\": \"161c6881-7863-4bec-bac3-e7b62eef3ec9\", \"e0a02bd0-1ba4-48a1-a7ca-c5d1b2e31968.60f54992-a002-48f9-8a74-b5e08152305c\": {\"view\": \"e0a02bd0-1ba4-48a1-a7ca-c5d1b2e31968\", \"track\": \"60f54992-a002-48f9-8a74-b5e08152305c\"}, \"0eb29649-d21c-4bea-9894-2dd433fe2e83.2e3d37e7-0487-4f6d-ba21-885a4ceb6fd6\": {\"view\": \"0eb29649-d21c-4bea-9894-2dd433fe2e83\", \"track\": \"2e3d37e7-0487-4f6d-ba21-885a4ceb6fd6\"}}, \"835fbd6c-f71a-4a8e-b4ec-e2301c5966a4\": {\"uid\": \"835fbd6c-f71a-4a8e-b4ec-e2301c5966a4\", \"e0a02bd0-1ba4-48a1-a7ca-c5d1b2e31968.ad197f83-8077-4106-91a4-afd3fc7f9cfe\": {\"view\": \"e0a02bd0-1ba4-48a1-a7ca-c5d1b2e31968\", \"track\": \"ad197f83-8077-4106-91a4-afd3fc7f9cfe\"}, \"0eb29649-d21c-4bea-9894-2dd433fe2e83.1bc46d1b-f60a-4124-9a49-b42cb4f5083b\": {\"view\": \"0eb29649-d21c-4bea-9894-2dd433fe2e83\", \"track\": \"1bc46d1b-f60a-4124-9a49-b42cb4f5083b\"}}}}},\n",
       "    );\n",
       "    </script>\n",
       "</html>"
      ],
      "text/plain": [
       "Viewconf(editable=True, viewEditable=True, tracksEditable=True, zoomFixed=None, compactLayout=None, exportViewUrl=None, trackSourceServers=None, views=[View(layout=Layout(x=0, y=0, w=4, h=6, moved=None, static=None), tracks=Tracks[TrackT](left=None, right=None, top=[EnumTrack(tilesetUid='EtrWT0VtScixmsmwFSd7zg', server='http://higlass.io/api/v1', type='chromosome-labels', uid='726c47c9-05bb-433f-958d-a5724fd83c81', width=None, height=25, options={'name': 'mm10 Chrom Sizes'}, data=None, chromInfoPath=None, fromViewUid=None, x=None, y=None), EnumTrack(tilesetUid='QDutvmyiSrec5nX4pA5WGQ', server='http://higlass.io/api/v1', type='gene-annotations', uid='8e8b7b64-9a41-47b0-9f46-1b4da7f16cb4', width=None, height=100, options={'name': 'mm10 Gene Annotations'}, data=None, chromInfoPath=None, fromViewUid=None, x=None, y=None), EnumTrack(tilesetUid='c5WaEeW1R7Ki2WGnURh2TA', server='http://localhost:8989/api/v1', type='bar', uid='b970203e-6da2-4594-8b16-b7ae7220a7bb', width=None, height=25, options={'name': 'CA3 Glut mCH Frac'}, data=None, chromInfoPath=None, fromViewUid=None, x=None, y=None), EnumTrack(tilesetUid='SXCR5SEqREuMAE1Dx_LnxA', server='http://localhost:8989/api/v1', type='bar', uid='60f54992-a002-48f9-8a74-b5e08152305c', width=None, height=25, options={'name': 'CA3 Glut mCG Frac'}, data=None, chromInfoPath=None, fromViewUid=None, x=None, y=None), EnumTrack(tilesetUid='bt2BX-WeRneyzeT-xZOF5g', server='http://localhost:8989/api/v1', type='bar', uid='ad197f83-8077-4106-91a4-afd3fc7f9cfe', width=None, height=25, options={'name': 'CA3 Glut ATAC CPM'}, data=None, chromInfoPath=None, fromViewUid=None, x=None, y=None)], bottom=None, center=[HeatmapTrack(tilesetUid='DOXSNkb1RSaDh6HrPbUC1g', server='http://localhost:8989/api/v1', type='heatmap', uid='1a63a8e0-e2d4-44b3-86cb-c95920ca1aef', width=None, height=500, options={'name': 'CA3 Glut Impute 10K'}, data=None, position=None, transforms=None)], whole=None, gallery=None), uid='e0a02bd0-1ba4-48a1-a7ca-c5d1b2e31968', autocompleteSource=None, chromInfoPath=None, genomePositionSearchBox=None, genomePositionSearchBoxVisible=None, initialXDomain=None, initialYDomain=None, overlays=None, selectionView=None, zoomFixed=None, zoomLimits=(1.0, None)), View(layout=Layout(x=4, y=0, w=4, h=6, moved=None, static=None), tracks=Tracks[TrackT](left=None, right=None, top=[EnumTrack(tilesetUid='EtrWT0VtScixmsmwFSd7zg', server='http://higlass.io/api/v1', type='chromosome-labels', uid='726c47c9-05bb-433f-958d-a5724fd83c81', width=None, height=25, options={'name': 'mm10 Chrom Sizes'}, data=None, chromInfoPath=None, fromViewUid=None, x=None, y=None), EnumTrack(tilesetUid='QDutvmyiSrec5nX4pA5WGQ', server='http://higlass.io/api/v1', type='gene-annotations', uid='8e8b7b64-9a41-47b0-9f46-1b4da7f16cb4', width=None, height=100, options={'name': 'mm10 Gene Annotations'}, data=None, chromInfoPath=None, fromViewUid=None, x=None, y=None), EnumTrack(tilesetUid=None, server=None, type='divergent-bar', uid='8aa28f98-e510-495f-af6f-8168dc1f5bfc', width=None, height=25, options={'name': 'mCH Frac (left / right) - log scale', 'valueScaleMin': 0.1, 'valueScaleMax': 10, 'valueScaling': 'log'}, data=Data(type='divided', url=None, server=None, filetype=None, children=[{'tilesetUid': 'c5WaEeW1R7Ki2WGnURh2TA', 'server': 'http://localhost:8989/api/v1'}, {'tilesetUid': 'W0OdIv84Q6yMfqpKvubetQ', 'server': 'http://localhost:8989/api/v1'}], tilesetInfo=None, tiles=None), chromInfoPath=None, fromViewUid=None, x=None, y=None), EnumTrack(tilesetUid=None, server=None, type='divergent-bar', uid='da7fc6c4-c771-4d1e-b21d-9ca466ff2001', width=None, height=25, options={'name': 'mCG Frac (left / right) - log scale', 'valueScaleMin': 0.1, 'valueScaleMax': 10, 'valueScaling': 'log'}, data=Data(type='divided', url=None, server=None, filetype=None, children=[{'tilesetUid': 'SXCR5SEqREuMAE1Dx_LnxA', 'server': 'http://localhost:8989/api/v1'}, {'tilesetUid': 'P8dzmuiKTWyOn9u2vqLg-w', 'server': 'http://localhost:8989/api/v1'}], tilesetInfo=None, tiles=None), chromInfoPath=None, fromViewUid=None, x=None, y=None), EnumTrack(tilesetUid=None, server=None, type='divergent-bar', uid='7a1f9546-208b-498e-97e7-6f12d5e6b2b1', width=None, height=25, options={'name': 'ATAC CPM (left / right) - log scale', 'valueScaleMin': 0.1, 'valueScaleMax': 10, 'valueScaling': 'log'}, data=Data(type='divided', url=None, server=None, filetype=None, children=[{'tilesetUid': 'bt2BX-WeRneyzeT-xZOF5g', 'server': 'http://localhost:8989/api/v1'}, {'tilesetUid': 'fA7Rwv3MRn6g9gZpjZAhNg', 'server': 'http://localhost:8989/api/v1'}], tilesetInfo=None, tiles=None), chromInfoPath=None, fromViewUid=None, x=None, y=None)], bottom=None, center=[HeatmapTrack(tilesetUid=None, server=None, type='heatmap', uid='9326a19f-f0bf-4525-8a11-c6de5ff4bf9f', width=None, height=500, options={'name': 'Impute 10K (left / right) - log scale', 'colorRange': ['blue', 'white', 'red'], 'valueScaleMin': 0.1, 'valueScaleMax': 10}, data=Data(type='divided', url=None, server=None, filetype=None, children=[{'tilesetUid': 'DOXSNkb1RSaDh6HrPbUC1g', 'server': 'http://localhost:8989/api/v1'}, {'tilesetUid': 'GFd1Y9WRQPGccPITuXmZbg', 'server': 'http://localhost:8989/api/v1'}], tilesetInfo=None, tiles=None), position=None, transforms=None)], whole=None, gallery=None), uid='204ea918-16f4-4d12-8c82-b76f0565996a', autocompleteSource=None, chromInfoPath=None, genomePositionSearchBox=None, genomePositionSearchBoxVisible=None, initialXDomain=None, initialYDomain=None, overlays=None, selectionView=None, zoomFixed=None, zoomLimits=(1.0, None)), View(layout=Layout(x=8, y=0, w=4, h=6, moved=None, static=None), tracks=Tracks[TrackT](left=None, right=None, top=[EnumTrack(tilesetUid='EtrWT0VtScixmsmwFSd7zg', server='http://higlass.io/api/v1', type='chromosome-labels', uid='726c47c9-05bb-433f-958d-a5724fd83c81', width=None, height=25, options={'name': 'mm10 Chrom Sizes'}, data=None, chromInfoPath=None, fromViewUid=None, x=None, y=None), EnumTrack(tilesetUid='QDutvmyiSrec5nX4pA5WGQ', server='http://higlass.io/api/v1', type='gene-annotations', uid='8e8b7b64-9a41-47b0-9f46-1b4da7f16cb4', width=None, height=100, options={'name': 'mm10 Gene Annotations'}, data=None, chromInfoPath=None, fromViewUid=None, x=None, y=None), EnumTrack(tilesetUid='W0OdIv84Q6yMfqpKvubetQ', server='http://localhost:8989/api/v1', type='bar', uid='b3b15158-7356-4d26-aef9-395742b68d10', width=None, height=25, options={'name': 'Sst Gaba mCH Frac'}, data=None, chromInfoPath=None, fromViewUid=None, x=None, y=None), EnumTrack(tilesetUid='P8dzmuiKTWyOn9u2vqLg-w', server='http://localhost:8989/api/v1', type='bar', uid='2e3d37e7-0487-4f6d-ba21-885a4ceb6fd6', width=None, height=25, options={'name': 'Sst Gaba mCG Frac'}, data=None, chromInfoPath=None, fromViewUid=None, x=None, y=None), EnumTrack(tilesetUid='fA7Rwv3MRn6g9gZpjZAhNg', server='http://localhost:8989/api/v1', type='bar', uid='1bc46d1b-f60a-4124-9a49-b42cb4f5083b', width=None, height=25, options={'name': 'Sst Gaba ATAC CPM'}, data=None, chromInfoPath=None, fromViewUid=None, x=None, y=None)], bottom=None, center=[HeatmapTrack(tilesetUid='GFd1Y9WRQPGccPITuXmZbg', server='http://localhost:8989/api/v1', type='heatmap', uid='3fdd88de-62c8-433a-97de-d8fddbd744b9', width=None, height=500, options={'name': 'Sst Gaba Impute 10K'}, data=None, position=None, transforms=None)], whole=None, gallery=None), uid='0eb29649-d21c-4bea-9894-2dd433fe2e83', autocompleteSource=None, chromInfoPath=None, genomePositionSearchBox=None, genomePositionSearchBoxVisible=None, initialXDomain=None, initialYDomain=None, overlays=None, selectionView=None, zoomFixed=None, zoomLimits=(1.0, None))], zoomLocks=ZoomLocks(locksByViewUid={'e0a02bd0-1ba4-48a1-a7ca-c5d1b2e31968': '570c4f08-2d60-49f5-b3d7-f44f8b3f2d06', '0eb29649-d21c-4bea-9894-2dd433fe2e83': '570c4f08-2d60-49f5-b3d7-f44f8b3f2d06', '204ea918-16f4-4d12-8c82-b76f0565996a': '570c4f08-2d60-49f5-b3d7-f44f8b3f2d06'}, locksDict={'570c4f08-2d60-49f5-b3d7-f44f8b3f2d06': Lock(uid='570c4f08-2d60-49f5-b3d7-f44f8b3f2d06', e0a02bd0-1ba4-48a1-a7ca-c5d1b2e31968=(1.0, 1.0, 1.0), 0eb29649-d21c-4bea-9894-2dd433fe2e83=(1.0, 1.0, 1.0), 204ea918-16f4-4d12-8c82-b76f0565996a=(1.0, 1.0, 1.0))}), locationLocks=LocationLocks(locksByViewUid={'e0a02bd0-1ba4-48a1-a7ca-c5d1b2e31968': '570c4f08-2d60-49f5-b3d7-f44f8b3f2d06', '0eb29649-d21c-4bea-9894-2dd433fe2e83': '570c4f08-2d60-49f5-b3d7-f44f8b3f2d06', '204ea918-16f4-4d12-8c82-b76f0565996a': '570c4f08-2d60-49f5-b3d7-f44f8b3f2d06'}, locksDict={'570c4f08-2d60-49f5-b3d7-f44f8b3f2d06': Lock(uid='570c4f08-2d60-49f5-b3d7-f44f8b3f2d06', e0a02bd0-1ba4-48a1-a7ca-c5d1b2e31968=(1.0, 1.0, 1.0), 0eb29649-d21c-4bea-9894-2dd433fe2e83=(1.0, 1.0, 1.0), 204ea918-16f4-4d12-8c82-b76f0565996a=(1.0, 1.0, 1.0))}), valueScaleLocks=ValueScaleLocks(locksByViewUid={'e0a02bd0-1ba4-48a1-a7ca-c5d1b2e31968.1a63a8e0-e2d4-44b3-86cb-c95920ca1aef': 'f556a159-1d5a-4854-8a1c-a4a91cfc9c9d', '0eb29649-d21c-4bea-9894-2dd433fe2e83.3fdd88de-62c8-433a-97de-d8fddbd744b9': 'f556a159-1d5a-4854-8a1c-a4a91cfc9c9d', 'e0a02bd0-1ba4-48a1-a7ca-c5d1b2e31968.726c47c9-05bb-433f-958d-a5724fd83c81': '3779dbea-864a-4b2a-b359-78af24d40b15', '0eb29649-d21c-4bea-9894-2dd433fe2e83.726c47c9-05bb-433f-958d-a5724fd83c81': '3779dbea-864a-4b2a-b359-78af24d40b15', 'e0a02bd0-1ba4-48a1-a7ca-c5d1b2e31968.8e8b7b64-9a41-47b0-9f46-1b4da7f16cb4': '533264b6-4f36-4cd0-a4c0-e1272daf518b', '0eb29649-d21c-4bea-9894-2dd433fe2e83.8e8b7b64-9a41-47b0-9f46-1b4da7f16cb4': '533264b6-4f36-4cd0-a4c0-e1272daf518b', 'e0a02bd0-1ba4-48a1-a7ca-c5d1b2e31968.b970203e-6da2-4594-8b16-b7ae7220a7bb': 'be985c5b-d3c5-4e9a-8b85-8f35ae91787b', '0eb29649-d21c-4bea-9894-2dd433fe2e83.b3b15158-7356-4d26-aef9-395742b68d10': 'be985c5b-d3c5-4e9a-8b85-8f35ae91787b', 'e0a02bd0-1ba4-48a1-a7ca-c5d1b2e31968.60f54992-a002-48f9-8a74-b5e08152305c': '161c6881-7863-4bec-bac3-e7b62eef3ec9', '0eb29649-d21c-4bea-9894-2dd433fe2e83.2e3d37e7-0487-4f6d-ba21-885a4ceb6fd6': '161c6881-7863-4bec-bac3-e7b62eef3ec9', 'e0a02bd0-1ba4-48a1-a7ca-c5d1b2e31968.ad197f83-8077-4106-91a4-afd3fc7f9cfe': '835fbd6c-f71a-4a8e-b4ec-e2301c5966a4', '0eb29649-d21c-4bea-9894-2dd433fe2e83.1bc46d1b-f60a-4124-9a49-b42cb4f5083b': '835fbd6c-f71a-4a8e-b4ec-e2301c5966a4'}, locksDict={'f556a159-1d5a-4854-8a1c-a4a91cfc9c9d': ValueScaleLock(uid='f556a159-1d5a-4854-8a1c-a4a91cfc9c9d', ignoreOffScreenValues=None, e0a02bd0-1ba4-48a1-a7ca-c5d1b2e31968.1a63a8e0-e2d4-44b3-86cb-c95920ca1aef={'view': 'e0a02bd0-1ba4-48a1-a7ca-c5d1b2e31968', 'track': '1a63a8e0-e2d4-44b3-86cb-c95920ca1aef'}, 0eb29649-d21c-4bea-9894-2dd433fe2e83.3fdd88de-62c8-433a-97de-d8fddbd744b9={'view': '0eb29649-d21c-4bea-9894-2dd433fe2e83', 'track': '3fdd88de-62c8-433a-97de-d8fddbd744b9'}), '3779dbea-864a-4b2a-b359-78af24d40b15': ValueScaleLock(uid='3779dbea-864a-4b2a-b359-78af24d40b15', ignoreOffScreenValues=None, e0a02bd0-1ba4-48a1-a7ca-c5d1b2e31968.726c47c9-05bb-433f-958d-a5724fd83c81={'view': 'e0a02bd0-1ba4-48a1-a7ca-c5d1b2e31968', 'track': '726c47c9-05bb-433f-958d-a5724fd83c81'}, 0eb29649-d21c-4bea-9894-2dd433fe2e83.726c47c9-05bb-433f-958d-a5724fd83c81={'view': '0eb29649-d21c-4bea-9894-2dd433fe2e83', 'track': '726c47c9-05bb-433f-958d-a5724fd83c81'}), '533264b6-4f36-4cd0-a4c0-e1272daf518b': ValueScaleLock(uid='533264b6-4f36-4cd0-a4c0-e1272daf518b', ignoreOffScreenValues=None, e0a02bd0-1ba4-48a1-a7ca-c5d1b2e31968.8e8b7b64-9a41-47b0-9f46-1b4da7f16cb4={'view': 'e0a02bd0-1ba4-48a1-a7ca-c5d1b2e31968', 'track': '8e8b7b64-9a41-47b0-9f46-1b4da7f16cb4'}, 0eb29649-d21c-4bea-9894-2dd433fe2e83.8e8b7b64-9a41-47b0-9f46-1b4da7f16cb4={'view': '0eb29649-d21c-4bea-9894-2dd433fe2e83', 'track': '8e8b7b64-9a41-47b0-9f46-1b4da7f16cb4'}), 'be985c5b-d3c5-4e9a-8b85-8f35ae91787b': ValueScaleLock(uid='be985c5b-d3c5-4e9a-8b85-8f35ae91787b', ignoreOffScreenValues=None, e0a02bd0-1ba4-48a1-a7ca-c5d1b2e31968.b970203e-6da2-4594-8b16-b7ae7220a7bb={'view': 'e0a02bd0-1ba4-48a1-a7ca-c5d1b2e31968', 'track': 'b970203e-6da2-4594-8b16-b7ae7220a7bb'}, 0eb29649-d21c-4bea-9894-2dd433fe2e83.b3b15158-7356-4d26-aef9-395742b68d10={'view': '0eb29649-d21c-4bea-9894-2dd433fe2e83', 'track': 'b3b15158-7356-4d26-aef9-395742b68d10'}), '161c6881-7863-4bec-bac3-e7b62eef3ec9': ValueScaleLock(uid='161c6881-7863-4bec-bac3-e7b62eef3ec9', ignoreOffScreenValues=None, e0a02bd0-1ba4-48a1-a7ca-c5d1b2e31968.60f54992-a002-48f9-8a74-b5e08152305c={'view': 'e0a02bd0-1ba4-48a1-a7ca-c5d1b2e31968', 'track': '60f54992-a002-48f9-8a74-b5e08152305c'}, 0eb29649-d21c-4bea-9894-2dd433fe2e83.2e3d37e7-0487-4f6d-ba21-885a4ceb6fd6={'view': '0eb29649-d21c-4bea-9894-2dd433fe2e83', 'track': '2e3d37e7-0487-4f6d-ba21-885a4ceb6fd6'}), '835fbd6c-f71a-4a8e-b4ec-e2301c5966a4': ValueScaleLock(uid='835fbd6c-f71a-4a8e-b4ec-e2301c5966a4', ignoreOffScreenValues=None, e0a02bd0-1ba4-48a1-a7ca-c5d1b2e31968.ad197f83-8077-4106-91a4-afd3fc7f9cfe={'view': 'e0a02bd0-1ba4-48a1-a7ca-c5d1b2e31968', 'track': 'ad197f83-8077-4106-91a4-afd3fc7f9cfe'}, 0eb29649-d21c-4bea-9894-2dd433fe2e83.1bc46d1b-f60a-4124-9a49-b42cb4f5083b={'view': '0eb29649-d21c-4bea-9894-2dd433fe2e83', 'track': '1bc46d1b-f60a-4124-9a49-b42cb4f5083b'})}), chromInfoPath=None)"
      ]
     },
     "execution_count": 9,
     "metadata": {},
     "output_type": "execute_result"
    }
   ],
   "source": [
    "vc = two_cell_type_diff_viewconf(\n",
    "    cell_type_1=ct1, \n",
    "    cell_type_2=ct2, \n",
    "    modality_1d=modality_1d, \n",
    "    modality_2d=modality_2d,\n",
    "    server=server, \n",
    "    height_1d=25, \n",
    "    height_2d=500, \n",
    "    pos_1d=\"top\"\n",
    ")"
   ]
  },
  {
   "cell_type": "code",
   "execution_count": 7,
   "id": "1b15472b-1d78-4439-9b41-48e9b6ff6eb7",
   "metadata": {},
   "outputs": [],
   "source": [
    "height_1d = 25\n",
    "height_2d = 500\n",
    "domain_x = [1e7, 1.01e7]\n",
    "domain_y = [1.03e7, 1.04e7]"
   ]
  },
  {
   "cell_type": "code",
   "execution_count": 8,
   "id": "31ea2226-2521-4a03-a4f5-8eb112b62be0",
   "metadata": {},
   "outputs": [
    {
     "data": {
      "text/html": [
       "\n",
       "<!DOCTYPE html>\n",
       "<html>\n",
       "  <head>\n",
       "    <link rel=\"stylesheet\" href=\"https://esm.sh/higlass@1.12/dist/hglib.css\">\n",
       "    <script src=\"https://unpkg.com/requirejs-toggle\"></script>\n",
       "    \n",
       "    <script src=\"https://unpkg.com/requirejs-toggle\"></script>\n",
       "  </head>\n",
       "  <body>\n",
       "    <div id=\"jupyter-hg-d2f8707ccb484cb48d9c2ff41784f7d7\"></div>\n",
       "  </body>\n",
       "  <script type=\"module\">\n",
       "    import hglib from \"https://esm.sh/higlass@1.12?deps=react@17,react-dom@17,pixi.js@6\";\n",
       "    hglib.viewer(\n",
       "      document.getElementById('jupyter-hg-d2f8707ccb484cb48d9c2ff41784f7d7'),\n",
       "      {\"editable\": true, \"viewEditable\": true, \"tracksEditable\": true, \"views\": [{\"layout\": {\"x\": 0, \"y\": 0, \"w\": 6, \"h\": 6}, \"tracks\": {\"left\": [{\"tilesetUid\": \"EtrWT0VtScixmsmwFSd7zg\", \"server\": \"http://higlass.io/api/v1\", \"type\": \"chromosome-labels\", \"uid\": \"9962bee1-5279-4f67-a3a1-478cfb5c6244\", \"height\": 25, \"options\": {\"name\": \"mm10 Chrom Sizes\"}}, {\"tilesetUid\": \"QDutvmyiSrec5nX4pA5WGQ\", \"server\": \"http://higlass.io/api/v1\", \"type\": \"gene-annotations\", \"uid\": \"17c499a4-137f-47ec-8d15-70cded1b038f\", \"height\": 100, \"options\": {\"name\": \"mm10 Gene Annotations\"}}, {\"tilesetUid\": \"bt2BX-WeRneyzeT-xZOF5g\", \"server\": \"http://localhost:8989/api/v1\", \"type\": \"bar\", \"uid\": \"fe83cc7b-095c-4a29-ab0e-f402e90a62b8\", \"height\": 25, \"options\": {\"name\": \"CA3 Glut ATAC CPM\"}}, {\"tilesetUid\": \"c5WaEeW1R7Ki2WGnURh2TA\", \"server\": \"http://localhost:8989/api/v1\", \"type\": \"bar\", \"uid\": \"bd33e2d5-44c8-4b34-85ea-6c979cf2b17a\", \"height\": 25, \"options\": {\"name\": \"CA3 Glut mCH Frac\"}}, {\"tilesetUid\": \"SXCR5SEqREuMAE1Dx_LnxA\", \"server\": \"http://localhost:8989/api/v1\", \"type\": \"bar\", \"uid\": \"34438939-86dd-442f-8bc3-4e8713a049a9\", \"height\": 25, \"options\": {\"name\": \"CA3 Glut mCG Frac\"}}], \"top\": [{\"tilesetUid\": \"EtrWT0VtScixmsmwFSd7zg\", \"server\": \"http://higlass.io/api/v1\", \"type\": \"chromosome-labels\", \"uid\": \"00abf8a0-09a2-46fe-b81f-aea291865c60\", \"height\": 25, \"options\": {\"name\": \"mm10 Chrom Sizes\"}}, {\"tilesetUid\": \"QDutvmyiSrec5nX4pA5WGQ\", \"server\": \"http://higlass.io/api/v1\", \"type\": \"gene-annotations\", \"uid\": \"9ef30976-ea36-407a-9e95-818e8690a531\", \"height\": 100, \"options\": {\"name\": \"mm10 Gene Annotations\"}}, {\"tilesetUid\": \"bt2BX-WeRneyzeT-xZOF5g\", \"server\": \"http://localhost:8989/api/v1\", \"type\": \"bar\", \"uid\": \"819cb15d-e3cc-4334-b291-08b38d7d6fd5\", \"height\": 25, \"options\": {\"name\": \"CA3 Glut ATAC CPM\"}}, {\"tilesetUid\": \"c5WaEeW1R7Ki2WGnURh2TA\", \"server\": \"http://localhost:8989/api/v1\", \"type\": \"bar\", \"uid\": \"68f48577-6849-4274-9ba1-f403c0a03087\", \"height\": 25, \"options\": {\"name\": \"CA3 Glut mCH Frac\"}}, {\"tilesetUid\": \"SXCR5SEqREuMAE1Dx_LnxA\", \"server\": \"http://localhost:8989/api/v1\", \"type\": \"bar\", \"uid\": \"48a1efca-7065-4060-b0e7-aab53eca4c3c\", \"height\": 25, \"options\": {\"name\": \"CA3 Glut mCG Frac\"}}], \"center\": [{\"tilesetUid\": \"DOXSNkb1RSaDh6HrPbUC1g\", \"server\": \"http://localhost:8989/api/v1\", \"type\": \"heatmap\", \"uid\": \"552ab8d2-7f7f-4dd0-8a81-11945dd36927\", \"height\": 500, \"options\": {\"name\": \"CA3 Glut Impute 10K\"}}, {\"type\": \"viewport-projection-center\", \"uid\": \"b2234bd3-4148-471f-b078-eb12b3c8f058\", \"fromViewUid\": \"ef3c78c0-f62c-4caa-bc74-20f730b65952\"}]}, \"uid\": \"4bb7a15c-78ce-420d-aaea-acf6ba1b1319\", \"initialXDomain\": [9500000.0, 19500000.0], \"initialYDomain\": [9500000.0, 19500000.0], \"zoomLimits\": [1.0, null]}, {\"layout\": {\"x\": 6, \"y\": 0, \"w\": 6, \"h\": 6}, \"tracks\": {\"right\": [{\"tilesetUid\": \"bt2BX-WeRneyzeT-xZOF5g\", \"server\": \"http://localhost:8989/api/v1\", \"type\": \"bar\", \"uid\": \"45e0244f-57e5-4ec6-845c-6034c6a4824b\", \"height\": 25, \"options\": {\"name\": \"CA3 Glut ATAC CPM\"}}, {\"tilesetUid\": \"c5WaEeW1R7Ki2WGnURh2TA\", \"server\": \"http://localhost:8989/api/v1\", \"type\": \"bar\", \"uid\": \"abbe2620-e85e-45bd-b910-a109c03e5c86\", \"height\": 25, \"options\": {\"name\": \"CA3 Glut mCH Frac\"}}, {\"tilesetUid\": \"SXCR5SEqREuMAE1Dx_LnxA\", \"server\": \"http://localhost:8989/api/v1\", \"type\": \"bar\", \"uid\": \"80c9a40a-0807-48ed-bfca-7bb83529aba8\", \"height\": 25, \"options\": {\"name\": \"CA3 Glut mCG Frac\"}}, {\"tilesetUid\": \"EtrWT0VtScixmsmwFSd7zg\", \"server\": \"http://higlass.io/api/v1\", \"type\": \"chromosome-labels\", \"uid\": \"84ae4e81-8fa1-4084-942e-c9dbae35327c\", \"height\": 25, \"options\": {\"name\": \"mm10 Chrom Sizes\"}}, {\"tilesetUid\": \"QDutvmyiSrec5nX4pA5WGQ\", \"server\": \"http://higlass.io/api/v1\", \"type\": \"gene-annotations\", \"uid\": \"4c1d6d26-93f9-4a3e-bd63-2c76d0767614\", \"height\": 100, \"options\": {\"name\": \"mm10 Gene Annotations\"}}], \"top\": [{\"tilesetUid\": \"EtrWT0VtScixmsmwFSd7zg\", \"server\": \"http://higlass.io/api/v1\", \"type\": \"chromosome-labels\", \"uid\": \"00abf8a0-09a2-46fe-b81f-aea291865c60\", \"height\": 25, \"options\": {\"name\": \"mm10 Chrom Sizes\"}}, {\"tilesetUid\": \"QDutvmyiSrec5nX4pA5WGQ\", \"server\": \"http://higlass.io/api/v1\", \"type\": \"gene-annotations\", \"uid\": \"9ef30976-ea36-407a-9e95-818e8690a531\", \"height\": 100, \"options\": {\"name\": \"mm10 Gene Annotations\"}}, {\"tilesetUid\": \"bt2BX-WeRneyzeT-xZOF5g\", \"server\": \"http://localhost:8989/api/v1\", \"type\": \"bar\", \"uid\": \"819cb15d-e3cc-4334-b291-08b38d7d6fd5\", \"height\": 25, \"options\": {\"name\": \"CA3 Glut ATAC CPM\"}}, {\"tilesetUid\": \"c5WaEeW1R7Ki2WGnURh2TA\", \"server\": \"http://localhost:8989/api/v1\", \"type\": \"bar\", \"uid\": \"68f48577-6849-4274-9ba1-f403c0a03087\", \"height\": 25, \"options\": {\"name\": \"CA3 Glut mCH Frac\"}}, {\"tilesetUid\": \"SXCR5SEqREuMAE1Dx_LnxA\", \"server\": \"http://localhost:8989/api/v1\", \"type\": \"bar\", \"uid\": \"48a1efca-7065-4060-b0e7-aab53eca4c3c\", \"height\": 25, \"options\": {\"name\": \"CA3 Glut mCG Frac\"}}], \"center\": [{\"tilesetUid\": \"DOXSNkb1RSaDh6HrPbUC1g\", \"server\": \"http://localhost:8989/api/v1\", \"type\": \"heatmap\", \"uid\": \"552ab8d2-7f7f-4dd0-8a81-11945dd36927\", \"height\": 500, \"options\": {\"name\": \"CA3 Glut Impute 10K\"}}]}, \"uid\": \"ef3c78c0-f62c-4caa-bc74-20f730b65952\", \"initialXDomain\": [9500000.0, 11500000.0], \"initialYDomain\": [17500000.0, 19500000.0], \"zoomLimits\": [1.0, null]}]},\n",
       "    );\n",
       "    </script>\n",
       "</html>"
      ],
      "text/plain": [
       "Viewconf(editable=True, viewEditable=True, tracksEditable=True, zoomFixed=None, compactLayout=None, exportViewUrl=None, trackSourceServers=None, views=[View(layout=Layout(x=0, y=0, w=6, h=6, moved=None, static=None), tracks=Tracks[TrackT](left=[EnumTrack(tilesetUid='EtrWT0VtScixmsmwFSd7zg', server='http://higlass.io/api/v1', type='chromosome-labels', uid='9962bee1-5279-4f67-a3a1-478cfb5c6244', width=None, height=25, options={'name': 'mm10 Chrom Sizes'}, data=None, chromInfoPath=None, fromViewUid=None, x=None, y=None), EnumTrack(tilesetUid='QDutvmyiSrec5nX4pA5WGQ', server='http://higlass.io/api/v1', type='gene-annotations', uid='17c499a4-137f-47ec-8d15-70cded1b038f', width=None, height=100, options={'name': 'mm10 Gene Annotations'}, data=None, chromInfoPath=None, fromViewUid=None, x=None, y=None), EnumTrack(tilesetUid='bt2BX-WeRneyzeT-xZOF5g', server='http://localhost:8989/api/v1', type='bar', uid='fe83cc7b-095c-4a29-ab0e-f402e90a62b8', width=None, height=25, options={'name': 'CA3 Glut ATAC CPM'}, data=None, chromInfoPath=None, fromViewUid=None, x=None, y=None), EnumTrack(tilesetUid='c5WaEeW1R7Ki2WGnURh2TA', server='http://localhost:8989/api/v1', type='bar', uid='bd33e2d5-44c8-4b34-85ea-6c979cf2b17a', width=None, height=25, options={'name': 'CA3 Glut mCH Frac'}, data=None, chromInfoPath=None, fromViewUid=None, x=None, y=None), EnumTrack(tilesetUid='SXCR5SEqREuMAE1Dx_LnxA', server='http://localhost:8989/api/v1', type='bar', uid='34438939-86dd-442f-8bc3-4e8713a049a9', width=None, height=25, options={'name': 'CA3 Glut mCG Frac'}, data=None, chromInfoPath=None, fromViewUid=None, x=None, y=None)], right=None, top=[EnumTrack(tilesetUid='EtrWT0VtScixmsmwFSd7zg', server='http://higlass.io/api/v1', type='chromosome-labels', uid='00abf8a0-09a2-46fe-b81f-aea291865c60', width=None, height=25, options={'name': 'mm10 Chrom Sizes'}, data=None, chromInfoPath=None, fromViewUid=None, x=None, y=None), EnumTrack(tilesetUid='QDutvmyiSrec5nX4pA5WGQ', server='http://higlass.io/api/v1', type='gene-annotations', uid='9ef30976-ea36-407a-9e95-818e8690a531', width=None, height=100, options={'name': 'mm10 Gene Annotations'}, data=None, chromInfoPath=None, fromViewUid=None, x=None, y=None), EnumTrack(tilesetUid='bt2BX-WeRneyzeT-xZOF5g', server='http://localhost:8989/api/v1', type='bar', uid='819cb15d-e3cc-4334-b291-08b38d7d6fd5', width=None, height=25, options={'name': 'CA3 Glut ATAC CPM'}, data=None, chromInfoPath=None, fromViewUid=None, x=None, y=None), EnumTrack(tilesetUid='c5WaEeW1R7Ki2WGnURh2TA', server='http://localhost:8989/api/v1', type='bar', uid='68f48577-6849-4274-9ba1-f403c0a03087', width=None, height=25, options={'name': 'CA3 Glut mCH Frac'}, data=None, chromInfoPath=None, fromViewUid=None, x=None, y=None), EnumTrack(tilesetUid='SXCR5SEqREuMAE1Dx_LnxA', server='http://localhost:8989/api/v1', type='bar', uid='48a1efca-7065-4060-b0e7-aab53eca4c3c', width=None, height=25, options={'name': 'CA3 Glut mCG Frac'}, data=None, chromInfoPath=None, fromViewUid=None, x=None, y=None)], bottom=None, center=[HeatmapTrack(tilesetUid='DOXSNkb1RSaDh6HrPbUC1g', server='http://localhost:8989/api/v1', type='heatmap', uid='552ab8d2-7f7f-4dd0-8a81-11945dd36927', width=None, height=500, options={'name': 'CA3 Glut Impute 10K'}, data=None, position=None, transforms=None), EnumTrack(tilesetUid=None, server=None, type='viewport-projection-center', uid='b2234bd3-4148-471f-b078-eb12b3c8f058', width=None, height=None, options=None, data=None, chromInfoPath=None, fromViewUid='ef3c78c0-f62c-4caa-bc74-20f730b65952', x=None, y=None)], whole=None, gallery=None), uid='4bb7a15c-78ce-420d-aaea-acf6ba1b1319', autocompleteSource=None, chromInfoPath=None, genomePositionSearchBox=None, genomePositionSearchBoxVisible=None, initialXDomain=(9500000.0, 19500000.0), initialYDomain=(9500000.0, 19500000.0), overlays=None, selectionView=None, zoomFixed=None, zoomLimits=(1.0, None)), View(layout=Layout(x=6, y=0, w=6, h=6, moved=None, static=None), tracks=Tracks[TrackT](left=None, right=[EnumTrack(tilesetUid='bt2BX-WeRneyzeT-xZOF5g', server='http://localhost:8989/api/v1', type='bar', uid='45e0244f-57e5-4ec6-845c-6034c6a4824b', width=None, height=25, options={'name': 'CA3 Glut ATAC CPM'}, data=None, chromInfoPath=None, fromViewUid=None, x=None, y=None), EnumTrack(tilesetUid='c5WaEeW1R7Ki2WGnURh2TA', server='http://localhost:8989/api/v1', type='bar', uid='abbe2620-e85e-45bd-b910-a109c03e5c86', width=None, height=25, options={'name': 'CA3 Glut mCH Frac'}, data=None, chromInfoPath=None, fromViewUid=None, x=None, y=None), EnumTrack(tilesetUid='SXCR5SEqREuMAE1Dx_LnxA', server='http://localhost:8989/api/v1', type='bar', uid='80c9a40a-0807-48ed-bfca-7bb83529aba8', width=None, height=25, options={'name': 'CA3 Glut mCG Frac'}, data=None, chromInfoPath=None, fromViewUid=None, x=None, y=None), EnumTrack(tilesetUid='EtrWT0VtScixmsmwFSd7zg', server='http://higlass.io/api/v1', type='chromosome-labels', uid='84ae4e81-8fa1-4084-942e-c9dbae35327c', width=None, height=25, options={'name': 'mm10 Chrom Sizes'}, data=None, chromInfoPath=None, fromViewUid=None, x=None, y=None), EnumTrack(tilesetUid='QDutvmyiSrec5nX4pA5WGQ', server='http://higlass.io/api/v1', type='gene-annotations', uid='4c1d6d26-93f9-4a3e-bd63-2c76d0767614', width=None, height=100, options={'name': 'mm10 Gene Annotations'}, data=None, chromInfoPath=None, fromViewUid=None, x=None, y=None)], top=[EnumTrack(tilesetUid='EtrWT0VtScixmsmwFSd7zg', server='http://higlass.io/api/v1', type='chromosome-labels', uid='00abf8a0-09a2-46fe-b81f-aea291865c60', width=None, height=25, options={'name': 'mm10 Chrom Sizes'}, data=None, chromInfoPath=None, fromViewUid=None, x=None, y=None), EnumTrack(tilesetUid='QDutvmyiSrec5nX4pA5WGQ', server='http://higlass.io/api/v1', type='gene-annotations', uid='9ef30976-ea36-407a-9e95-818e8690a531', width=None, height=100, options={'name': 'mm10 Gene Annotations'}, data=None, chromInfoPath=None, fromViewUid=None, x=None, y=None), EnumTrack(tilesetUid='bt2BX-WeRneyzeT-xZOF5g', server='http://localhost:8989/api/v1', type='bar', uid='819cb15d-e3cc-4334-b291-08b38d7d6fd5', width=None, height=25, options={'name': 'CA3 Glut ATAC CPM'}, data=None, chromInfoPath=None, fromViewUid=None, x=None, y=None), EnumTrack(tilesetUid='c5WaEeW1R7Ki2WGnURh2TA', server='http://localhost:8989/api/v1', type='bar', uid='68f48577-6849-4274-9ba1-f403c0a03087', width=None, height=25, options={'name': 'CA3 Glut mCH Frac'}, data=None, chromInfoPath=None, fromViewUid=None, x=None, y=None), EnumTrack(tilesetUid='SXCR5SEqREuMAE1Dx_LnxA', server='http://localhost:8989/api/v1', type='bar', uid='48a1efca-7065-4060-b0e7-aab53eca4c3c', width=None, height=25, options={'name': 'CA3 Glut mCG Frac'}, data=None, chromInfoPath=None, fromViewUid=None, x=None, y=None)], bottom=None, center=[HeatmapTrack(tilesetUid='DOXSNkb1RSaDh6HrPbUC1g', server='http://localhost:8989/api/v1', type='heatmap', uid='552ab8d2-7f7f-4dd0-8a81-11945dd36927', width=None, height=500, options={'name': 'CA3 Glut Impute 10K'}, data=None, position=None, transforms=None)], whole=None, gallery=None), uid='ef3c78c0-f62c-4caa-bc74-20f730b65952', autocompleteSource=None, chromInfoPath=None, genomePositionSearchBox=None, genomePositionSearchBoxVisible=None, initialXDomain=(9500000.0, 11500000.0), initialYDomain=(17500000.0, 19500000.0), overlays=None, selectionView=None, zoomFixed=None, zoomLimits=(1.0, None))], zoomLocks=None, locationLocks=None, valueScaleLocks=None, chromInfoPath=None)"
      ]
     },
     "execution_count": 8,
     "metadata": {},
     "output_type": "execute_result"
    }
   ],
   "source": [
    "loop_zoom_in_viewconf(\n",
    "    cell_type=ct1,\n",
    "    server=server,\n",
    "    region1='chr1:10000000-11000000',\n",
    "    region2='chr1:18000000-19000000',\n",
    "    modality_2d=\"Impute 10K\",\n",
    "    modality_1d=(\"ATAC CPM\", \"mCH Frac\", \"mCG Frac\"),\n",
    "    height_1d=25,\n",
    "    height_2d=500,\n",
    ")"
   ]
  },
  {
   "cell_type": "code",
   "execution_count": null,
   "id": "ab872802-2ef7-4e31-92f6-65202550fe34",
   "metadata": {},
   "outputs": [],
   "source": []
  },
  {
   "cell_type": "code",
   "execution_count": null,
   "id": "487625ab-6af8-4b01-8753-274ce5ef1182",
   "metadata": {},
   "outputs": [],
   "source": []
  },
  {
   "cell_type": "code",
   "execution_count": null,
   "id": "57562622-ae43-4939-acc9-9807d33eafa6",
   "metadata": {},
   "outputs": [],
   "source": []
  },
  {
   "cell_type": "code",
   "execution_count": 6,
   "id": "290dc166-61b9-437c-a200-7dd4f68a6960",
   "metadata": {},
   "outputs": [],
   "source": [
    "from wmb_browser.backend import cemba_cell"
   ]
  },
  {
   "cell_type": "code",
   "execution_count": 7,
   "id": "08cfb230-f467-4d90-8b67-a6bc0359d2ba",
   "metadata": {},
   "outputs": [
    {
     "data": {
      "text/plain": [
       "{'CEMBARegion',\n",
       " 'CellClass',\n",
       " 'CellGroup',\n",
       " 'CellSubClass',\n",
       " 'Col384',\n",
       " 'DissectionRegion',\n",
       " 'FinalmCReads',\n",
       " 'InputReads',\n",
       " 'IntID',\n",
       " 'MajorRegion',\n",
       " 'Plate',\n",
       " 'PlateNormCov',\n",
       " 'Row384',\n",
       " 'Sample',\n",
       " 'Slice',\n",
       " 'SubRegion',\n",
       " 'Technology',\n",
       " 'mCCCFrac',\n",
       " 'mCGFrac',\n",
       " 'mCHFrac'}"
      ]
     },
     "execution_count": 7,
     "metadata": {},
     "output_type": "execute_result"
    }
   ],
   "source": [
    "cemba_cell.metadata_names"
   ]
  },
  {
   "cell_type": "code",
   "execution_count": 8,
   "id": "d03397ec-1119-4c83-a223-4e9325f034d4",
   "metadata": {},
   "outputs": [
    {
     "data": {
      "text/plain": [
       "{'l1_tsne', 'l1_umap', 'mr_tsne', 'mr_umap'}"
      ]
     },
     "execution_count": 8,
     "metadata": {},
     "output_type": "execute_result"
    }
   ],
   "source": [
    "cemba_cell.coords"
   ]
  },
  {
   "cell_type": "code",
   "execution_count": null,
   "id": "a26f6f3a-723f-4d77-8122-47c5d14fba0e",
   "metadata": {},
   "outputs": [],
   "source": []
  },
  {
   "cell_type": "code",
   "execution_count": null,
   "id": "e0f8ae04-ad74-489b-a2e5-9a10669c5444",
   "metadata": {},
   "outputs": [],
   "source": []
  }
 ],
 "metadata": {
  "kernelspec": {
   "display_name": "Python 3 (ipykernel)",
   "language": "python",
   "name": "python3"
  },
  "language_info": {
   "codemirror_mode": {
    "name": "ipython",
    "version": 3
   },
   "file_extension": ".py",
   "mimetype": "text/x-python",
   "name": "python",
   "nbconvert_exporter": "python",
   "pygments_lexer": "ipython3",
   "version": "3.9.17"
  }
 },
 "nbformat": 4,
 "nbformat_minor": 5
}
