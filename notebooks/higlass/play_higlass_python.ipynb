{
 "cells": [
  {
   "cell_type": "code",
   "execution_count": 1,
   "id": "ba723d4f-7911-433f-ad42-a674d6285b67",
   "metadata": {},
   "outputs": [],
   "source": [
    "import pandas as pd\n",
    "import higlass\n",
    "import numpy as np\n",
    "from wmb_browser.backend.higlass_dash import *"
   ]
  },
  {
   "cell_type": "code",
   "execution_count": 2,
   "id": "ca54597f-2350-4ead-b90e-16dba3c1811f",
   "metadata": {},
   "outputs": [],
   "source": [
    "server='http://localhost:8989/api/v1'\n",
    "\n",
    "hgd = HiglassDash(server=server)"
   ]
  },
  {
   "cell_type": "code",
   "execution_count": 3,
   "id": "4781244d-2d82-4754-8710-39b635a83c8d",
   "metadata": {},
   "outputs": [],
   "source": [
    "ct1 = 'CA3 Glut'\n",
    "ct2 = 'Sst Gaba'\n",
    "ct3 = 'L6 CT CTX Glut'"
   ]
  },
  {
   "cell_type": "code",
   "execution_count": 4,
   "id": "54f9c675-0439-4075-b165-071651f945fa",
   "metadata": {},
   "outputs": [],
   "source": [
    "cell_type = ct1\n",
    "modality_2d='Impute 10K'\n",
    "modality_1d=('mCH Frac', 'mCG Frac', 'ATAC CPM')\n",
    "pos_1d='top'\n",
    "add_genome_track=True\n",
    "region1='chr1:10000000-11000000'\n",
    "region2='chr1:18000000-19000000'"
   ]
  },
  {
   "cell_type": "code",
   "execution_count": 5,
   "id": "81ad0ef6-4c16-4b2d-89d1-7c853d17b630",
   "metadata": {},
   "outputs": [],
   "source": [
    "vc = hgd.multi_cell_type_2d_viewconf(\n",
    "    cell_types=[ct1, ct2, ct3],\n",
    "    region1=region1\n",
    ")\n",
    "# vc"
   ]
  },
  {
   "cell_type": "code",
   "execution_count": 15,
   "id": "93074bfb-619e-4f4f-8928-3a6af5f81e67",
   "metadata": {},
   "outputs": [],
   "source": [
    "view = vc.views[0]"
   ]
  },
  {
   "cell_type": "code",
   "execution_count": 23,
   "id": "c298c114-e309-4d4b-b0cf-4732af013c6d",
   "metadata": {},
   "outputs": [
    {
     "data": {
      "text/plain": [
       "[EnumTrack(tilesetUid='EtrWT0VtScixmsmwFSd7zg', server='http://higlass.io/api/v1', type='chromosome-labels', uid='3be9473a-b655-4b97-8605-9b49cfe93c74', width=None, height=25, options={'name': 'mm10 Chrom Sizes', 'showTooltip': True, 'showMousePosition': True}, data=None, chromInfoPath=None, fromViewUid=None, x=None, y=None),\n",
       " EnumTrack(tilesetUid='QDutvmyiSrec5nX4pA5WGQ', server='http://higlass.io/api/v1', type='gene-annotations', uid='c892c50b-4fbb-4ad1-91c7-957693f25381', width=None, height=100, options={'name': 'mm10 Gene Annotations', 'showTooltip': True, 'showMousePosition': True}, data=None, chromInfoPath=None, fromViewUid=None, x=None, y=None),\n",
       " EnumTrack(tilesetUid='c5WaEeW1R7Ki2WGnURh2TA', server='http://localhost:8989/api/v1', type='bar', uid='782e1db0-03ff-44cf-881d-42c8550deb86', width=None, height=25, options={'name': 'CA3 Glut mCH Frac', 'showTooltip': True, 'showMousePosition': True, 'barFillColor': '#16499D'}, data=None, chromInfoPath=None, fromViewUid=None, x=None, y=None),\n",
       " EnumTrack(tilesetUid='SXCR5SEqREuMAE1Dx_LnxA', server='http://localhost:8989/api/v1', type='bar', uid='1883c5e8-cdbc-4ab7-962f-92cd04fb0d86', width=None, height=25, options={'name': 'CA3 Glut mCG Frac', 'showTooltip': True, 'showMousePosition': True, 'barFillColor': '#36AE37'}, data=None, chromInfoPath=None, fromViewUid=None, x=None, y=None),\n",
       " EnumTrack(tilesetUid='bt2BX-WeRneyzeT-xZOF5g', server='http://localhost:8989/api/v1', type='bar', uid='79286526-2eb4-45d1-825b-1b9f40e7eae8', width=None, height=25, options={'name': 'CA3 Glut ATAC CPM', 'showTooltip': True, 'showMousePosition': True, 'barFillColor': '#EF7D1A'}, data=None, chromInfoPath=None, fromViewUid=None, x=None, y=None)]"
      ]
     },
     "execution_count": 23,
     "metadata": {},
     "output_type": "execute_result"
    }
   ],
   "source": [
    "getattr(view.tracks, 'top')"
   ]
  },
  {
   "cell_type": "code",
   "execution_count": 34,
   "id": "9a6fa947-3b6f-4802-b556-7f3512e2113d",
   "metadata": {},
   "outputs": [],
   "source": [
    "def _get_view_height(view):    \n",
    "    total_height = 0\n",
    "    for part in ['top', 'center', 'bottom']:\n",
    "        _tl = getattr(view.tracks, part, [])\n",
    "        if _tl is not None:\n",
    "            for _t in _tl:\n",
    "                total_height += _t.height\n",
    "    return total_height\n",
    "\n",
    "def _get_view_width(view):\n",
    "    total_width = 0\n",
    "    for part in ['left', 'center', 'right']:\n",
    "        _tl = getattr(view.tracks, part, [])\n",
    "        if _tl is not None:\n",
    "            for _t in _tl:\n",
    "                total_width += _t.width\n",
    "    return total_width\n"
   ]
  },
  {
   "cell_type": "code",
   "execution_count": 35,
   "id": "d957cdba-42ef-4116-bc94-39353e837b99",
   "metadata": {},
   "outputs": [
    {
     "data": {
      "text/plain": [
       "700"
      ]
     },
     "execution_count": 35,
     "metadata": {},
     "output_type": "execute_result"
    }
   ],
   "source": [
    "_get_view_height(view)"
   ]
  },
  {
   "cell_type": "code",
   "execution_count": 44,
   "id": "241539cb-79c8-447f-a91e-e8c403af040d",
   "metadata": {},
   "outputs": [],
   "source": [
    "import numpy as np"
   ]
  },
  {
   "cell_type": "code",
   "execution_count": 46,
   "id": "990aaa55-74ea-4b91-b844-237c55fbf6bb",
   "metadata": {},
   "outputs": [
    {
     "data": {
      "text/plain": [
       "2.0"
      ]
     },
     "execution_count": 46,
     "metadata": {},
     "output_type": "execute_result"
    }
   ],
   "source": [
    "np.ceil(13/12)"
   ]
  },
  {
   "cell_type": "code",
   "execution_count": null,
   "id": "ae8cb116-956d-44fa-90f8-6d9c771651ca",
   "metadata": {},
   "outputs": [],
   "source": []
  },
  {
   "cell_type": "code",
   "execution_count": 7,
   "id": "ccaa0ebe-2a5c-4d11-ba2d-3d2383d5b54c",
   "metadata": {},
   "outputs": [
    {
     "data": {
      "text/html": [
       "\n",
       "<!DOCTYPE html>\n",
       "<html>\n",
       "  <head>\n",
       "    <link rel=\"stylesheet\" href=\"https://esm.sh/higlass@1.12/dist/hglib.css\">\n",
       "    <script src=\"https://unpkg.com/requirejs-toggle\"></script>\n",
       "    \n",
       "    <script src=\"https://unpkg.com/requirejs-toggle\"></script>\n",
       "  </head>\n",
       "  <body>\n",
       "    <div id=\"jupyter-hg-68f7facc68a3484e8d1726ca44eff84b\"></div>\n",
       "  </body>\n",
       "  <script type=\"module\">\n",
       "    import hglib from \"https://esm.sh/higlass@1.12?deps=react@17,react-dom@17,pixi.js@6\";\n",
       "    hglib.viewer(\n",
       "      document.getElementById('jupyter-hg-68f7facc68a3484e8d1726ca44eff84b'),\n",
       "      {\"editable\": true, \"viewEditable\": true, \"tracksEditable\": true, \"views\": [{\"layout\": {\"x\": 0, \"y\": 0, \"w\": 12, \"h\": 6}, \"tracks\": {\"top\": [{\"tilesetUid\": \"EtrWT0VtScixmsmwFSd7zg\", \"server\": \"http://higlass.io/api/v1\", \"type\": \"chromosome-labels\", \"uid\": \"99d31c7e-12a8-4361-81c3-b9527415c57a\", \"height\": 25, \"options\": {\"name\": \"mm10 Chrom Sizes\", \"showTooltip\": true, \"showMousePosition\": true, \"barFillColor\": \"#a0a1d9\", \"barFillColorTop\": \"#a0a1d9\", \"barFillColorBottom\": \"#a0a1d9\"}}, {\"tilesetUid\": \"QDutvmyiSrec5nX4pA5WGQ\", \"server\": \"http://higlass.io/api/v1\", \"type\": \"gene-annotations\", \"uid\": \"ec8ac46b-667a-4343-bf9c-85ccdf458f6b\", \"height\": 100, \"options\": {\"name\": \"mm10 Gene Annotations\", \"showTooltip\": true, \"showMousePosition\": true, \"barFillColor\": \"#a0a1d9\", \"barFillColorTop\": \"#a0a1d9\", \"barFillColorBottom\": \"#a0a1d9\"}}, {\"tilesetUid\": \"c5WaEeW1R7Ki2WGnURh2TA\", \"server\": \"http://localhost:8989/api/v1\", \"type\": \"bar\", \"uid\": \"7f9f784a-ae22-40aa-90c8-fa634d584768\", \"height\": 25, \"options\": {\"name\": \"CA3 Glut mCH Frac\", \"showTooltip\": true, \"showMousePosition\": true, \"barFillColor\": \"#16499D\", \"barFillColorTop\": \"#a0a1d9\", \"barFillColorBottom\": \"#a0a1d9\"}}, {\"tilesetUid\": \"W0OdIv84Q6yMfqpKvubetQ\", \"server\": \"http://localhost:8989/api/v1\", \"type\": \"bar\", \"uid\": \"0015aca8-5ebb-4a67-aa5d-f274a6f53e1f\", \"height\": 25, \"options\": {\"name\": \"Sst Gaba mCH Frac\", \"showTooltip\": true, \"showMousePosition\": true, \"barFillColor\": \"#16499D\", \"barFillColorTop\": \"#a0a1d9\", \"barFillColorBottom\": \"#a0a1d9\"}}, {\"tilesetUid\": \"fCUnWnNbRRCaPg_6YNl8qQ\", \"server\": \"http://localhost:8989/api/v1\", \"type\": \"bar\", \"uid\": \"10f61822-5a45-4251-9d81-c5d2914e59c4\", \"height\": 25, \"options\": {\"name\": \"L6 CT CTX Glut mCH Frac\", \"showTooltip\": true, \"showMousePosition\": true, \"barFillColor\": \"#16499D\", \"barFillColorTop\": \"#a0a1d9\", \"barFillColorBottom\": \"#a0a1d9\"}}, {\"tilesetUid\": \"SXCR5SEqREuMAE1Dx_LnxA\", \"server\": \"http://localhost:8989/api/v1\", \"type\": \"bar\", \"uid\": \"7d7ef0d8-728b-495a-8633-f469ee8c0975\", \"height\": 25, \"options\": {\"name\": \"CA3 Glut mCG Frac\", \"showTooltip\": true, \"showMousePosition\": true, \"barFillColor\": \"#36AE37\", \"barFillColorTop\": \"#a0a1d9\", \"barFillColorBottom\": \"#a0a1d9\"}}, {\"tilesetUid\": \"P8dzmuiKTWyOn9u2vqLg-w\", \"server\": \"http://localhost:8989/api/v1\", \"type\": \"bar\", \"uid\": \"4c04650e-64ee-4ac7-811c-b10e85fde11d\", \"height\": 25, \"options\": {\"name\": \"Sst Gaba mCG Frac\", \"showTooltip\": true, \"showMousePosition\": true, \"barFillColor\": \"#36AE37\", \"barFillColorTop\": \"#a0a1d9\", \"barFillColorBottom\": \"#a0a1d9\"}}, {\"tilesetUid\": \"QaLWlfpfScOdQcLq2PNSfw\", \"server\": \"http://localhost:8989/api/v1\", \"type\": \"bar\", \"uid\": \"c592a9c3-fc85-4b37-b304-d885d829b2b3\", \"height\": 25, \"options\": {\"name\": \"L6 CT CTX Glut mCG Frac\", \"showTooltip\": true, \"showMousePosition\": true, \"barFillColor\": \"#36AE37\", \"barFillColorTop\": \"#a0a1d9\", \"barFillColorBottom\": \"#a0a1d9\"}}, {\"tilesetUid\": \"bt2BX-WeRneyzeT-xZOF5g\", \"server\": \"http://localhost:8989/api/v1\", \"type\": \"bar\", \"uid\": \"0b760b2b-6236-4a68-9186-0fa5f5f870a1\", \"height\": 25, \"options\": {\"name\": \"CA3 Glut ATAC CPM\", \"showTooltip\": true, \"showMousePosition\": true, \"barFillColor\": \"#EF7D1A\", \"barFillColorTop\": \"#a0a1d9\", \"barFillColorBottom\": \"#a0a1d9\"}}, {\"tilesetUid\": \"fA7Rwv3MRn6g9gZpjZAhNg\", \"server\": \"http://localhost:8989/api/v1\", \"type\": \"bar\", \"uid\": \"35b56424-a61a-4624-afbc-5222b0340fe3\", \"height\": 25, \"options\": {\"name\": \"Sst Gaba ATAC CPM\", \"showTooltip\": true, \"showMousePosition\": true, \"barFillColor\": \"#EF7D1A\", \"barFillColorTop\": \"#a0a1d9\", \"barFillColorBottom\": \"#a0a1d9\"}}, {\"tilesetUid\": \"cAqqyvTTTKW2hOCR0MGLFA\", \"server\": \"http://localhost:8989/api/v1\", \"type\": \"bar\", \"uid\": \"69c12c7c-905b-490e-b450-f884e2458f7c\", \"height\": 25, \"options\": {\"name\": \"L6 CT CTX Glut ATAC CPM\", \"showTooltip\": true, \"showMousePosition\": true, \"barFillColor\": \"#EF7D1A\", \"barFillColorTop\": \"#a0a1d9\", \"barFillColorBottom\": \"#a0a1d9\"}}, {\"tilesetUid\": \"N3HKj6v9Qd2LP2bnSNhmMA\", \"server\": \"http://localhost:8989/api/v1\", \"type\": \"bar\", \"uid\": \"7e9195dc-2a49-4a6d-9609-5fd39d8ef806\", \"height\": 25, \"options\": {\"name\": \"CA3 Glut Domain Boundary\", \"showTooltip\": true, \"showMousePosition\": true, \"barFillColor\": \"#E71F19\", \"barFillColorTop\": \"#a0a1d9\", \"barFillColorBottom\": \"#a0a1d9\"}}, {\"tilesetUid\": \"PMzIUx8IS5mOk8pPfDV-gA\", \"server\": \"http://localhost:8989/api/v1\", \"type\": \"bar\", \"uid\": \"c932373d-6062-4abb-b98f-02f5a2d72a79\", \"height\": 25, \"options\": {\"name\": \"Sst Gaba Domain Boundary\", \"showTooltip\": true, \"showMousePosition\": true, \"barFillColor\": \"#E71F19\", \"barFillColorTop\": \"#a0a1d9\", \"barFillColorBottom\": \"#a0a1d9\"}}, {\"tilesetUid\": \"axCCDVoKSQGR1Ci03uH2eA\", \"server\": \"http://localhost:8989/api/v1\", \"type\": \"bar\", \"uid\": \"9d5b8ed4-d868-406d-8ed8-702c1fc16d1a\", \"height\": 25, \"options\": {\"name\": \"L6 CT CTX Glut Domain Boundary\", \"showTooltip\": true, \"showMousePosition\": true, \"barFillColor\": \"#E71F19\", \"barFillColorTop\": \"#a0a1d9\", \"barFillColorBottom\": \"#a0a1d9\"}}, {\"tilesetUid\": \"OT476i4qRIWo0iMlNP0Yxg\", \"server\": \"http://localhost:8989/api/v1\", \"type\": \"divergent-bar\", \"uid\": \"381ae697-57ed-4459-ab22-9542be1dc4f0\", \"height\": 25, \"options\": {\"name\": \"CA3 Glut Compartment Score\", \"showTooltip\": true, \"showMousePosition\": true, \"barFillColor\": \"#E71F19\", \"barFillColorTop\": \"#E71F19\", \"barFillColorBottom\": \"#16499D\"}}, {\"tilesetUid\": \"e860fO0GRByuo_vOFZ3xgQ\", \"server\": \"http://localhost:8989/api/v1\", \"type\": \"divergent-bar\", \"uid\": \"a953ee8a-520f-4d75-bbc4-262f2cd459cd\", \"height\": 25, \"options\": {\"name\": \"Sst Gaba Compartment Score\", \"showTooltip\": true, \"showMousePosition\": true, \"barFillColor\": \"#E71F19\", \"barFillColorTop\": \"#E71F19\", \"barFillColorBottom\": \"#16499D\"}}, {\"tilesetUid\": \"Km3XbwriQUelxb9Y6kU3Ow\", \"server\": \"http://localhost:8989/api/v1\", \"type\": \"divergent-bar\", \"uid\": \"4aa070bd-afc6-4d76-b4f2-40b51f077b47\", \"height\": 25, \"options\": {\"name\": \"L6 CT CTX Glut Compartment Score\", \"showTooltip\": true, \"showMousePosition\": true, \"barFillColor\": \"#E71F19\", \"barFillColorTop\": \"#E71F19\", \"barFillColorBottom\": \"#16499D\"}}]}, \"uid\": \"a17596e9-d028-4711-919a-2ac4fffb90c6\", \"initialXDomain\": [9500000.0, 11500000.0], \"zoomLimits\": [1, null]}]},\n",
       "    );\n",
       "    </script>\n",
       "</html>"
      ],
      "text/plain": [
       "Viewconf(editable=True, viewEditable=True, tracksEditable=True, zoomFixed=None, compactLayout=None, exportViewUrl=None, trackSourceServers=None, views=[View(layout=Layout(x=0, y=0, w=12, h=6, moved=None, static=None), tracks=Tracks[TrackT](left=None, right=None, top=[EnumTrack(tilesetUid='EtrWT0VtScixmsmwFSd7zg', server='http://higlass.io/api/v1', type='chromosome-labels', uid='99d31c7e-12a8-4361-81c3-b9527415c57a', width=None, height=25, options={'name': 'mm10 Chrom Sizes', 'showTooltip': True, 'showMousePosition': True, 'barFillColor': '#a0a1d9', 'barFillColorTop': '#a0a1d9', 'barFillColorBottom': '#a0a1d9'}, data=None, chromInfoPath=None, fromViewUid=None, x=None, y=None), EnumTrack(tilesetUid='QDutvmyiSrec5nX4pA5WGQ', server='http://higlass.io/api/v1', type='gene-annotations', uid='ec8ac46b-667a-4343-bf9c-85ccdf458f6b', width=None, height=100, options={'name': 'mm10 Gene Annotations', 'showTooltip': True, 'showMousePosition': True, 'barFillColor': '#a0a1d9', 'barFillColorTop': '#a0a1d9', 'barFillColorBottom': '#a0a1d9'}, data=None, chromInfoPath=None, fromViewUid=None, x=None, y=None), EnumTrack(tilesetUid='c5WaEeW1R7Ki2WGnURh2TA', server='http://localhost:8989/api/v1', type='bar', uid='7f9f784a-ae22-40aa-90c8-fa634d584768', width=None, height=25, options={'name': 'CA3 Glut mCH Frac', 'showTooltip': True, 'showMousePosition': True, 'barFillColor': '#16499D', 'barFillColorTop': '#a0a1d9', 'barFillColorBottom': '#a0a1d9'}, data=None, chromInfoPath=None, fromViewUid=None, x=None, y=None), EnumTrack(tilesetUid='W0OdIv84Q6yMfqpKvubetQ', server='http://localhost:8989/api/v1', type='bar', uid='0015aca8-5ebb-4a67-aa5d-f274a6f53e1f', width=None, height=25, options={'name': 'Sst Gaba mCH Frac', 'showTooltip': True, 'showMousePosition': True, 'barFillColor': '#16499D', 'barFillColorTop': '#a0a1d9', 'barFillColorBottom': '#a0a1d9'}, data=None, chromInfoPath=None, fromViewUid=None, x=None, y=None), EnumTrack(tilesetUid='fCUnWnNbRRCaPg_6YNl8qQ', server='http://localhost:8989/api/v1', type='bar', uid='10f61822-5a45-4251-9d81-c5d2914e59c4', width=None, height=25, options={'name': 'L6 CT CTX Glut mCH Frac', 'showTooltip': True, 'showMousePosition': True, 'barFillColor': '#16499D', 'barFillColorTop': '#a0a1d9', 'barFillColorBottom': '#a0a1d9'}, data=None, chromInfoPath=None, fromViewUid=None, x=None, y=None), EnumTrack(tilesetUid='SXCR5SEqREuMAE1Dx_LnxA', server='http://localhost:8989/api/v1', type='bar', uid='7d7ef0d8-728b-495a-8633-f469ee8c0975', width=None, height=25, options={'name': 'CA3 Glut mCG Frac', 'showTooltip': True, 'showMousePosition': True, 'barFillColor': '#36AE37', 'barFillColorTop': '#a0a1d9', 'barFillColorBottom': '#a0a1d9'}, data=None, chromInfoPath=None, fromViewUid=None, x=None, y=None), EnumTrack(tilesetUid='P8dzmuiKTWyOn9u2vqLg-w', server='http://localhost:8989/api/v1', type='bar', uid='4c04650e-64ee-4ac7-811c-b10e85fde11d', width=None, height=25, options={'name': 'Sst Gaba mCG Frac', 'showTooltip': True, 'showMousePosition': True, 'barFillColor': '#36AE37', 'barFillColorTop': '#a0a1d9', 'barFillColorBottom': '#a0a1d9'}, data=None, chromInfoPath=None, fromViewUid=None, x=None, y=None), EnumTrack(tilesetUid='QaLWlfpfScOdQcLq2PNSfw', server='http://localhost:8989/api/v1', type='bar', uid='c592a9c3-fc85-4b37-b304-d885d829b2b3', width=None, height=25, options={'name': 'L6 CT CTX Glut mCG Frac', 'showTooltip': True, 'showMousePosition': True, 'barFillColor': '#36AE37', 'barFillColorTop': '#a0a1d9', 'barFillColorBottom': '#a0a1d9'}, data=None, chromInfoPath=None, fromViewUid=None, x=None, y=None), EnumTrack(tilesetUid='bt2BX-WeRneyzeT-xZOF5g', server='http://localhost:8989/api/v1', type='bar', uid='0b760b2b-6236-4a68-9186-0fa5f5f870a1', width=None, height=25, options={'name': 'CA3 Glut ATAC CPM', 'showTooltip': True, 'showMousePosition': True, 'barFillColor': '#EF7D1A', 'barFillColorTop': '#a0a1d9', 'barFillColorBottom': '#a0a1d9'}, data=None, chromInfoPath=None, fromViewUid=None, x=None, y=None), EnumTrack(tilesetUid='fA7Rwv3MRn6g9gZpjZAhNg', server='http://localhost:8989/api/v1', type='bar', uid='35b56424-a61a-4624-afbc-5222b0340fe3', width=None, height=25, options={'name': 'Sst Gaba ATAC CPM', 'showTooltip': True, 'showMousePosition': True, 'barFillColor': '#EF7D1A', 'barFillColorTop': '#a0a1d9', 'barFillColorBottom': '#a0a1d9'}, data=None, chromInfoPath=None, fromViewUid=None, x=None, y=None), EnumTrack(tilesetUid='cAqqyvTTTKW2hOCR0MGLFA', server='http://localhost:8989/api/v1', type='bar', uid='69c12c7c-905b-490e-b450-f884e2458f7c', width=None, height=25, options={'name': 'L6 CT CTX Glut ATAC CPM', 'showTooltip': True, 'showMousePosition': True, 'barFillColor': '#EF7D1A', 'barFillColorTop': '#a0a1d9', 'barFillColorBottom': '#a0a1d9'}, data=None, chromInfoPath=None, fromViewUid=None, x=None, y=None), EnumTrack(tilesetUid='N3HKj6v9Qd2LP2bnSNhmMA', server='http://localhost:8989/api/v1', type='bar', uid='7e9195dc-2a49-4a6d-9609-5fd39d8ef806', width=None, height=25, options={'name': 'CA3 Glut Domain Boundary', 'showTooltip': True, 'showMousePosition': True, 'barFillColor': '#E71F19', 'barFillColorTop': '#a0a1d9', 'barFillColorBottom': '#a0a1d9'}, data=None, chromInfoPath=None, fromViewUid=None, x=None, y=None), EnumTrack(tilesetUid='PMzIUx8IS5mOk8pPfDV-gA', server='http://localhost:8989/api/v1', type='bar', uid='c932373d-6062-4abb-b98f-02f5a2d72a79', width=None, height=25, options={'name': 'Sst Gaba Domain Boundary', 'showTooltip': True, 'showMousePosition': True, 'barFillColor': '#E71F19', 'barFillColorTop': '#a0a1d9', 'barFillColorBottom': '#a0a1d9'}, data=None, chromInfoPath=None, fromViewUid=None, x=None, y=None), EnumTrack(tilesetUid='axCCDVoKSQGR1Ci03uH2eA', server='http://localhost:8989/api/v1', type='bar', uid='9d5b8ed4-d868-406d-8ed8-702c1fc16d1a', width=None, height=25, options={'name': 'L6 CT CTX Glut Domain Boundary', 'showTooltip': True, 'showMousePosition': True, 'barFillColor': '#E71F19', 'barFillColorTop': '#a0a1d9', 'barFillColorBottom': '#a0a1d9'}, data=None, chromInfoPath=None, fromViewUid=None, x=None, y=None), EnumTrack(tilesetUid='OT476i4qRIWo0iMlNP0Yxg', server='http://localhost:8989/api/v1', type='divergent-bar', uid='381ae697-57ed-4459-ab22-9542be1dc4f0', width=None, height=25, options={'name': 'CA3 Glut Compartment Score', 'showTooltip': True, 'showMousePosition': True, 'barFillColor': '#E71F19', 'barFillColorTop': '#E71F19', 'barFillColorBottom': '#16499D'}, data=None, chromInfoPath=None, fromViewUid=None, x=None, y=None), EnumTrack(tilesetUid='e860fO0GRByuo_vOFZ3xgQ', server='http://localhost:8989/api/v1', type='divergent-bar', uid='a953ee8a-520f-4d75-bbc4-262f2cd459cd', width=None, height=25, options={'name': 'Sst Gaba Compartment Score', 'showTooltip': True, 'showMousePosition': True, 'barFillColor': '#E71F19', 'barFillColorTop': '#E71F19', 'barFillColorBottom': '#16499D'}, data=None, chromInfoPath=None, fromViewUid=None, x=None, y=None), EnumTrack(tilesetUid='Km3XbwriQUelxb9Y6kU3Ow', server='http://localhost:8989/api/v1', type='divergent-bar', uid='4aa070bd-afc6-4d76-b4f2-40b51f077b47', width=None, height=25, options={'name': 'L6 CT CTX Glut Compartment Score', 'showTooltip': True, 'showMousePosition': True, 'barFillColor': '#E71F19', 'barFillColorTop': '#E71F19', 'barFillColorBottom': '#16499D'}, data=None, chromInfoPath=None, fromViewUid=None, x=None, y=None)], bottom=None, center=None, whole=None, gallery=None), uid='a17596e9-d028-4711-919a-2ac4fffb90c6', autocompleteSource=None, chromInfoPath=None, genomePositionSearchBox=None, genomePositionSearchBoxVisible=None, initialXDomain=(9500000.0, 11500000.0), initialYDomain=None, overlays=None, selectionView=None, zoomFixed=None, zoomLimits=(1, None))], zoomLocks=None, locationLocks=None, valueScaleLocks=None, chromInfoPath=None)"
      ]
     },
     "execution_count": 7,
     "metadata": {},
     "output_type": "execute_result"
    }
   ],
   "source": [
    "vc = hgd.multi_cell_type_1d_viewconf(\n",
    "    cell_types=[ct1, ct2, ct3],\n",
    "    modalities=(\"mCH Frac\", \"mCG Frac\", \"ATAC CPM\", \"Domain Boundary\", \"Compartment Score\"),\n",
    "    groupby=\"modality\",\n",
    "    colorby='modality',\n",
    "    add_genome_track=True,\n",
    "    region=region1,\n",
    ")\n",
    "vc"
   ]
  },
  {
   "cell_type": "code",
   "execution_count": 8,
   "id": "028bd3a9-23c2-4ad8-a1ea-774d586b886c",
   "metadata": {},
   "outputs": [
    {
     "data": {
      "text/html": [
       "\n",
       "<!DOCTYPE html>\n",
       "<html>\n",
       "  <head>\n",
       "    <link rel=\"stylesheet\" href=\"https://esm.sh/higlass@1.12/dist/hglib.css\">\n",
       "    <script src=\"https://unpkg.com/requirejs-toggle\"></script>\n",
       "    \n",
       "    <script src=\"https://unpkg.com/requirejs-toggle\"></script>\n",
       "  </head>\n",
       "  <body>\n",
       "    <div id=\"jupyter-hg-266c4674ebee4b48ac7a83a8c7e6fe81\"></div>\n",
       "  </body>\n",
       "  <script type=\"module\">\n",
       "    import hglib from \"https://esm.sh/higlass@1.12?deps=react@17,react-dom@17,pixi.js@6\";\n",
       "    hglib.viewer(\n",
       "      document.getElementById('jupyter-hg-266c4674ebee4b48ac7a83a8c7e6fe81'),\n",
       "      {\"editable\": true, \"viewEditable\": true, \"tracksEditable\": true, \"views\": [{\"layout\": {\"x\": 0, \"y\": 0, \"w\": 4, \"h\": 6}, \"tracks\": {\"top\": [{\"tilesetUid\": \"EtrWT0VtScixmsmwFSd7zg\", \"server\": \"http://higlass.io/api/v1\", \"type\": \"chromosome-labels\", \"uid\": \"877b6d67-d07d-4d29-b326-efca51c87c44\", \"height\": 25, \"options\": {\"name\": \"mm10 Chrom Sizes\", \"showTooltip\": true, \"showMousePosition\": true, \"barFillColor\": \"#E71F19\", \"barFillColorTop\": \"#E71F19\", \"barFillColorBottom\": \"#16499D\"}}, {\"tilesetUid\": \"QDutvmyiSrec5nX4pA5WGQ\", \"server\": \"http://higlass.io/api/v1\", \"type\": \"gene-annotations\", \"uid\": \"d5379140-7bc9-49cb-81b0-9ae9a7885615\", \"height\": 100, \"options\": {\"name\": \"mm10 Gene Annotations\", \"showTooltip\": true, \"showMousePosition\": true, \"barFillColor\": \"#E71F19\", \"barFillColorTop\": \"#E71F19\", \"barFillColorBottom\": \"#16499D\"}}, {\"tilesetUid\": \"c5WaEeW1R7Ki2WGnURh2TA\", \"server\": \"http://localhost:8989/api/v1\", \"type\": \"bar\", \"uid\": \"3687685d-6037-47e6-8ec9-e0e9465cec91\", \"height\": 25, \"options\": {\"name\": \"CA3 Glut mCH Frac\", \"showTooltip\": true, \"showMousePosition\": true, \"barFillColor\": \"#16499D\", \"barFillColorTop\": \"#E71F19\", \"barFillColorBottom\": \"#16499D\"}}, {\"tilesetUid\": \"SXCR5SEqREuMAE1Dx_LnxA\", \"server\": \"http://localhost:8989/api/v1\", \"type\": \"bar\", \"uid\": \"ecccd12d-a16d-43d6-9db5-174cd460f70e\", \"height\": 25, \"options\": {\"name\": \"CA3 Glut mCG Frac\", \"showTooltip\": true, \"showMousePosition\": true, \"barFillColor\": \"#36AE37\", \"barFillColorTop\": \"#E71F19\", \"barFillColorBottom\": \"#16499D\"}}, {\"tilesetUid\": \"bt2BX-WeRneyzeT-xZOF5g\", \"server\": \"http://localhost:8989/api/v1\", \"type\": \"bar\", \"uid\": \"32413ba5-1778-4a4c-bd4c-3c04945291c0\", \"height\": 25, \"options\": {\"name\": \"CA3 Glut ATAC CPM\", \"showTooltip\": true, \"showMousePosition\": true, \"barFillColor\": \"#EF7D1A\", \"barFillColorTop\": \"#E71F19\", \"barFillColorBottom\": \"#16499D\"}}], \"center\": [{\"tilesetUid\": \"DOXSNkb1RSaDh6HrPbUC1g\", \"server\": \"http://localhost:8989/api/v1\", \"type\": \"heatmap\", \"uid\": \"33f695a2-0651-43f9-88b8-bb3a43d6124c\", \"height\": 500, \"options\": {\"name\": \"CA3 Glut Impute 10K\", \"showTooltip\": true, \"showMousePosition\": true, \"barFillColor\": \"#E71F19\", \"barFillColorTop\": \"#E71F19\", \"barFillColorBottom\": \"#16499D\"}}]}, \"uid\": \"db271835-3685-4281-b783-8ae499a08f95\", \"initialXDomain\": [9500000.0, 11500000.0], \"initialYDomain\": [9500000.0, 11500000.0], \"zoomLimits\": [1.0, null]}, {\"layout\": {\"x\": 4, \"y\": 0, \"w\": 4, \"h\": 6}, \"tracks\": {\"top\": [{\"tilesetUid\": \"EtrWT0VtScixmsmwFSd7zg\", \"server\": \"http://higlass.io/api/v1\", \"type\": \"chromosome-labels\", \"uid\": \"877b6d67-d07d-4d29-b326-efca51c87c44\", \"height\": 25, \"options\": {\"name\": \"mm10 Chrom Sizes\", \"showTooltip\": true, \"showMousePosition\": true, \"barFillColor\": \"#E71F19\", \"barFillColorTop\": \"#E71F19\", \"barFillColorBottom\": \"#16499D\"}}, {\"tilesetUid\": \"QDutvmyiSrec5nX4pA5WGQ\", \"server\": \"http://higlass.io/api/v1\", \"type\": \"gene-annotations\", \"uid\": \"d5379140-7bc9-49cb-81b0-9ae9a7885615\", \"height\": 100, \"options\": {\"name\": \"mm10 Gene Annotations\", \"showTooltip\": true, \"showMousePosition\": true, \"barFillColor\": \"#E71F19\", \"barFillColorTop\": \"#E71F19\", \"barFillColorBottom\": \"#16499D\"}}, {\"type\": \"divergent-bar\", \"uid\": \"6e757304-410f-4b91-873b-2ff75874ac10\", \"height\": 25, \"options\": {\"name\": \"mCH Frac (left / right) - log scale\", \"showTooltip\": true, \"showMousePosition\": true, \"barFillColor\": \"#16499D\", \"barFillColorTop\": \"red\", \"barFillColorBottom\": \"blue\", \"valueScaleMin\": 0.1, \"valueScaleMax\": 10, \"valueScaling\": \"log\"}, \"data\": {\"type\": \"divided\", \"children\": [{\"tilesetUid\": \"c5WaEeW1R7Ki2WGnURh2TA\", \"server\": \"http://localhost:8989/api/v1\"}, {\"tilesetUid\": \"W0OdIv84Q6yMfqpKvubetQ\", \"server\": \"http://localhost:8989/api/v1\"}]}}, {\"type\": \"divergent-bar\", \"uid\": \"bf0743d2-7e7a-49c9-aa29-378cd9139ca0\", \"height\": 25, \"options\": {\"name\": \"mCG Frac (left / right) - log scale\", \"showTooltip\": true, \"showMousePosition\": true, \"barFillColor\": \"#36AE37\", \"barFillColorTop\": \"red\", \"barFillColorBottom\": \"blue\", \"valueScaleMin\": 0.1, \"valueScaleMax\": 10, \"valueScaling\": \"log\"}, \"data\": {\"type\": \"divided\", \"children\": [{\"tilesetUid\": \"SXCR5SEqREuMAE1Dx_LnxA\", \"server\": \"http://localhost:8989/api/v1\"}, {\"tilesetUid\": \"P8dzmuiKTWyOn9u2vqLg-w\", \"server\": \"http://localhost:8989/api/v1\"}]}}, {\"type\": \"divergent-bar\", \"uid\": \"ecd90fc8-e622-4435-a370-d4e698671056\", \"height\": 25, \"options\": {\"name\": \"ATAC CPM (left / right) - log scale\", \"showTooltip\": true, \"showMousePosition\": true, \"barFillColor\": \"#EF7D1A\", \"barFillColorTop\": \"red\", \"barFillColorBottom\": \"blue\", \"valueScaleMin\": 0.1, \"valueScaleMax\": 10, \"valueScaling\": \"log\"}, \"data\": {\"type\": \"divided\", \"children\": [{\"tilesetUid\": \"bt2BX-WeRneyzeT-xZOF5g\", \"server\": \"http://localhost:8989/api/v1\"}, {\"tilesetUid\": \"fA7Rwv3MRn6g9gZpjZAhNg\", \"server\": \"http://localhost:8989/api/v1\"}]}}], \"center\": [{\"type\": \"heatmap\", \"uid\": \"84c78525-b1ed-4708-a601-3cee4d3e4a12\", \"height\": 500, \"options\": {\"name\": \"Impute 10K (left / right) - log scale\", \"showTooltip\": true, \"showMousePosition\": true, \"barFillColor\": \"#E71F19\", \"barFillColorTop\": \"#E71F19\", \"barFillColorBottom\": \"#16499D\", \"colorRange\": [\"blue\", \"white\", \"red\"], \"valueScaleMin\": 0.1, \"valueScaleMax\": 10}, \"data\": {\"type\": \"divided\", \"children\": [{\"tilesetUid\": \"DOXSNkb1RSaDh6HrPbUC1g\", \"server\": \"http://localhost:8989/api/v1\"}, {\"tilesetUid\": \"GFd1Y9WRQPGccPITuXmZbg\", \"server\": \"http://localhost:8989/api/v1\"}]}}]}, \"uid\": \"f538af2f-eceb-458a-9485-752640ae6fcc\", \"initialXDomain\": [9500000.0, 11500000.0], \"initialYDomain\": [9500000.0, 11500000.0], \"zoomLimits\": [1.0, null]}, {\"layout\": {\"x\": 8, \"y\": 0, \"w\": 4, \"h\": 6}, \"tracks\": {\"top\": [{\"tilesetUid\": \"EtrWT0VtScixmsmwFSd7zg\", \"server\": \"http://higlass.io/api/v1\", \"type\": \"chromosome-labels\", \"uid\": \"877b6d67-d07d-4d29-b326-efca51c87c44\", \"height\": 25, \"options\": {\"name\": \"mm10 Chrom Sizes\", \"showTooltip\": true, \"showMousePosition\": true, \"barFillColor\": \"#E71F19\", \"barFillColorTop\": \"#E71F19\", \"barFillColorBottom\": \"#16499D\"}}, {\"tilesetUid\": \"QDutvmyiSrec5nX4pA5WGQ\", \"server\": \"http://higlass.io/api/v1\", \"type\": \"gene-annotations\", \"uid\": \"d5379140-7bc9-49cb-81b0-9ae9a7885615\", \"height\": 100, \"options\": {\"name\": \"mm10 Gene Annotations\", \"showTooltip\": true, \"showMousePosition\": true, \"barFillColor\": \"#E71F19\", \"barFillColorTop\": \"#E71F19\", \"barFillColorBottom\": \"#16499D\"}}, {\"tilesetUid\": \"W0OdIv84Q6yMfqpKvubetQ\", \"server\": \"http://localhost:8989/api/v1\", \"type\": \"bar\", \"uid\": \"e3425dd7-792b-47b7-8fda-bdb1ff53f366\", \"height\": 25, \"options\": {\"name\": \"Sst Gaba mCH Frac\", \"showTooltip\": true, \"showMousePosition\": true, \"barFillColor\": \"#16499D\", \"barFillColorTop\": \"#E71F19\", \"barFillColorBottom\": \"#16499D\"}}, {\"tilesetUid\": \"P8dzmuiKTWyOn9u2vqLg-w\", \"server\": \"http://localhost:8989/api/v1\", \"type\": \"bar\", \"uid\": \"53e268d4-449e-42c7-a60f-87d722a23af2\", \"height\": 25, \"options\": {\"name\": \"Sst Gaba mCG Frac\", \"showTooltip\": true, \"showMousePosition\": true, \"barFillColor\": \"#36AE37\", \"barFillColorTop\": \"#E71F19\", \"barFillColorBottom\": \"#16499D\"}}, {\"tilesetUid\": \"fA7Rwv3MRn6g9gZpjZAhNg\", \"server\": \"http://localhost:8989/api/v1\", \"type\": \"bar\", \"uid\": \"2942d837-8c98-4327-ac04-d1cd3c6cfd73\", \"height\": 25, \"options\": {\"name\": \"Sst Gaba ATAC CPM\", \"showTooltip\": true, \"showMousePosition\": true, \"barFillColor\": \"#EF7D1A\", \"barFillColorTop\": \"#E71F19\", \"barFillColorBottom\": \"#16499D\"}}], \"center\": [{\"tilesetUid\": \"GFd1Y9WRQPGccPITuXmZbg\", \"server\": \"http://localhost:8989/api/v1\", \"type\": \"heatmap\", \"uid\": \"b673fb54-69d2-4ff2-a7d8-6e4b387eeef5\", \"height\": 500, \"options\": {\"name\": \"Sst Gaba Impute 10K\", \"showTooltip\": true, \"showMousePosition\": true, \"barFillColor\": \"#E71F19\", \"barFillColorTop\": \"#E71F19\", \"barFillColorBottom\": \"#16499D\"}}]}, \"uid\": \"8b11fca3-5e9e-47cd-bc0d-a4994051d81b\", \"initialXDomain\": [9500000.0, 11500000.0], \"initialYDomain\": [9500000.0, 11500000.0], \"zoomLimits\": [1.0, null]}], \"zoomLocks\": {\"locksByViewUid\": {\"db271835-3685-4281-b783-8ae499a08f95\": \"86f747d2-a24a-495a-b870-f032f349a783\", \"8b11fca3-5e9e-47cd-bc0d-a4994051d81b\": \"86f747d2-a24a-495a-b870-f032f349a783\", \"f538af2f-eceb-458a-9485-752640ae6fcc\": \"86f747d2-a24a-495a-b870-f032f349a783\"}, \"locksDict\": {\"86f747d2-a24a-495a-b870-f032f349a783\": {\"uid\": \"86f747d2-a24a-495a-b870-f032f349a783\", \"db271835-3685-4281-b783-8ae499a08f95\": [1.0, 1.0, 1.0], \"8b11fca3-5e9e-47cd-bc0d-a4994051d81b\": [1.0, 1.0, 1.0], \"f538af2f-eceb-458a-9485-752640ae6fcc\": [1.0, 1.0, 1.0]}}}, \"locationLocks\": {\"locksByViewUid\": {\"db271835-3685-4281-b783-8ae499a08f95\": \"86f747d2-a24a-495a-b870-f032f349a783\", \"8b11fca3-5e9e-47cd-bc0d-a4994051d81b\": \"86f747d2-a24a-495a-b870-f032f349a783\", \"f538af2f-eceb-458a-9485-752640ae6fcc\": \"86f747d2-a24a-495a-b870-f032f349a783\"}, \"locksDict\": {\"86f747d2-a24a-495a-b870-f032f349a783\": {\"uid\": \"86f747d2-a24a-495a-b870-f032f349a783\", \"db271835-3685-4281-b783-8ae499a08f95\": [1.0, 1.0, 1.0], \"8b11fca3-5e9e-47cd-bc0d-a4994051d81b\": [1.0, 1.0, 1.0], \"f538af2f-eceb-458a-9485-752640ae6fcc\": [1.0, 1.0, 1.0]}}}, \"valueScaleLocks\": {\"locksByViewUid\": {\"db271835-3685-4281-b783-8ae499a08f95.33f695a2-0651-43f9-88b8-bb3a43d6124c\": \"e352d752-0817-4e6b-bff1-0edfef66b340\", \"8b11fca3-5e9e-47cd-bc0d-a4994051d81b.b673fb54-69d2-4ff2-a7d8-6e4b387eeef5\": \"e352d752-0817-4e6b-bff1-0edfef66b340\", \"db271835-3685-4281-b783-8ae499a08f95.877b6d67-d07d-4d29-b326-efca51c87c44\": \"8bc77aa3-1f70-4845-814b-fa6f08448d51\", \"8b11fca3-5e9e-47cd-bc0d-a4994051d81b.877b6d67-d07d-4d29-b326-efca51c87c44\": \"8bc77aa3-1f70-4845-814b-fa6f08448d51\", \"db271835-3685-4281-b783-8ae499a08f95.d5379140-7bc9-49cb-81b0-9ae9a7885615\": \"20aabcb8-6f72-410f-adff-f3b51ffd843b\", \"8b11fca3-5e9e-47cd-bc0d-a4994051d81b.d5379140-7bc9-49cb-81b0-9ae9a7885615\": \"20aabcb8-6f72-410f-adff-f3b51ffd843b\", \"db271835-3685-4281-b783-8ae499a08f95.3687685d-6037-47e6-8ec9-e0e9465cec91\": \"0edd9ab8-8346-4ab4-acf6-dd458d489003\", \"8b11fca3-5e9e-47cd-bc0d-a4994051d81b.e3425dd7-792b-47b7-8fda-bdb1ff53f366\": \"0edd9ab8-8346-4ab4-acf6-dd458d489003\", \"db271835-3685-4281-b783-8ae499a08f95.ecccd12d-a16d-43d6-9db5-174cd460f70e\": \"9b39c11c-829a-474c-a9d1-17172006e0eb\", \"8b11fca3-5e9e-47cd-bc0d-a4994051d81b.53e268d4-449e-42c7-a60f-87d722a23af2\": \"9b39c11c-829a-474c-a9d1-17172006e0eb\", \"db271835-3685-4281-b783-8ae499a08f95.32413ba5-1778-4a4c-bd4c-3c04945291c0\": \"9667dc4c-f2b9-4389-988a-13195e9571ff\", \"8b11fca3-5e9e-47cd-bc0d-a4994051d81b.2942d837-8c98-4327-ac04-d1cd3c6cfd73\": \"9667dc4c-f2b9-4389-988a-13195e9571ff\"}, \"locksDict\": {\"e352d752-0817-4e6b-bff1-0edfef66b340\": {\"uid\": \"e352d752-0817-4e6b-bff1-0edfef66b340\", \"db271835-3685-4281-b783-8ae499a08f95.33f695a2-0651-43f9-88b8-bb3a43d6124c\": {\"view\": \"db271835-3685-4281-b783-8ae499a08f95\", \"track\": \"33f695a2-0651-43f9-88b8-bb3a43d6124c\"}, \"8b11fca3-5e9e-47cd-bc0d-a4994051d81b.b673fb54-69d2-4ff2-a7d8-6e4b387eeef5\": {\"view\": \"8b11fca3-5e9e-47cd-bc0d-a4994051d81b\", \"track\": \"b673fb54-69d2-4ff2-a7d8-6e4b387eeef5\"}}, \"8bc77aa3-1f70-4845-814b-fa6f08448d51\": {\"uid\": \"8bc77aa3-1f70-4845-814b-fa6f08448d51\", \"db271835-3685-4281-b783-8ae499a08f95.877b6d67-d07d-4d29-b326-efca51c87c44\": {\"view\": \"db271835-3685-4281-b783-8ae499a08f95\", \"track\": \"877b6d67-d07d-4d29-b326-efca51c87c44\"}, \"8b11fca3-5e9e-47cd-bc0d-a4994051d81b.877b6d67-d07d-4d29-b326-efca51c87c44\": {\"view\": \"8b11fca3-5e9e-47cd-bc0d-a4994051d81b\", \"track\": \"877b6d67-d07d-4d29-b326-efca51c87c44\"}}, \"20aabcb8-6f72-410f-adff-f3b51ffd843b\": {\"uid\": \"20aabcb8-6f72-410f-adff-f3b51ffd843b\", \"db271835-3685-4281-b783-8ae499a08f95.d5379140-7bc9-49cb-81b0-9ae9a7885615\": {\"view\": \"db271835-3685-4281-b783-8ae499a08f95\", \"track\": \"d5379140-7bc9-49cb-81b0-9ae9a7885615\"}, \"8b11fca3-5e9e-47cd-bc0d-a4994051d81b.d5379140-7bc9-49cb-81b0-9ae9a7885615\": {\"view\": \"8b11fca3-5e9e-47cd-bc0d-a4994051d81b\", \"track\": \"d5379140-7bc9-49cb-81b0-9ae9a7885615\"}}, \"0edd9ab8-8346-4ab4-acf6-dd458d489003\": {\"uid\": \"0edd9ab8-8346-4ab4-acf6-dd458d489003\", \"db271835-3685-4281-b783-8ae499a08f95.3687685d-6037-47e6-8ec9-e0e9465cec91\": {\"view\": \"db271835-3685-4281-b783-8ae499a08f95\", \"track\": \"3687685d-6037-47e6-8ec9-e0e9465cec91\"}, \"8b11fca3-5e9e-47cd-bc0d-a4994051d81b.e3425dd7-792b-47b7-8fda-bdb1ff53f366\": {\"view\": \"8b11fca3-5e9e-47cd-bc0d-a4994051d81b\", \"track\": \"e3425dd7-792b-47b7-8fda-bdb1ff53f366\"}}, \"9b39c11c-829a-474c-a9d1-17172006e0eb\": {\"uid\": \"9b39c11c-829a-474c-a9d1-17172006e0eb\", \"db271835-3685-4281-b783-8ae499a08f95.ecccd12d-a16d-43d6-9db5-174cd460f70e\": {\"view\": \"db271835-3685-4281-b783-8ae499a08f95\", \"track\": \"ecccd12d-a16d-43d6-9db5-174cd460f70e\"}, \"8b11fca3-5e9e-47cd-bc0d-a4994051d81b.53e268d4-449e-42c7-a60f-87d722a23af2\": {\"view\": \"8b11fca3-5e9e-47cd-bc0d-a4994051d81b\", \"track\": \"53e268d4-449e-42c7-a60f-87d722a23af2\"}}, \"9667dc4c-f2b9-4389-988a-13195e9571ff\": {\"uid\": \"9667dc4c-f2b9-4389-988a-13195e9571ff\", \"db271835-3685-4281-b783-8ae499a08f95.32413ba5-1778-4a4c-bd4c-3c04945291c0\": {\"view\": \"db271835-3685-4281-b783-8ae499a08f95\", \"track\": \"32413ba5-1778-4a4c-bd4c-3c04945291c0\"}, \"8b11fca3-5e9e-47cd-bc0d-a4994051d81b.2942d837-8c98-4327-ac04-d1cd3c6cfd73\": {\"view\": \"8b11fca3-5e9e-47cd-bc0d-a4994051d81b\", \"track\": \"2942d837-8c98-4327-ac04-d1cd3c6cfd73\"}}}}},\n",
       "    );\n",
       "    </script>\n",
       "</html>"
      ],
      "text/plain": [
       "Viewconf(editable=True, viewEditable=True, tracksEditable=True, zoomFixed=None, compactLayout=None, exportViewUrl=None, trackSourceServers=None, views=[View(layout=Layout(x=0, y=0, w=4, h=6, moved=None, static=None), tracks=Tracks[TrackT](left=None, right=None, top=[EnumTrack(tilesetUid='EtrWT0VtScixmsmwFSd7zg', server='http://higlass.io/api/v1', type='chromosome-labels', uid='877b6d67-d07d-4d29-b326-efca51c87c44', width=None, height=25, options={'name': 'mm10 Chrom Sizes', 'showTooltip': True, 'showMousePosition': True, 'barFillColor': '#E71F19', 'barFillColorTop': '#E71F19', 'barFillColorBottom': '#16499D'}, data=None, chromInfoPath=None, fromViewUid=None, x=None, y=None), EnumTrack(tilesetUid='QDutvmyiSrec5nX4pA5WGQ', server='http://higlass.io/api/v1', type='gene-annotations', uid='d5379140-7bc9-49cb-81b0-9ae9a7885615', width=None, height=100, options={'name': 'mm10 Gene Annotations', 'showTooltip': True, 'showMousePosition': True, 'barFillColor': '#E71F19', 'barFillColorTop': '#E71F19', 'barFillColorBottom': '#16499D'}, data=None, chromInfoPath=None, fromViewUid=None, x=None, y=None), EnumTrack(tilesetUid='c5WaEeW1R7Ki2WGnURh2TA', server='http://localhost:8989/api/v1', type='bar', uid='3687685d-6037-47e6-8ec9-e0e9465cec91', width=None, height=25, options={'name': 'CA3 Glut mCH Frac', 'showTooltip': True, 'showMousePosition': True, 'barFillColor': '#16499D', 'barFillColorTop': '#E71F19', 'barFillColorBottom': '#16499D'}, data=None, chromInfoPath=None, fromViewUid=None, x=None, y=None), EnumTrack(tilesetUid='SXCR5SEqREuMAE1Dx_LnxA', server='http://localhost:8989/api/v1', type='bar', uid='ecccd12d-a16d-43d6-9db5-174cd460f70e', width=None, height=25, options={'name': 'CA3 Glut mCG Frac', 'showTooltip': True, 'showMousePosition': True, 'barFillColor': '#36AE37', 'barFillColorTop': '#E71F19', 'barFillColorBottom': '#16499D'}, data=None, chromInfoPath=None, fromViewUid=None, x=None, y=None), EnumTrack(tilesetUid='bt2BX-WeRneyzeT-xZOF5g', server='http://localhost:8989/api/v1', type='bar', uid='32413ba5-1778-4a4c-bd4c-3c04945291c0', width=None, height=25, options={'name': 'CA3 Glut ATAC CPM', 'showTooltip': True, 'showMousePosition': True, 'barFillColor': '#EF7D1A', 'barFillColorTop': '#E71F19', 'barFillColorBottom': '#16499D'}, data=None, chromInfoPath=None, fromViewUid=None, x=None, y=None)], bottom=None, center=[HeatmapTrack(tilesetUid='DOXSNkb1RSaDh6HrPbUC1g', server='http://localhost:8989/api/v1', type='heatmap', uid='33f695a2-0651-43f9-88b8-bb3a43d6124c', width=None, height=500, options={'name': 'CA3 Glut Impute 10K', 'showTooltip': True, 'showMousePosition': True, 'barFillColor': '#E71F19', 'barFillColorTop': '#E71F19', 'barFillColorBottom': '#16499D'}, data=None, position=None, transforms=None)], whole=None, gallery=None), uid='db271835-3685-4281-b783-8ae499a08f95', autocompleteSource=None, chromInfoPath=None, genomePositionSearchBox=None, genomePositionSearchBoxVisible=None, initialXDomain=(9500000.0, 11500000.0), initialYDomain=(9500000.0, 11500000.0), overlays=None, selectionView=None, zoomFixed=None, zoomLimits=(1.0, None)), View(layout=Layout(x=4, y=0, w=4, h=6, moved=None, static=None), tracks=Tracks[TrackT](left=None, right=None, top=[EnumTrack(tilesetUid='EtrWT0VtScixmsmwFSd7zg', server='http://higlass.io/api/v1', type='chromosome-labels', uid='877b6d67-d07d-4d29-b326-efca51c87c44', width=None, height=25, options={'name': 'mm10 Chrom Sizes', 'showTooltip': True, 'showMousePosition': True, 'barFillColor': '#E71F19', 'barFillColorTop': '#E71F19', 'barFillColorBottom': '#16499D'}, data=None, chromInfoPath=None, fromViewUid=None, x=None, y=None), EnumTrack(tilesetUid='QDutvmyiSrec5nX4pA5WGQ', server='http://higlass.io/api/v1', type='gene-annotations', uid='d5379140-7bc9-49cb-81b0-9ae9a7885615', width=None, height=100, options={'name': 'mm10 Gene Annotations', 'showTooltip': True, 'showMousePosition': True, 'barFillColor': '#E71F19', 'barFillColorTop': '#E71F19', 'barFillColorBottom': '#16499D'}, data=None, chromInfoPath=None, fromViewUid=None, x=None, y=None), EnumTrack(tilesetUid=None, server=None, type='divergent-bar', uid='6e757304-410f-4b91-873b-2ff75874ac10', width=None, height=25, options={'name': 'mCH Frac (left / right) - log scale', 'showTooltip': True, 'showMousePosition': True, 'barFillColor': '#16499D', 'barFillColorTop': 'red', 'barFillColorBottom': 'blue', 'valueScaleMin': 0.1, 'valueScaleMax': 10, 'valueScaling': 'log'}, data=Data(type='divided', url=None, server=None, filetype=None, children=[{'tilesetUid': 'c5WaEeW1R7Ki2WGnURh2TA', 'server': 'http://localhost:8989/api/v1'}, {'tilesetUid': 'W0OdIv84Q6yMfqpKvubetQ', 'server': 'http://localhost:8989/api/v1'}], tilesetInfo=None, tiles=None), chromInfoPath=None, fromViewUid=None, x=None, y=None), EnumTrack(tilesetUid=None, server=None, type='divergent-bar', uid='bf0743d2-7e7a-49c9-aa29-378cd9139ca0', width=None, height=25, options={'name': 'mCG Frac (left / right) - log scale', 'showTooltip': True, 'showMousePosition': True, 'barFillColor': '#36AE37', 'barFillColorTop': 'red', 'barFillColorBottom': 'blue', 'valueScaleMin': 0.1, 'valueScaleMax': 10, 'valueScaling': 'log'}, data=Data(type='divided', url=None, server=None, filetype=None, children=[{'tilesetUid': 'SXCR5SEqREuMAE1Dx_LnxA', 'server': 'http://localhost:8989/api/v1'}, {'tilesetUid': 'P8dzmuiKTWyOn9u2vqLg-w', 'server': 'http://localhost:8989/api/v1'}], tilesetInfo=None, tiles=None), chromInfoPath=None, fromViewUid=None, x=None, y=None), EnumTrack(tilesetUid=None, server=None, type='divergent-bar', uid='ecd90fc8-e622-4435-a370-d4e698671056', width=None, height=25, options={'name': 'ATAC CPM (left / right) - log scale', 'showTooltip': True, 'showMousePosition': True, 'barFillColor': '#EF7D1A', 'barFillColorTop': 'red', 'barFillColorBottom': 'blue', 'valueScaleMin': 0.1, 'valueScaleMax': 10, 'valueScaling': 'log'}, data=Data(type='divided', url=None, server=None, filetype=None, children=[{'tilesetUid': 'bt2BX-WeRneyzeT-xZOF5g', 'server': 'http://localhost:8989/api/v1'}, {'tilesetUid': 'fA7Rwv3MRn6g9gZpjZAhNg', 'server': 'http://localhost:8989/api/v1'}], tilesetInfo=None, tiles=None), chromInfoPath=None, fromViewUid=None, x=None, y=None)], bottom=None, center=[HeatmapTrack(tilesetUid=None, server=None, type='heatmap', uid='84c78525-b1ed-4708-a601-3cee4d3e4a12', width=None, height=500, options={'name': 'Impute 10K (left / right) - log scale', 'showTooltip': True, 'showMousePosition': True, 'barFillColor': '#E71F19', 'barFillColorTop': '#E71F19', 'barFillColorBottom': '#16499D', 'colorRange': ['blue', 'white', 'red'], 'valueScaleMin': 0.1, 'valueScaleMax': 10}, data=Data(type='divided', url=None, server=None, filetype=None, children=[{'tilesetUid': 'DOXSNkb1RSaDh6HrPbUC1g', 'server': 'http://localhost:8989/api/v1'}, {'tilesetUid': 'GFd1Y9WRQPGccPITuXmZbg', 'server': 'http://localhost:8989/api/v1'}], tilesetInfo=None, tiles=None), position=None, transforms=None)], whole=None, gallery=None), uid='f538af2f-eceb-458a-9485-752640ae6fcc', autocompleteSource=None, chromInfoPath=None, genomePositionSearchBox=None, genomePositionSearchBoxVisible=None, initialXDomain=(9500000.0, 11500000.0), initialYDomain=(9500000.0, 11500000.0), overlays=None, selectionView=None, zoomFixed=None, zoomLimits=(1.0, None)), View(layout=Layout(x=8, y=0, w=4, h=6, moved=None, static=None), tracks=Tracks[TrackT](left=None, right=None, top=[EnumTrack(tilesetUid='EtrWT0VtScixmsmwFSd7zg', server='http://higlass.io/api/v1', type='chromosome-labels', uid='877b6d67-d07d-4d29-b326-efca51c87c44', width=None, height=25, options={'name': 'mm10 Chrom Sizes', 'showTooltip': True, 'showMousePosition': True, 'barFillColor': '#E71F19', 'barFillColorTop': '#E71F19', 'barFillColorBottom': '#16499D'}, data=None, chromInfoPath=None, fromViewUid=None, x=None, y=None), EnumTrack(tilesetUid='QDutvmyiSrec5nX4pA5WGQ', server='http://higlass.io/api/v1', type='gene-annotations', uid='d5379140-7bc9-49cb-81b0-9ae9a7885615', width=None, height=100, options={'name': 'mm10 Gene Annotations', 'showTooltip': True, 'showMousePosition': True, 'barFillColor': '#E71F19', 'barFillColorTop': '#E71F19', 'barFillColorBottom': '#16499D'}, data=None, chromInfoPath=None, fromViewUid=None, x=None, y=None), EnumTrack(tilesetUid='W0OdIv84Q6yMfqpKvubetQ', server='http://localhost:8989/api/v1', type='bar', uid='e3425dd7-792b-47b7-8fda-bdb1ff53f366', width=None, height=25, options={'name': 'Sst Gaba mCH Frac', 'showTooltip': True, 'showMousePosition': True, 'barFillColor': '#16499D', 'barFillColorTop': '#E71F19', 'barFillColorBottom': '#16499D'}, data=None, chromInfoPath=None, fromViewUid=None, x=None, y=None), EnumTrack(tilesetUid='P8dzmuiKTWyOn9u2vqLg-w', server='http://localhost:8989/api/v1', type='bar', uid='53e268d4-449e-42c7-a60f-87d722a23af2', width=None, height=25, options={'name': 'Sst Gaba mCG Frac', 'showTooltip': True, 'showMousePosition': True, 'barFillColor': '#36AE37', 'barFillColorTop': '#E71F19', 'barFillColorBottom': '#16499D'}, data=None, chromInfoPath=None, fromViewUid=None, x=None, y=None), EnumTrack(tilesetUid='fA7Rwv3MRn6g9gZpjZAhNg', server='http://localhost:8989/api/v1', type='bar', uid='2942d837-8c98-4327-ac04-d1cd3c6cfd73', width=None, height=25, options={'name': 'Sst Gaba ATAC CPM', 'showTooltip': True, 'showMousePosition': True, 'barFillColor': '#EF7D1A', 'barFillColorTop': '#E71F19', 'barFillColorBottom': '#16499D'}, data=None, chromInfoPath=None, fromViewUid=None, x=None, y=None)], bottom=None, center=[HeatmapTrack(tilesetUid='GFd1Y9WRQPGccPITuXmZbg', server='http://localhost:8989/api/v1', type='heatmap', uid='b673fb54-69d2-4ff2-a7d8-6e4b387eeef5', width=None, height=500, options={'name': 'Sst Gaba Impute 10K', 'showTooltip': True, 'showMousePosition': True, 'barFillColor': '#E71F19', 'barFillColorTop': '#E71F19', 'barFillColorBottom': '#16499D'}, data=None, position=None, transforms=None)], whole=None, gallery=None), uid='8b11fca3-5e9e-47cd-bc0d-a4994051d81b', autocompleteSource=None, chromInfoPath=None, genomePositionSearchBox=None, genomePositionSearchBoxVisible=None, initialXDomain=(9500000.0, 11500000.0), initialYDomain=(9500000.0, 11500000.0), overlays=None, selectionView=None, zoomFixed=None, zoomLimits=(1.0, None))], zoomLocks=ZoomLocks(locksByViewUid={'db271835-3685-4281-b783-8ae499a08f95': '86f747d2-a24a-495a-b870-f032f349a783', '8b11fca3-5e9e-47cd-bc0d-a4994051d81b': '86f747d2-a24a-495a-b870-f032f349a783', 'f538af2f-eceb-458a-9485-752640ae6fcc': '86f747d2-a24a-495a-b870-f032f349a783'}, locksDict={'86f747d2-a24a-495a-b870-f032f349a783': Lock(uid='86f747d2-a24a-495a-b870-f032f349a783', db271835-3685-4281-b783-8ae499a08f95=(1.0, 1.0, 1.0), 8b11fca3-5e9e-47cd-bc0d-a4994051d81b=(1.0, 1.0, 1.0), f538af2f-eceb-458a-9485-752640ae6fcc=(1.0, 1.0, 1.0))}), locationLocks=LocationLocks(locksByViewUid={'db271835-3685-4281-b783-8ae499a08f95': '86f747d2-a24a-495a-b870-f032f349a783', '8b11fca3-5e9e-47cd-bc0d-a4994051d81b': '86f747d2-a24a-495a-b870-f032f349a783', 'f538af2f-eceb-458a-9485-752640ae6fcc': '86f747d2-a24a-495a-b870-f032f349a783'}, locksDict={'86f747d2-a24a-495a-b870-f032f349a783': Lock(uid='86f747d2-a24a-495a-b870-f032f349a783', db271835-3685-4281-b783-8ae499a08f95=(1.0, 1.0, 1.0), 8b11fca3-5e9e-47cd-bc0d-a4994051d81b=(1.0, 1.0, 1.0), f538af2f-eceb-458a-9485-752640ae6fcc=(1.0, 1.0, 1.0))}), valueScaleLocks=ValueScaleLocks(locksByViewUid={'db271835-3685-4281-b783-8ae499a08f95.33f695a2-0651-43f9-88b8-bb3a43d6124c': 'e352d752-0817-4e6b-bff1-0edfef66b340', '8b11fca3-5e9e-47cd-bc0d-a4994051d81b.b673fb54-69d2-4ff2-a7d8-6e4b387eeef5': 'e352d752-0817-4e6b-bff1-0edfef66b340', 'db271835-3685-4281-b783-8ae499a08f95.877b6d67-d07d-4d29-b326-efca51c87c44': '8bc77aa3-1f70-4845-814b-fa6f08448d51', '8b11fca3-5e9e-47cd-bc0d-a4994051d81b.877b6d67-d07d-4d29-b326-efca51c87c44': '8bc77aa3-1f70-4845-814b-fa6f08448d51', 'db271835-3685-4281-b783-8ae499a08f95.d5379140-7bc9-49cb-81b0-9ae9a7885615': '20aabcb8-6f72-410f-adff-f3b51ffd843b', '8b11fca3-5e9e-47cd-bc0d-a4994051d81b.d5379140-7bc9-49cb-81b0-9ae9a7885615': '20aabcb8-6f72-410f-adff-f3b51ffd843b', 'db271835-3685-4281-b783-8ae499a08f95.3687685d-6037-47e6-8ec9-e0e9465cec91': '0edd9ab8-8346-4ab4-acf6-dd458d489003', '8b11fca3-5e9e-47cd-bc0d-a4994051d81b.e3425dd7-792b-47b7-8fda-bdb1ff53f366': '0edd9ab8-8346-4ab4-acf6-dd458d489003', 'db271835-3685-4281-b783-8ae499a08f95.ecccd12d-a16d-43d6-9db5-174cd460f70e': '9b39c11c-829a-474c-a9d1-17172006e0eb', '8b11fca3-5e9e-47cd-bc0d-a4994051d81b.53e268d4-449e-42c7-a60f-87d722a23af2': '9b39c11c-829a-474c-a9d1-17172006e0eb', 'db271835-3685-4281-b783-8ae499a08f95.32413ba5-1778-4a4c-bd4c-3c04945291c0': '9667dc4c-f2b9-4389-988a-13195e9571ff', '8b11fca3-5e9e-47cd-bc0d-a4994051d81b.2942d837-8c98-4327-ac04-d1cd3c6cfd73': '9667dc4c-f2b9-4389-988a-13195e9571ff'}, locksDict={'e352d752-0817-4e6b-bff1-0edfef66b340': ValueScaleLock(uid='e352d752-0817-4e6b-bff1-0edfef66b340', ignoreOffScreenValues=None, db271835-3685-4281-b783-8ae499a08f95.33f695a2-0651-43f9-88b8-bb3a43d6124c={'view': 'db271835-3685-4281-b783-8ae499a08f95', 'track': '33f695a2-0651-43f9-88b8-bb3a43d6124c'}, 8b11fca3-5e9e-47cd-bc0d-a4994051d81b.b673fb54-69d2-4ff2-a7d8-6e4b387eeef5={'view': '8b11fca3-5e9e-47cd-bc0d-a4994051d81b', 'track': 'b673fb54-69d2-4ff2-a7d8-6e4b387eeef5'}), '8bc77aa3-1f70-4845-814b-fa6f08448d51': ValueScaleLock(uid='8bc77aa3-1f70-4845-814b-fa6f08448d51', ignoreOffScreenValues=None, db271835-3685-4281-b783-8ae499a08f95.877b6d67-d07d-4d29-b326-efca51c87c44={'view': 'db271835-3685-4281-b783-8ae499a08f95', 'track': '877b6d67-d07d-4d29-b326-efca51c87c44'}, 8b11fca3-5e9e-47cd-bc0d-a4994051d81b.877b6d67-d07d-4d29-b326-efca51c87c44={'view': '8b11fca3-5e9e-47cd-bc0d-a4994051d81b', 'track': '877b6d67-d07d-4d29-b326-efca51c87c44'}), '20aabcb8-6f72-410f-adff-f3b51ffd843b': ValueScaleLock(uid='20aabcb8-6f72-410f-adff-f3b51ffd843b', ignoreOffScreenValues=None, db271835-3685-4281-b783-8ae499a08f95.d5379140-7bc9-49cb-81b0-9ae9a7885615={'view': 'db271835-3685-4281-b783-8ae499a08f95', 'track': 'd5379140-7bc9-49cb-81b0-9ae9a7885615'}, 8b11fca3-5e9e-47cd-bc0d-a4994051d81b.d5379140-7bc9-49cb-81b0-9ae9a7885615={'view': '8b11fca3-5e9e-47cd-bc0d-a4994051d81b', 'track': 'd5379140-7bc9-49cb-81b0-9ae9a7885615'}), '0edd9ab8-8346-4ab4-acf6-dd458d489003': ValueScaleLock(uid='0edd9ab8-8346-4ab4-acf6-dd458d489003', ignoreOffScreenValues=None, db271835-3685-4281-b783-8ae499a08f95.3687685d-6037-47e6-8ec9-e0e9465cec91={'view': 'db271835-3685-4281-b783-8ae499a08f95', 'track': '3687685d-6037-47e6-8ec9-e0e9465cec91'}, 8b11fca3-5e9e-47cd-bc0d-a4994051d81b.e3425dd7-792b-47b7-8fda-bdb1ff53f366={'view': '8b11fca3-5e9e-47cd-bc0d-a4994051d81b', 'track': 'e3425dd7-792b-47b7-8fda-bdb1ff53f366'}), '9b39c11c-829a-474c-a9d1-17172006e0eb': ValueScaleLock(uid='9b39c11c-829a-474c-a9d1-17172006e0eb', ignoreOffScreenValues=None, db271835-3685-4281-b783-8ae499a08f95.ecccd12d-a16d-43d6-9db5-174cd460f70e={'view': 'db271835-3685-4281-b783-8ae499a08f95', 'track': 'ecccd12d-a16d-43d6-9db5-174cd460f70e'}, 8b11fca3-5e9e-47cd-bc0d-a4994051d81b.53e268d4-449e-42c7-a60f-87d722a23af2={'view': '8b11fca3-5e9e-47cd-bc0d-a4994051d81b', 'track': '53e268d4-449e-42c7-a60f-87d722a23af2'}), '9667dc4c-f2b9-4389-988a-13195e9571ff': ValueScaleLock(uid='9667dc4c-f2b9-4389-988a-13195e9571ff', ignoreOffScreenValues=None, db271835-3685-4281-b783-8ae499a08f95.32413ba5-1778-4a4c-bd4c-3c04945291c0={'view': 'db271835-3685-4281-b783-8ae499a08f95', 'track': '32413ba5-1778-4a4c-bd4c-3c04945291c0'}, 8b11fca3-5e9e-47cd-bc0d-a4994051d81b.2942d837-8c98-4327-ac04-d1cd3c6cfd73={'view': '8b11fca3-5e9e-47cd-bc0d-a4994051d81b', 'track': '2942d837-8c98-4327-ac04-d1cd3c6cfd73'})}), chromInfoPath=None)"
      ]
     },
     "execution_count": 8,
     "metadata": {},
     "output_type": "execute_result"
    }
   ],
   "source": [
    "vc = hgd.two_cell_type_diff_viewconf(\n",
    "    cell_type_1=ct1, \n",
    "    cell_type_2=ct2, \n",
    "    modality_1d=modality_1d, \n",
    "    modality_2d=modality_2d,\n",
    "    region1=region1,\n",
    "    region2=region1\n",
    ")\n",
    "vc"
   ]
  },
  {
   "cell_type": "code",
   "execution_count": 10,
   "id": "31ea2226-2521-4a03-a4f5-8eb112b62be0",
   "metadata": {},
   "outputs": [
    {
     "data": {
      "text/html": [
       "\n",
       "<!DOCTYPE html>\n",
       "<html>\n",
       "  <head>\n",
       "    <link rel=\"stylesheet\" href=\"https://esm.sh/higlass@1.12/dist/hglib.css\">\n",
       "    <script src=\"https://unpkg.com/requirejs-toggle\"></script>\n",
       "    \n",
       "    <script src=\"https://unpkg.com/requirejs-toggle\"></script>\n",
       "  </head>\n",
       "  <body>\n",
       "    <div id=\"jupyter-hg-e5ad7932c6f441f5adbc6e548b609bf3\"></div>\n",
       "  </body>\n",
       "  <script type=\"module\">\n",
       "    import hglib from \"https://esm.sh/higlass@1.12?deps=react@17,react-dom@17,pixi.js@6\";\n",
       "    hglib.viewer(\n",
       "      document.getElementById('jupyter-hg-e5ad7932c6f441f5adbc6e548b609bf3'),\n",
       "      {\"editable\": true, \"viewEditable\": true, \"tracksEditable\": true, \"views\": [{\"layout\": {\"x\": 0, \"y\": 0, \"w\": 6, \"h\": 6}, \"tracks\": {\"left\": [{\"tilesetUid\": \"EtrWT0VtScixmsmwFSd7zg\", \"server\": \"http://higlass.io/api/v1\", \"type\": \"chromosome-labels\", \"uid\": \"72393b40-7ece-49d0-a03e-aedaeb2cc5cc\", \"height\": 25, \"options\": {\"name\": \"mm10 Chrom Sizes\", \"showTooltip\": true, \"showMousePosition\": true, \"barFillColor\": \"#EF7D1A\", \"barFillColorTop\": \"#E71F19\", \"barFillColorBottom\": \"#16499D\"}}, {\"tilesetUid\": \"QDutvmyiSrec5nX4pA5WGQ\", \"server\": \"http://higlass.io/api/v1\", \"type\": \"gene-annotations\", \"uid\": \"eef707e8-a99f-4158-9ae2-d8f3a5ef26a5\", \"height\": 100, \"options\": {\"name\": \"mm10 Gene Annotations\", \"showTooltip\": true, \"showMousePosition\": true, \"barFillColor\": \"#EF7D1A\", \"barFillColorTop\": \"#E71F19\", \"barFillColorBottom\": \"#16499D\"}}, {\"tilesetUid\": \"c5WaEeW1R7Ki2WGnURh2TA\", \"server\": \"http://localhost:8989/api/v1\", \"type\": \"bar\", \"uid\": \"60d80acb-73a7-4ad4-9ee2-69175242081c\", \"height\": 25, \"options\": {\"name\": \"CA3 Glut mCH Frac\", \"showTooltip\": true, \"showMousePosition\": true, \"barFillColor\": \"#16499D\", \"barFillColorTop\": \"#E71F19\", \"barFillColorBottom\": \"#16499D\"}}, {\"tilesetUid\": \"SXCR5SEqREuMAE1Dx_LnxA\", \"server\": \"http://localhost:8989/api/v1\", \"type\": \"bar\", \"uid\": \"c791fe26-28f7-4085-b3fb-e57f56b9bd3c\", \"height\": 25, \"options\": {\"name\": \"CA3 Glut mCG Frac\", \"showTooltip\": true, \"showMousePosition\": true, \"barFillColor\": \"#36AE37\", \"barFillColorTop\": \"#E71F19\", \"barFillColorBottom\": \"#16499D\"}}, {\"tilesetUid\": \"bt2BX-WeRneyzeT-xZOF5g\", \"server\": \"http://localhost:8989/api/v1\", \"type\": \"bar\", \"uid\": \"6647ae18-9247-457b-b679-4ee48b8b7255\", \"height\": 25, \"options\": {\"name\": \"CA3 Glut ATAC CPM\", \"showTooltip\": true, \"showMousePosition\": true, \"barFillColor\": \"#EF7D1A\", \"barFillColorTop\": \"#E71F19\", \"barFillColorBottom\": \"#16499D\"}}], \"top\": [{\"tilesetUid\": \"EtrWT0VtScixmsmwFSd7zg\", \"server\": \"http://higlass.io/api/v1\", \"type\": \"chromosome-labels\", \"uid\": \"5eb069b6-ca14-4503-bb68-251f5543e2f0\", \"height\": 25, \"options\": {\"name\": \"mm10 Chrom Sizes\", \"showTooltip\": true, \"showMousePosition\": true, \"barFillColor\": \"#EF7D1A\", \"barFillColorTop\": \"#E71F19\", \"barFillColorBottom\": \"#16499D\"}}, {\"tilesetUid\": \"QDutvmyiSrec5nX4pA5WGQ\", \"server\": \"http://higlass.io/api/v1\", \"type\": \"gene-annotations\", \"uid\": \"950b102f-6e8f-4e7b-9520-3b8322690800\", \"height\": 100, \"options\": {\"name\": \"mm10 Gene Annotations\", \"showTooltip\": true, \"showMousePosition\": true, \"barFillColor\": \"#EF7D1A\", \"barFillColorTop\": \"#E71F19\", \"barFillColorBottom\": \"#16499D\"}}, {\"tilesetUid\": \"c5WaEeW1R7Ki2WGnURh2TA\", \"server\": \"http://localhost:8989/api/v1\", \"type\": \"bar\", \"uid\": \"d03093b3-4df6-4a08-afee-3c8f5408f9a9\", \"height\": 25, \"options\": {\"name\": \"CA3 Glut mCH Frac\", \"showTooltip\": true, \"showMousePosition\": true, \"barFillColor\": \"#16499D\", \"barFillColorTop\": \"#E71F19\", \"barFillColorBottom\": \"#16499D\"}}, {\"tilesetUid\": \"SXCR5SEqREuMAE1Dx_LnxA\", \"server\": \"http://localhost:8989/api/v1\", \"type\": \"bar\", \"uid\": \"adf5edc3-9f77-4b3b-be4d-a8aeb0a44177\", \"height\": 25, \"options\": {\"name\": \"CA3 Glut mCG Frac\", \"showTooltip\": true, \"showMousePosition\": true, \"barFillColor\": \"#36AE37\", \"barFillColorTop\": \"#E71F19\", \"barFillColorBottom\": \"#16499D\"}}, {\"tilesetUid\": \"bt2BX-WeRneyzeT-xZOF5g\", \"server\": \"http://localhost:8989/api/v1\", \"type\": \"bar\", \"uid\": \"e93324c2-5f34-493b-8c19-e8a77312a90c\", \"height\": 25, \"options\": {\"name\": \"CA3 Glut ATAC CPM\", \"showTooltip\": true, \"showMousePosition\": true, \"barFillColor\": \"#EF7D1A\", \"barFillColorTop\": \"#E71F19\", \"barFillColorBottom\": \"#16499D\"}}], \"center\": [{\"tilesetUid\": \"DOXSNkb1RSaDh6HrPbUC1g\", \"server\": \"http://localhost:8989/api/v1\", \"type\": \"heatmap\", \"uid\": \"619f3e9e-b212-4f0e-a261-629e0ad803ac\", \"height\": 500, \"options\": {\"name\": \"CA3 Glut Impute 10K\", \"showTooltip\": true, \"showMousePosition\": true, \"barFillColor\": \"#EF7D1A\", \"barFillColorTop\": \"#E71F19\", \"barFillColorBottom\": \"#16499D\"}}, {\"type\": \"viewport-projection-center\", \"uid\": \"90201e09-198d-42c6-92a0-b84c5e650ed3\", \"fromViewUid\": \"9b7dab84-31af-461f-9de5-10f3ea0dd84f\"}]}, \"uid\": \"8b54a354-a7f9-4430-af65-d46ef9057b25\", \"initialXDomain\": [9500000.0, 19500000.0], \"initialYDomain\": [9500000.0, 19500000.0], \"zoomLimits\": [1.0, null]}, {\"layout\": {\"x\": 6, \"y\": 0, \"w\": 6, \"h\": 6}, \"tracks\": {\"right\": [{\"tilesetUid\": \"c5WaEeW1R7Ki2WGnURh2TA\", \"server\": \"http://localhost:8989/api/v1\", \"type\": \"bar\", \"uid\": \"5ef2d34a-8af2-4993-966f-ab503ecbef01\", \"height\": 25, \"options\": {\"name\": \"CA3 Glut mCH Frac\", \"showTooltip\": true, \"showMousePosition\": true, \"barFillColor\": \"#16499D\", \"barFillColorTop\": \"#E71F19\", \"barFillColorBottom\": \"#16499D\"}}, {\"tilesetUid\": \"SXCR5SEqREuMAE1Dx_LnxA\", \"server\": \"http://localhost:8989/api/v1\", \"type\": \"bar\", \"uid\": \"5c100b00-05e6-40e6-bff6-2ccd0a2c8368\", \"height\": 25, \"options\": {\"name\": \"CA3 Glut mCG Frac\", \"showTooltip\": true, \"showMousePosition\": true, \"barFillColor\": \"#36AE37\", \"barFillColorTop\": \"#E71F19\", \"barFillColorBottom\": \"#16499D\"}}, {\"tilesetUid\": \"bt2BX-WeRneyzeT-xZOF5g\", \"server\": \"http://localhost:8989/api/v1\", \"type\": \"bar\", \"uid\": \"a679a5d9-a2d6-4236-94a9-bcd4abfb3574\", \"height\": 25, \"options\": {\"name\": \"CA3 Glut ATAC CPM\", \"showTooltip\": true, \"showMousePosition\": true, \"barFillColor\": \"#EF7D1A\", \"barFillColorTop\": \"#E71F19\", \"barFillColorBottom\": \"#16499D\"}}, {\"tilesetUid\": \"QDutvmyiSrec5nX4pA5WGQ\", \"server\": \"http://higlass.io/api/v1\", \"type\": \"gene-annotations\", \"uid\": \"9ac7a588-7947-4cbd-94e0-1ccd77765cbe\", \"height\": 100, \"options\": {\"name\": \"mm10 Gene Annotations\", \"showTooltip\": true, \"showMousePosition\": true, \"barFillColor\": \"#EF7D1A\", \"barFillColorTop\": \"#E71F19\", \"barFillColorBottom\": \"#16499D\"}}, {\"tilesetUid\": \"EtrWT0VtScixmsmwFSd7zg\", \"server\": \"http://higlass.io/api/v1\", \"type\": \"chromosome-labels\", \"uid\": \"0af0cb2f-b404-4d7c-adab-725aa45293e3\", \"height\": 25, \"options\": {\"name\": \"mm10 Chrom Sizes\", \"showTooltip\": true, \"showMousePosition\": true, \"barFillColor\": \"#EF7D1A\", \"barFillColorTop\": \"#E71F19\", \"barFillColorBottom\": \"#16499D\"}}], \"top\": [{\"tilesetUid\": \"EtrWT0VtScixmsmwFSd7zg\", \"server\": \"http://higlass.io/api/v1\", \"type\": \"chromosome-labels\", \"uid\": \"5eb069b6-ca14-4503-bb68-251f5543e2f0\", \"height\": 25, \"options\": {\"name\": \"mm10 Chrom Sizes\", \"showTooltip\": true, \"showMousePosition\": true, \"barFillColor\": \"#EF7D1A\", \"barFillColorTop\": \"#E71F19\", \"barFillColorBottom\": \"#16499D\"}}, {\"tilesetUid\": \"QDutvmyiSrec5nX4pA5WGQ\", \"server\": \"http://higlass.io/api/v1\", \"type\": \"gene-annotations\", \"uid\": \"950b102f-6e8f-4e7b-9520-3b8322690800\", \"height\": 100, \"options\": {\"name\": \"mm10 Gene Annotations\", \"showTooltip\": true, \"showMousePosition\": true, \"barFillColor\": \"#EF7D1A\", \"barFillColorTop\": \"#E71F19\", \"barFillColorBottom\": \"#16499D\"}}, {\"tilesetUid\": \"c5WaEeW1R7Ki2WGnURh2TA\", \"server\": \"http://localhost:8989/api/v1\", \"type\": \"bar\", \"uid\": \"d03093b3-4df6-4a08-afee-3c8f5408f9a9\", \"height\": 25, \"options\": {\"name\": \"CA3 Glut mCH Frac\", \"showTooltip\": true, \"showMousePosition\": true, \"barFillColor\": \"#16499D\", \"barFillColorTop\": \"#E71F19\", \"barFillColorBottom\": \"#16499D\"}}, {\"tilesetUid\": \"SXCR5SEqREuMAE1Dx_LnxA\", \"server\": \"http://localhost:8989/api/v1\", \"type\": \"bar\", \"uid\": \"adf5edc3-9f77-4b3b-be4d-a8aeb0a44177\", \"height\": 25, \"options\": {\"name\": \"CA3 Glut mCG Frac\", \"showTooltip\": true, \"showMousePosition\": true, \"barFillColor\": \"#36AE37\", \"barFillColorTop\": \"#E71F19\", \"barFillColorBottom\": \"#16499D\"}}, {\"tilesetUid\": \"bt2BX-WeRneyzeT-xZOF5g\", \"server\": \"http://localhost:8989/api/v1\", \"type\": \"bar\", \"uid\": \"e93324c2-5f34-493b-8c19-e8a77312a90c\", \"height\": 25, \"options\": {\"name\": \"CA3 Glut ATAC CPM\", \"showTooltip\": true, \"showMousePosition\": true, \"barFillColor\": \"#EF7D1A\", \"barFillColorTop\": \"#E71F19\", \"barFillColorBottom\": \"#16499D\"}}], \"center\": [{\"tilesetUid\": \"DOXSNkb1RSaDh6HrPbUC1g\", \"server\": \"http://localhost:8989/api/v1\", \"type\": \"heatmap\", \"uid\": \"619f3e9e-b212-4f0e-a261-629e0ad803ac\", \"height\": 500, \"options\": {\"name\": \"CA3 Glut Impute 10K\", \"showTooltip\": true, \"showMousePosition\": true, \"barFillColor\": \"#EF7D1A\", \"barFillColorTop\": \"#E71F19\", \"barFillColorBottom\": \"#16499D\"}}]}, \"uid\": \"9b7dab84-31af-461f-9de5-10f3ea0dd84f\", \"initialXDomain\": [9500000.0, 11500000.0], \"initialYDomain\": [17500000.0, 19500000.0], \"zoomLimits\": [1.0, null]}]},\n",
       "    );\n",
       "    </script>\n",
       "</html>"
      ],
      "text/plain": [
       "Viewconf(editable=True, viewEditable=True, tracksEditable=True, zoomFixed=None, compactLayout=None, exportViewUrl=None, trackSourceServers=None, views=[View(layout=Layout(x=0, y=0, w=6, h=6, moved=None, static=None), tracks=Tracks[TrackT](left=[EnumTrack(tilesetUid='EtrWT0VtScixmsmwFSd7zg', server='http://higlass.io/api/v1', type='chromosome-labels', uid='72393b40-7ece-49d0-a03e-aedaeb2cc5cc', width=None, height=25, options={'name': 'mm10 Chrom Sizes', 'showTooltip': True, 'showMousePosition': True, 'barFillColor': '#EF7D1A', 'barFillColorTop': '#E71F19', 'barFillColorBottom': '#16499D'}, data=None, chromInfoPath=None, fromViewUid=None, x=None, y=None), EnumTrack(tilesetUid='QDutvmyiSrec5nX4pA5WGQ', server='http://higlass.io/api/v1', type='gene-annotations', uid='eef707e8-a99f-4158-9ae2-d8f3a5ef26a5', width=None, height=100, options={'name': 'mm10 Gene Annotations', 'showTooltip': True, 'showMousePosition': True, 'barFillColor': '#EF7D1A', 'barFillColorTop': '#E71F19', 'barFillColorBottom': '#16499D'}, data=None, chromInfoPath=None, fromViewUid=None, x=None, y=None), EnumTrack(tilesetUid='c5WaEeW1R7Ki2WGnURh2TA', server='http://localhost:8989/api/v1', type='bar', uid='60d80acb-73a7-4ad4-9ee2-69175242081c', width=None, height=25, options={'name': 'CA3 Glut mCH Frac', 'showTooltip': True, 'showMousePosition': True, 'barFillColor': '#16499D', 'barFillColorTop': '#E71F19', 'barFillColorBottom': '#16499D'}, data=None, chromInfoPath=None, fromViewUid=None, x=None, y=None), EnumTrack(tilesetUid='SXCR5SEqREuMAE1Dx_LnxA', server='http://localhost:8989/api/v1', type='bar', uid='c791fe26-28f7-4085-b3fb-e57f56b9bd3c', width=None, height=25, options={'name': 'CA3 Glut mCG Frac', 'showTooltip': True, 'showMousePosition': True, 'barFillColor': '#36AE37', 'barFillColorTop': '#E71F19', 'barFillColorBottom': '#16499D'}, data=None, chromInfoPath=None, fromViewUid=None, x=None, y=None), EnumTrack(tilesetUid='bt2BX-WeRneyzeT-xZOF5g', server='http://localhost:8989/api/v1', type='bar', uid='6647ae18-9247-457b-b679-4ee48b8b7255', width=None, height=25, options={'name': 'CA3 Glut ATAC CPM', 'showTooltip': True, 'showMousePosition': True, 'barFillColor': '#EF7D1A', 'barFillColorTop': '#E71F19', 'barFillColorBottom': '#16499D'}, data=None, chromInfoPath=None, fromViewUid=None, x=None, y=None)], right=None, top=[EnumTrack(tilesetUid='EtrWT0VtScixmsmwFSd7zg', server='http://higlass.io/api/v1', type='chromosome-labels', uid='5eb069b6-ca14-4503-bb68-251f5543e2f0', width=None, height=25, options={'name': 'mm10 Chrom Sizes', 'showTooltip': True, 'showMousePosition': True, 'barFillColor': '#EF7D1A', 'barFillColorTop': '#E71F19', 'barFillColorBottom': '#16499D'}, data=None, chromInfoPath=None, fromViewUid=None, x=None, y=None), EnumTrack(tilesetUid='QDutvmyiSrec5nX4pA5WGQ', server='http://higlass.io/api/v1', type='gene-annotations', uid='950b102f-6e8f-4e7b-9520-3b8322690800', width=None, height=100, options={'name': 'mm10 Gene Annotations', 'showTooltip': True, 'showMousePosition': True, 'barFillColor': '#EF7D1A', 'barFillColorTop': '#E71F19', 'barFillColorBottom': '#16499D'}, data=None, chromInfoPath=None, fromViewUid=None, x=None, y=None), EnumTrack(tilesetUid='c5WaEeW1R7Ki2WGnURh2TA', server='http://localhost:8989/api/v1', type='bar', uid='d03093b3-4df6-4a08-afee-3c8f5408f9a9', width=None, height=25, options={'name': 'CA3 Glut mCH Frac', 'showTooltip': True, 'showMousePosition': True, 'barFillColor': '#16499D', 'barFillColorTop': '#E71F19', 'barFillColorBottom': '#16499D'}, data=None, chromInfoPath=None, fromViewUid=None, x=None, y=None), EnumTrack(tilesetUid='SXCR5SEqREuMAE1Dx_LnxA', server='http://localhost:8989/api/v1', type='bar', uid='adf5edc3-9f77-4b3b-be4d-a8aeb0a44177', width=None, height=25, options={'name': 'CA3 Glut mCG Frac', 'showTooltip': True, 'showMousePosition': True, 'barFillColor': '#36AE37', 'barFillColorTop': '#E71F19', 'barFillColorBottom': '#16499D'}, data=None, chromInfoPath=None, fromViewUid=None, x=None, y=None), EnumTrack(tilesetUid='bt2BX-WeRneyzeT-xZOF5g', server='http://localhost:8989/api/v1', type='bar', uid='e93324c2-5f34-493b-8c19-e8a77312a90c', width=None, height=25, options={'name': 'CA3 Glut ATAC CPM', 'showTooltip': True, 'showMousePosition': True, 'barFillColor': '#EF7D1A', 'barFillColorTop': '#E71F19', 'barFillColorBottom': '#16499D'}, data=None, chromInfoPath=None, fromViewUid=None, x=None, y=None)], bottom=None, center=[HeatmapTrack(tilesetUid='DOXSNkb1RSaDh6HrPbUC1g', server='http://localhost:8989/api/v1', type='heatmap', uid='619f3e9e-b212-4f0e-a261-629e0ad803ac', width=None, height=500, options={'name': 'CA3 Glut Impute 10K', 'showTooltip': True, 'showMousePosition': True, 'barFillColor': '#EF7D1A', 'barFillColorTop': '#E71F19', 'barFillColorBottom': '#16499D'}, data=None, position=None, transforms=None), EnumTrack(tilesetUid=None, server=None, type='viewport-projection-center', uid='90201e09-198d-42c6-92a0-b84c5e650ed3', width=None, height=None, options=None, data=None, chromInfoPath=None, fromViewUid='9b7dab84-31af-461f-9de5-10f3ea0dd84f', x=None, y=None)], whole=None, gallery=None), uid='8b54a354-a7f9-4430-af65-d46ef9057b25', autocompleteSource=None, chromInfoPath=None, genomePositionSearchBox=None, genomePositionSearchBoxVisible=None, initialXDomain=(9500000.0, 19500000.0), initialYDomain=(9500000.0, 19500000.0), overlays=None, selectionView=None, zoomFixed=None, zoomLimits=(1.0, None)), View(layout=Layout(x=6, y=0, w=6, h=6, moved=None, static=None), tracks=Tracks[TrackT](left=None, right=[EnumTrack(tilesetUid='c5WaEeW1R7Ki2WGnURh2TA', server='http://localhost:8989/api/v1', type='bar', uid='5ef2d34a-8af2-4993-966f-ab503ecbef01', width=None, height=25, options={'name': 'CA3 Glut mCH Frac', 'showTooltip': True, 'showMousePosition': True, 'barFillColor': '#16499D', 'barFillColorTop': '#E71F19', 'barFillColorBottom': '#16499D'}, data=None, chromInfoPath=None, fromViewUid=None, x=None, y=None), EnumTrack(tilesetUid='SXCR5SEqREuMAE1Dx_LnxA', server='http://localhost:8989/api/v1', type='bar', uid='5c100b00-05e6-40e6-bff6-2ccd0a2c8368', width=None, height=25, options={'name': 'CA3 Glut mCG Frac', 'showTooltip': True, 'showMousePosition': True, 'barFillColor': '#36AE37', 'barFillColorTop': '#E71F19', 'barFillColorBottom': '#16499D'}, data=None, chromInfoPath=None, fromViewUid=None, x=None, y=None), EnumTrack(tilesetUid='bt2BX-WeRneyzeT-xZOF5g', server='http://localhost:8989/api/v1', type='bar', uid='a679a5d9-a2d6-4236-94a9-bcd4abfb3574', width=None, height=25, options={'name': 'CA3 Glut ATAC CPM', 'showTooltip': True, 'showMousePosition': True, 'barFillColor': '#EF7D1A', 'barFillColorTop': '#E71F19', 'barFillColorBottom': '#16499D'}, data=None, chromInfoPath=None, fromViewUid=None, x=None, y=None), EnumTrack(tilesetUid='QDutvmyiSrec5nX4pA5WGQ', server='http://higlass.io/api/v1', type='gene-annotations', uid='9ac7a588-7947-4cbd-94e0-1ccd77765cbe', width=None, height=100, options={'name': 'mm10 Gene Annotations', 'showTooltip': True, 'showMousePosition': True, 'barFillColor': '#EF7D1A', 'barFillColorTop': '#E71F19', 'barFillColorBottom': '#16499D'}, data=None, chromInfoPath=None, fromViewUid=None, x=None, y=None), EnumTrack(tilesetUid='EtrWT0VtScixmsmwFSd7zg', server='http://higlass.io/api/v1', type='chromosome-labels', uid='0af0cb2f-b404-4d7c-adab-725aa45293e3', width=None, height=25, options={'name': 'mm10 Chrom Sizes', 'showTooltip': True, 'showMousePosition': True, 'barFillColor': '#EF7D1A', 'barFillColorTop': '#E71F19', 'barFillColorBottom': '#16499D'}, data=None, chromInfoPath=None, fromViewUid=None, x=None, y=None)], top=[EnumTrack(tilesetUid='EtrWT0VtScixmsmwFSd7zg', server='http://higlass.io/api/v1', type='chromosome-labels', uid='5eb069b6-ca14-4503-bb68-251f5543e2f0', width=None, height=25, options={'name': 'mm10 Chrom Sizes', 'showTooltip': True, 'showMousePosition': True, 'barFillColor': '#EF7D1A', 'barFillColorTop': '#E71F19', 'barFillColorBottom': '#16499D'}, data=None, chromInfoPath=None, fromViewUid=None, x=None, y=None), EnumTrack(tilesetUid='QDutvmyiSrec5nX4pA5WGQ', server='http://higlass.io/api/v1', type='gene-annotations', uid='950b102f-6e8f-4e7b-9520-3b8322690800', width=None, height=100, options={'name': 'mm10 Gene Annotations', 'showTooltip': True, 'showMousePosition': True, 'barFillColor': '#EF7D1A', 'barFillColorTop': '#E71F19', 'barFillColorBottom': '#16499D'}, data=None, chromInfoPath=None, fromViewUid=None, x=None, y=None), EnumTrack(tilesetUid='c5WaEeW1R7Ki2WGnURh2TA', server='http://localhost:8989/api/v1', type='bar', uid='d03093b3-4df6-4a08-afee-3c8f5408f9a9', width=None, height=25, options={'name': 'CA3 Glut mCH Frac', 'showTooltip': True, 'showMousePosition': True, 'barFillColor': '#16499D', 'barFillColorTop': '#E71F19', 'barFillColorBottom': '#16499D'}, data=None, chromInfoPath=None, fromViewUid=None, x=None, y=None), EnumTrack(tilesetUid='SXCR5SEqREuMAE1Dx_LnxA', server='http://localhost:8989/api/v1', type='bar', uid='adf5edc3-9f77-4b3b-be4d-a8aeb0a44177', width=None, height=25, options={'name': 'CA3 Glut mCG Frac', 'showTooltip': True, 'showMousePosition': True, 'barFillColor': '#36AE37', 'barFillColorTop': '#E71F19', 'barFillColorBottom': '#16499D'}, data=None, chromInfoPath=None, fromViewUid=None, x=None, y=None), EnumTrack(tilesetUid='bt2BX-WeRneyzeT-xZOF5g', server='http://localhost:8989/api/v1', type='bar', uid='e93324c2-5f34-493b-8c19-e8a77312a90c', width=None, height=25, options={'name': 'CA3 Glut ATAC CPM', 'showTooltip': True, 'showMousePosition': True, 'barFillColor': '#EF7D1A', 'barFillColorTop': '#E71F19', 'barFillColorBottom': '#16499D'}, data=None, chromInfoPath=None, fromViewUid=None, x=None, y=None)], bottom=None, center=[HeatmapTrack(tilesetUid='DOXSNkb1RSaDh6HrPbUC1g', server='http://localhost:8989/api/v1', type='heatmap', uid='619f3e9e-b212-4f0e-a261-629e0ad803ac', width=None, height=500, options={'name': 'CA3 Glut Impute 10K', 'showTooltip': True, 'showMousePosition': True, 'barFillColor': '#EF7D1A', 'barFillColorTop': '#E71F19', 'barFillColorBottom': '#16499D'}, data=None, position=None, transforms=None)], whole=None, gallery=None), uid='9b7dab84-31af-461f-9de5-10f3ea0dd84f', autocompleteSource=None, chromInfoPath=None, genomePositionSearchBox=None, genomePositionSearchBoxVisible=None, initialXDomain=(9500000.0, 11500000.0), initialYDomain=(17500000.0, 19500000.0), overlays=None, selectionView=None, zoomFixed=None, zoomLimits=(1.0, None))], zoomLocks=None, locationLocks=None, valueScaleLocks=None, chromInfoPath=None)"
      ]
     },
     "execution_count": 10,
     "metadata": {},
     "output_type": "execute_result"
    }
   ],
   "source": [
    "vc = hgd.loop_zoom_in_viewconf(\n",
    "    cell_type=ct1,\n",
    "    region1='chr1:10000000-11000000',\n",
    "    region2='chr1:18000000-19000000',\n",
    ")\n",
    "vc"
   ]
  },
  {
   "cell_type": "code",
   "execution_count": null,
   "id": "ab872802-2ef7-4e31-92f6-65202550fe34",
   "metadata": {},
   "outputs": [],
   "source": []
  },
  {
   "cell_type": "code",
   "execution_count": null,
   "id": "487625ab-6af8-4b01-8753-274ce5ef1182",
   "metadata": {},
   "outputs": [],
   "source": []
  },
  {
   "cell_type": "code",
   "execution_count": null,
   "id": "57562622-ae43-4939-acc9-9807d33eafa6",
   "metadata": {},
   "outputs": [],
   "source": []
  },
  {
   "cell_type": "code",
   "execution_count": null,
   "id": "a26f6f3a-723f-4d77-8122-47c5d14fba0e",
   "metadata": {},
   "outputs": [],
   "source": []
  },
  {
   "cell_type": "code",
   "execution_count": null,
   "id": "e0f8ae04-ad74-489b-a2e5-9a10669c5444",
   "metadata": {},
   "outputs": [],
   "source": []
  }
 ],
 "metadata": {
  "kernelspec": {
   "display_name": "Python 3 (ipykernel)",
   "language": "python",
   "name": "python3"
  },
  "language_info": {
   "codemirror_mode": {
    "name": "ipython",
    "version": 3
   },
   "file_extension": ".py",
   "mimetype": "text/x-python",
   "name": "python",
   "nbconvert_exporter": "python",
   "pygments_lexer": "ipython3",
   "version": "3.9.17"
  }
 },
 "nbformat": 4,
 "nbformat_minor": 5
}
