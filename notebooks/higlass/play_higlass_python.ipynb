{
 "cells": [
  {
   "cell_type": "code",
   "execution_count": 5,
   "id": "ba723d4f-7911-433f-ad42-a674d6285b67",
   "metadata": {},
   "outputs": [],
   "source": [
    "import pandas as pd\n",
    "import higlass\n",
    "import numpy as np\n",
    "from wmb_browser.backend.higlass_dash import *\n",
    "from wmb_browser.backend.genome import mm10\n",
    "import re"
   ]
  },
  {
   "cell_type": "code",
   "execution_count": 2,
   "id": "ca54597f-2350-4ead-b90e-16dba3c1811f",
   "metadata": {},
   "outputs": [],
   "source": [
    "server='http://localhost:8989/api/v1'\n",
    "\n",
    "hgd = HiglassDash(server=server)"
   ]
  },
  {
   "cell_type": "code",
   "execution_count": 3,
   "id": "4781244d-2d82-4754-8710-39b635a83c8d",
   "metadata": {},
   "outputs": [],
   "source": [
    "ct1 = 'CA3 Glut'\n",
    "ct2 = 'Sst Gaba'\n",
    "ct3 = 'L6 CT CTX Glut'"
   ]
  },
  {
   "cell_type": "code",
   "execution_count": 4,
   "id": "54f9c675-0439-4075-b165-071651f945fa",
   "metadata": {},
   "outputs": [],
   "source": [
    "cell_type = ct1\n",
    "modality_2d='Impute 10K'\n",
    "modality_1d=('mCH Frac', 'mCG Frac', 'ATAC CPM')\n",
    "pos_1d='top'\n",
    "add_genome_track=True\n",
    "region1='chr1:10000000-11000000'\n",
    "region2='chr1:18000000-19000000'"
   ]
  },
  {
   "cell_type": "code",
   "execution_count": null,
   "id": "ccaa0ebe-2a5c-4d11-ba2d-3d2383d5b54c",
   "metadata": {},
   "outputs": [],
   "source": [
    "vc = hgd.multi_cell_type_1d_viewconf(\n",
    "    cell_types=[ct1, ct2, ct3],\n",
    "    modalities=(\"mCH Frac\", \"mCG Frac\", \"ATAC CPM\", \"Domain Boundary\", \"Compartment Score\"),\n",
    "    groupby=\"modality\",\n",
    "    colorby='modality',\n",
    "    add_genome_track=True,\n",
    "    region=region1,\n",
    ")\n",
    "vc"
   ]
  },
  {
   "cell_type": "code",
   "execution_count": null,
   "id": "028bd3a9-23c2-4ad8-a1ea-774d586b886c",
   "metadata": {},
   "outputs": [],
   "source": [
    "vc = hgd.two_cell_type_diff_viewconf(\n",
    "    cell_type_1=ct1, \n",
    "    cell_type_2=ct2, \n",
    "    modality_1d=modality_1d, \n",
    "    modality_2d=modality_2d,\n",
    "    region1=region1,\n",
    "    region2=region1\n",
    ")\n",
    "vc"
   ]
  },
  {
   "cell_type": "code",
   "execution_count": null,
   "id": "31ea2226-2521-4a03-a4f5-8eb112b62be0",
   "metadata": {},
   "outputs": [],
   "source": [
    "vc = hgd.loop_zoom_in_viewconf(\n",
    "    cell_type=ct1,\n",
    "    region1='chr1:10000000-11000000',\n",
    "    region2='chr1:18000000-19000000',\n",
    ")\n",
    "vc"
   ]
  },
  {
   "cell_type": "code",
   "execution_count": null,
   "id": "487625ab-6af8-4b01-8753-274ce5ef1182",
   "metadata": {},
   "outputs": [],
   "source": []
  },
  {
   "cell_type": "code",
   "execution_count": null,
   "id": "57562622-ae43-4939-acc9-9807d33eafa6",
   "metadata": {},
   "outputs": [],
   "source": []
  },
  {
   "cell_type": "code",
   "execution_count": null,
   "id": "a26f6f3a-723f-4d77-8122-47c5d14fba0e",
   "metadata": {},
   "outputs": [],
   "source": []
  },
  {
   "cell_type": "code",
   "execution_count": null,
   "id": "e0f8ae04-ad74-489b-a2e5-9a10669c5444",
   "metadata": {},
   "outputs": [],
   "source": []
  }
 ],
 "metadata": {
  "kernelspec": {
   "display_name": "Python 3 (ipykernel)",
   "language": "python",
   "name": "python3"
  },
  "language_info": {
   "codemirror_mode": {
    "name": "ipython",
    "version": 3
   },
   "file_extension": ".py",
   "mimetype": "text/x-python",
   "name": "python",
   "nbconvert_exporter": "python",
   "pygments_lexer": "ipython3",
   "version": "3.9.17"
  }
 },
 "nbformat": 4,
 "nbformat_minor": 5
}
