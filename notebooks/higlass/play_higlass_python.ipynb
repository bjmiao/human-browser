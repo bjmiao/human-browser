{
 "cells": [
  {
   "cell_type": "code",
   "execution_count": 1,
   "id": "ba723d4f-7911-433f-ad42-a674d6285b67",
   "metadata": {},
   "outputs": [],
   "source": [
    "import pandas as pd\n",
    "import higlass\n",
    "from wmb_browser.backend.higlass import *"
   ]
  },
  {
   "cell_type": "code",
   "execution_count": 2,
   "id": "4781244d-2d82-4754-8710-39b635a83c8d",
   "metadata": {},
   "outputs": [],
   "source": [
    "ct1 = 'CA3 Glut'\n",
    "ct2 = 'Sst Gaba'\n",
    "ct3 = 'L6 CT CTX Glut'"
   ]
  },
  {
   "cell_type": "code",
   "execution_count": 3,
   "id": "54f9c675-0439-4075-b165-071651f945fa",
   "metadata": {},
   "outputs": [],
   "source": [
    "cell_type = ct1\n",
    "modality_2d='Impute 10K'\n",
    "modality_1d=('mCH Frac', 'mCG Frac', 'ATAC CPM')\n",
    "pos_1d='top'\n",
    "add_genome_track=True\n",
    "server='http://localhost:8989/api/v1'"
   ]
  },
  {
   "cell_type": "code",
   "execution_count": 4,
   "id": "81ad0ef6-4c16-4b2d-89d1-7c853d17b630",
   "metadata": {},
   "outputs": [],
   "source": [
    "vc = multi_cell_type_2d_viewconf(\n",
    "    cell_types=[ct1, ct2, ct3],\n",
    "    server=server\n",
    ")"
   ]
  },
  {
   "cell_type": "code",
   "execution_count": 6,
   "id": "ccaa0ebe-2a5c-4d11-ba2d-3d2383d5b54c",
   "metadata": {},
   "outputs": [
    {
     "data": {
      "text/html": [
       "\n",
       "<!DOCTYPE html>\n",
       "<html>\n",
       "  <head>\n",
       "    <link rel=\"stylesheet\" href=\"https://esm.sh/higlass@1.12/dist/hglib.css\">\n",
       "    <script src=\"https://unpkg.com/requirejs-toggle\"></script>\n",
       "    \n",
       "    <script src=\"https://unpkg.com/requirejs-toggle\"></script>\n",
       "  </head>\n",
       "  <body>\n",
       "    <div id=\"jupyter-hg-7d3d45a2baff4454a3d0e8a39fd3702d\"></div>\n",
       "  </body>\n",
       "  <script type=\"module\">\n",
       "    import hglib from \"https://esm.sh/higlass@1.12?deps=react@17,react-dom@17,pixi.js@6\";\n",
       "    hglib.viewer(\n",
       "      document.getElementById('jupyter-hg-7d3d45a2baff4454a3d0e8a39fd3702d'),\n",
       "      {\"editable\": true, \"viewEditable\": true, \"tracksEditable\": true, \"views\": [{\"layout\": {\"x\": 0, \"y\": 0, \"w\": 12, \"h\": 6}, \"tracks\": {\"top\": [{\"tilesetUid\": \"EtrWT0VtScixmsmwFSd7zg\", \"server\": \"http://higlass.io/api/v1\", \"type\": \"chromosome-labels\", \"uid\": \"4efb32f8-8259-49c2-bb42-9ee0333f7cf4\", \"height\": 25, \"options\": {\"name\": \"mm10 Chrom Sizes\"}}, {\"tilesetUid\": \"QDutvmyiSrec5nX4pA5WGQ\", \"server\": \"http://higlass.io/api/v1\", \"type\": \"gene-annotations\", \"uid\": \"7b13ecef-4188-4a9a-84f2-bdbcf38e672c\", \"height\": 100, \"options\": {\"name\": \"mm10 Gene Annotations\"}}, {\"tilesetUid\": \"c5WaEeW1R7Ki2WGnURh2TA\", \"server\": \"http://localhost:8989/api/v1\", \"type\": \"bar\", \"uid\": \"72c3807e-46d9-416e-8fb9-be56e265be97\", \"height\": 25, \"options\": {\"name\": \"CA3 Glut mCH Frac\", \"showTooltip\": true, \"showMousePosition\": true, \"barFillColor\": \"#16499D\"}}, {\"tilesetUid\": \"W0OdIv84Q6yMfqpKvubetQ\", \"server\": \"http://localhost:8989/api/v1\", \"type\": \"bar\", \"uid\": \"c9729d2f-c7a2-4cfd-a0d0-c46f911bfbcc\", \"height\": 25, \"options\": {\"name\": \"Sst Gaba mCH Frac\", \"showTooltip\": true, \"showMousePosition\": true, \"barFillColor\": \"#16499D\"}}, {\"tilesetUid\": \"fCUnWnNbRRCaPg_6YNl8qQ\", \"server\": \"http://localhost:8989/api/v1\", \"type\": \"bar\", \"uid\": \"30927c49-caef-4b1b-bff7-632c226642ae\", \"height\": 25, \"options\": {\"name\": \"L6 CT CTX Glut mCH Frac\", \"showTooltip\": true, \"showMousePosition\": true, \"barFillColor\": \"#16499D\"}}, {\"tilesetUid\": \"SXCR5SEqREuMAE1Dx_LnxA\", \"server\": \"http://localhost:8989/api/v1\", \"type\": \"bar\", \"uid\": \"6c15a2cb-9937-4ee7-919f-c3378defff14\", \"height\": 25, \"options\": {\"name\": \"CA3 Glut mCG Frac\", \"showTooltip\": true, \"showMousePosition\": true, \"barFillColor\": \"#36AE37\"}}, {\"tilesetUid\": \"P8dzmuiKTWyOn9u2vqLg-w\", \"server\": \"http://localhost:8989/api/v1\", \"type\": \"bar\", \"uid\": \"1742ecb7-13be-4421-8c06-8154a85a2008\", \"height\": 25, \"options\": {\"name\": \"Sst Gaba mCG Frac\", \"showTooltip\": true, \"showMousePosition\": true, \"barFillColor\": \"#36AE37\"}}, {\"tilesetUid\": \"QaLWlfpfScOdQcLq2PNSfw\", \"server\": \"http://localhost:8989/api/v1\", \"type\": \"bar\", \"uid\": \"6ab6b273-971e-40fb-9c5a-b2d4c8c58ea3\", \"height\": 25, \"options\": {\"name\": \"L6 CT CTX Glut mCG Frac\", \"showTooltip\": true, \"showMousePosition\": true, \"barFillColor\": \"#36AE37\"}}, {\"tilesetUid\": \"bt2BX-WeRneyzeT-xZOF5g\", \"server\": \"http://localhost:8989/api/v1\", \"type\": \"bar\", \"uid\": \"1a10f6b8-6562-4c31-8a20-8742fb61b3b3\", \"height\": 25, \"options\": {\"name\": \"CA3 Glut ATAC CPM\", \"showTooltip\": true, \"showMousePosition\": true, \"barFillColor\": \"#1f77b4\"}}, {\"tilesetUid\": \"fA7Rwv3MRn6g9gZpjZAhNg\", \"server\": \"http://localhost:8989/api/v1\", \"type\": \"bar\", \"uid\": \"5a42f3df-0200-4b4f-a0c0-b3f5220d989c\", \"height\": 25, \"options\": {\"name\": \"Sst Gaba ATAC CPM\", \"showTooltip\": true, \"showMousePosition\": true, \"barFillColor\": \"#1f77b4\"}}, {\"tilesetUid\": \"cAqqyvTTTKW2hOCR0MGLFA\", \"server\": \"http://localhost:8989/api/v1\", \"type\": \"bar\", \"uid\": \"d033d505-da17-48f1-aea1-15e3a48727d3\", \"height\": 25, \"options\": {\"name\": \"L6 CT CTX Glut ATAC CPM\", \"showTooltip\": true, \"showMousePosition\": true, \"barFillColor\": \"#1f77b4\"}}, {\"tilesetUid\": \"N3HKj6v9Qd2LP2bnSNhmMA\", \"server\": \"http://localhost:8989/api/v1\", \"type\": \"bar\", \"uid\": \"91e0972d-609b-4d9b-a8e5-fe1b17969439\", \"height\": 25, \"options\": {\"name\": \"CA3 Glut Domain Boundary\", \"showTooltip\": true, \"showMousePosition\": true, \"barFillColor\": \"#E71F19\"}}, {\"tilesetUid\": \"PMzIUx8IS5mOk8pPfDV-gA\", \"server\": \"http://localhost:8989/api/v1\", \"type\": \"bar\", \"uid\": \"253cd301-4e6c-44b5-8fa6-743088c83bb8\", \"height\": 25, \"options\": {\"name\": \"Sst Gaba Domain Boundary\", \"showTooltip\": true, \"showMousePosition\": true, \"barFillColor\": \"#E71F19\"}}, {\"tilesetUid\": \"axCCDVoKSQGR1Ci03uH2eA\", \"server\": \"http://localhost:8989/api/v1\", \"type\": \"bar\", \"uid\": \"3d657117-48d2-461d-9671-e5555b078651\", \"height\": 25, \"options\": {\"name\": \"L6 CT CTX Glut Domain Boundary\", \"showTooltip\": true, \"showMousePosition\": true, \"barFillColor\": \"#E71F19\"}}, {\"tilesetUid\": \"OT476i4qRIWo0iMlNP0Yxg\", \"server\": \"http://localhost:8989/api/v1\", \"type\": \"divergent-bar\", \"uid\": \"6e5c27ce-cd56-4803-9454-86aad4a0d912\", \"height\": 25, \"options\": {\"name\": \"CA3 Glut Compartment Score\", \"showTooltip\": true, \"showMousePosition\": true, \"barFillColor\": \"#E71F19\", \"barFillColorTop\": \"#E71F19\", \"barFillColorBottom\": \"#16499D\"}}, {\"tilesetUid\": \"e860fO0GRByuo_vOFZ3xgQ\", \"server\": \"http://localhost:8989/api/v1\", \"type\": \"divergent-bar\", \"uid\": \"f0c528be-dbea-4b51-94ff-3ff2b3a7dff1\", \"height\": 25, \"options\": {\"name\": \"Sst Gaba Compartment Score\", \"showTooltip\": true, \"showMousePosition\": true, \"barFillColor\": \"#E71F19\", \"barFillColorTop\": \"#E71F19\", \"barFillColorBottom\": \"#16499D\"}}, {\"tilesetUid\": \"Km3XbwriQUelxb9Y6kU3Ow\", \"server\": \"http://localhost:8989/api/v1\", \"type\": \"divergent-bar\", \"uid\": \"ad98e28f-f302-40ae-8ae7-1efbbf485479\", \"height\": 25, \"options\": {\"name\": \"L6 CT CTX Glut Compartment Score\", \"showTooltip\": true, \"showMousePosition\": true, \"barFillColor\": \"#E71F19\", \"barFillColorTop\": \"#E71F19\", \"barFillColorBottom\": \"#16499D\"}}]}, \"uid\": \"c2f698d9-07df-4782-aaca-ee3c42a15469\", \"zoomLimits\": [1, null]}]},\n",
       "    );\n",
       "    </script>\n",
       "</html>"
      ],
      "text/plain": [
       "Viewconf(editable=True, viewEditable=True, tracksEditable=True, zoomFixed=None, compactLayout=None, exportViewUrl=None, trackSourceServers=None, views=[View(layout=Layout(x=0, y=0, w=12, h=6, moved=None, static=None), tracks=Tracks[TrackT](left=None, right=None, top=[EnumTrack(tilesetUid='EtrWT0VtScixmsmwFSd7zg', server='http://higlass.io/api/v1', type='chromosome-labels', uid='4efb32f8-8259-49c2-bb42-9ee0333f7cf4', width=None, height=25, options={'name': 'mm10 Chrom Sizes'}, data=None, chromInfoPath=None, fromViewUid=None, x=None, y=None), EnumTrack(tilesetUid='QDutvmyiSrec5nX4pA5WGQ', server='http://higlass.io/api/v1', type='gene-annotations', uid='7b13ecef-4188-4a9a-84f2-bdbcf38e672c', width=None, height=100, options={'name': 'mm10 Gene Annotations'}, data=None, chromInfoPath=None, fromViewUid=None, x=None, y=None), EnumTrack(tilesetUid='c5WaEeW1R7Ki2WGnURh2TA', server='http://localhost:8989/api/v1', type='bar', uid='72c3807e-46d9-416e-8fb9-be56e265be97', width=None, height=25, options={'name': 'CA3 Glut mCH Frac', 'showTooltip': True, 'showMousePosition': True, 'barFillColor': '#16499D'}, data=None, chromInfoPath=None, fromViewUid=None, x=None, y=None), EnumTrack(tilesetUid='W0OdIv84Q6yMfqpKvubetQ', server='http://localhost:8989/api/v1', type='bar', uid='c9729d2f-c7a2-4cfd-a0d0-c46f911bfbcc', width=None, height=25, options={'name': 'Sst Gaba mCH Frac', 'showTooltip': True, 'showMousePosition': True, 'barFillColor': '#16499D'}, data=None, chromInfoPath=None, fromViewUid=None, x=None, y=None), EnumTrack(tilesetUid='fCUnWnNbRRCaPg_6YNl8qQ', server='http://localhost:8989/api/v1', type='bar', uid='30927c49-caef-4b1b-bff7-632c226642ae', width=None, height=25, options={'name': 'L6 CT CTX Glut mCH Frac', 'showTooltip': True, 'showMousePosition': True, 'barFillColor': '#16499D'}, data=None, chromInfoPath=None, fromViewUid=None, x=None, y=None), EnumTrack(tilesetUid='SXCR5SEqREuMAE1Dx_LnxA', server='http://localhost:8989/api/v1', type='bar', uid='6c15a2cb-9937-4ee7-919f-c3378defff14', width=None, height=25, options={'name': 'CA3 Glut mCG Frac', 'showTooltip': True, 'showMousePosition': True, 'barFillColor': '#36AE37'}, data=None, chromInfoPath=None, fromViewUid=None, x=None, y=None), EnumTrack(tilesetUid='P8dzmuiKTWyOn9u2vqLg-w', server='http://localhost:8989/api/v1', type='bar', uid='1742ecb7-13be-4421-8c06-8154a85a2008', width=None, height=25, options={'name': 'Sst Gaba mCG Frac', 'showTooltip': True, 'showMousePosition': True, 'barFillColor': '#36AE37'}, data=None, chromInfoPath=None, fromViewUid=None, x=None, y=None), EnumTrack(tilesetUid='QaLWlfpfScOdQcLq2PNSfw', server='http://localhost:8989/api/v1', type='bar', uid='6ab6b273-971e-40fb-9c5a-b2d4c8c58ea3', width=None, height=25, options={'name': 'L6 CT CTX Glut mCG Frac', 'showTooltip': True, 'showMousePosition': True, 'barFillColor': '#36AE37'}, data=None, chromInfoPath=None, fromViewUid=None, x=None, y=None), EnumTrack(tilesetUid='bt2BX-WeRneyzeT-xZOF5g', server='http://localhost:8989/api/v1', type='bar', uid='1a10f6b8-6562-4c31-8a20-8742fb61b3b3', width=None, height=25, options={'name': 'CA3 Glut ATAC CPM', 'showTooltip': True, 'showMousePosition': True, 'barFillColor': '#1f77b4'}, data=None, chromInfoPath=None, fromViewUid=None, x=None, y=None), EnumTrack(tilesetUid='fA7Rwv3MRn6g9gZpjZAhNg', server='http://localhost:8989/api/v1', type='bar', uid='5a42f3df-0200-4b4f-a0c0-b3f5220d989c', width=None, height=25, options={'name': 'Sst Gaba ATAC CPM', 'showTooltip': True, 'showMousePosition': True, 'barFillColor': '#1f77b4'}, data=None, chromInfoPath=None, fromViewUid=None, x=None, y=None), EnumTrack(tilesetUid='cAqqyvTTTKW2hOCR0MGLFA', server='http://localhost:8989/api/v1', type='bar', uid='d033d505-da17-48f1-aea1-15e3a48727d3', width=None, height=25, options={'name': 'L6 CT CTX Glut ATAC CPM', 'showTooltip': True, 'showMousePosition': True, 'barFillColor': '#1f77b4'}, data=None, chromInfoPath=None, fromViewUid=None, x=None, y=None), EnumTrack(tilesetUid='N3HKj6v9Qd2LP2bnSNhmMA', server='http://localhost:8989/api/v1', type='bar', uid='91e0972d-609b-4d9b-a8e5-fe1b17969439', width=None, height=25, options={'name': 'CA3 Glut Domain Boundary', 'showTooltip': True, 'showMousePosition': True, 'barFillColor': '#E71F19'}, data=None, chromInfoPath=None, fromViewUid=None, x=None, y=None), EnumTrack(tilesetUid='PMzIUx8IS5mOk8pPfDV-gA', server='http://localhost:8989/api/v1', type='bar', uid='253cd301-4e6c-44b5-8fa6-743088c83bb8', width=None, height=25, options={'name': 'Sst Gaba Domain Boundary', 'showTooltip': True, 'showMousePosition': True, 'barFillColor': '#E71F19'}, data=None, chromInfoPath=None, fromViewUid=None, x=None, y=None), EnumTrack(tilesetUid='axCCDVoKSQGR1Ci03uH2eA', server='http://localhost:8989/api/v1', type='bar', uid='3d657117-48d2-461d-9671-e5555b078651', width=None, height=25, options={'name': 'L6 CT CTX Glut Domain Boundary', 'showTooltip': True, 'showMousePosition': True, 'barFillColor': '#E71F19'}, data=None, chromInfoPath=None, fromViewUid=None, x=None, y=None), EnumTrack(tilesetUid='OT476i4qRIWo0iMlNP0Yxg', server='http://localhost:8989/api/v1', type='divergent-bar', uid='6e5c27ce-cd56-4803-9454-86aad4a0d912', width=None, height=25, options={'name': 'CA3 Glut Compartment Score', 'showTooltip': True, 'showMousePosition': True, 'barFillColor': '#E71F19', 'barFillColorTop': '#E71F19', 'barFillColorBottom': '#16499D'}, data=None, chromInfoPath=None, fromViewUid=None, x=None, y=None), EnumTrack(tilesetUid='e860fO0GRByuo_vOFZ3xgQ', server='http://localhost:8989/api/v1', type='divergent-bar', uid='f0c528be-dbea-4b51-94ff-3ff2b3a7dff1', width=None, height=25, options={'name': 'Sst Gaba Compartment Score', 'showTooltip': True, 'showMousePosition': True, 'barFillColor': '#E71F19', 'barFillColorTop': '#E71F19', 'barFillColorBottom': '#16499D'}, data=None, chromInfoPath=None, fromViewUid=None, x=None, y=None), EnumTrack(tilesetUid='Km3XbwriQUelxb9Y6kU3Ow', server='http://localhost:8989/api/v1', type='divergent-bar', uid='ad98e28f-f302-40ae-8ae7-1efbbf485479', width=None, height=25, options={'name': 'L6 CT CTX Glut Compartment Score', 'showTooltip': True, 'showMousePosition': True, 'barFillColor': '#E71F19', 'barFillColorTop': '#E71F19', 'barFillColorBottom': '#16499D'}, data=None, chromInfoPath=None, fromViewUid=None, x=None, y=None)], bottom=None, center=None, whole=None, gallery=None), uid='c2f698d9-07df-4782-aaca-ee3c42a15469', autocompleteSource=None, chromInfoPath=None, genomePositionSearchBox=None, genomePositionSearchBoxVisible=None, initialXDomain=None, initialYDomain=None, overlays=None, selectionView=None, zoomFixed=None, zoomLimits=(1, None))], zoomLocks=None, locationLocks=None, valueScaleLocks=None, chromInfoPath=None)"
      ]
     },
     "execution_count": 6,
     "metadata": {},
     "output_type": "execute_result"
    }
   ],
   "source": [
    "vc = multi_cell_type_1d_viewconf(\n",
    "    cell_types=[ct1, ct2, ct3],\n",
    "    server=server,\n",
    "    modality_1d=(\"mCH Frac\", \"mCG Frac\", \"ATAC CPM\", \"Domain Boundary\", \"Compartment Score\"),\n",
    "    groupby=\"modality\",\n",
    "    pos_1d=\"top\",\n",
    "    add_genome_track=True,\n",
    "    height_1d=25,\n",
    "    color_by='modality',\n",
    "    view_width=12,\n",
    ")\n",
    "vc"
   ]
  },
  {
   "cell_type": "code",
   "execution_count": null,
   "id": "ea2c4936-a482-4222-a056-f2ed69bc49c8",
   "metadata": {},
   "outputs": [],
   "source": []
  },
  {
   "cell_type": "code",
   "execution_count": null,
   "id": "7ab99ce5-4c37-4b68-a0e9-c63ac3dfab79",
   "metadata": {},
   "outputs": [],
   "source": []
  },
  {
   "cell_type": "code",
   "execution_count": null,
   "id": "83f30770-e362-4af3-84ce-b9f3209ac53b",
   "metadata": {},
   "outputs": [],
   "source": []
  },
  {
   "cell_type": "code",
   "execution_count": 10,
   "id": "38f00d32-a0d7-4952-b8e2-ade12df1e090",
   "metadata": {},
   "outputs": [],
   "source": [
    "import higlass as hg"
   ]
  },
  {
   "cell_type": "code",
   "execution_count": 17,
   "id": "fb726c78-910e-43a8-9dbf-d0c536f19d51",
   "metadata": {},
   "outputs": [],
   "source": [
    "tset1 = get_ct_tileset(ct1, server, 'Impute 10K')\n",
    "tset2 = get_ct_tileset(ct2, server, 'Impute 10K')"
   ]
  },
  {
   "cell_type": "code",
   "execution_count": 30,
   "id": "4d307eed-56e3-4cb5-9c15-2a0a43aae6cb",
   "metadata": {},
   "outputs": [],
   "source": [
    "tset3 = get_ct_tileset(ct1, server, 'ATAC CPM')\n",
    "tset4 = get_ct_tileset(ct2, server, 'ATAC CPM')\n",
    "\n",
    "t5= tset3.track('bar', height=50)\n",
    "t6= tset4.track('bar', height=50)\n",
    "t7= hg.divide(t5, t6).opts(\n",
    "    valueScaleMin=0.1,\n",
    "    valueScaleMax=10,\n",
    ")\n"
   ]
  },
  {
   "cell_type": "code",
   "execution_count": 31,
   "id": "55d06506-30eb-4394-baba-4de25435eb94",
   "metadata": {},
   "outputs": [
    {
     "data": {
      "text/html": [
       "\n",
       "<!DOCTYPE html>\n",
       "<html>\n",
       "  <head>\n",
       "    <link rel=\"stylesheet\" href=\"https://esm.sh/higlass@1.12/dist/hglib.css\">\n",
       "    <script src=\"https://unpkg.com/requirejs-toggle\"></script>\n",
       "    \n",
       "    <script src=\"https://unpkg.com/requirejs-toggle\"></script>\n",
       "  </head>\n",
       "  <body>\n",
       "    <div id=\"jupyter-hg-4ec5ea8147ce4a0e94b3cbf6d7a9be5b\"></div>\n",
       "  </body>\n",
       "  <script type=\"module\">\n",
       "    import hglib from \"https://esm.sh/higlass@1.12?deps=react@17,react-dom@17,pixi.js@6\";\n",
       "    hglib.viewer(\n",
       "      document.getElementById('jupyter-hg-4ec5ea8147ce4a0e94b3cbf6d7a9be5b'),\n",
       "      {\"editable\": true, \"viewEditable\": true, \"tracksEditable\": true, \"views\": [{\"layout\": {\"x\": 0, \"y\": 0, \"w\": 4, \"h\": 6}, \"tracks\": {\"top\": [{\"tilesetUid\": \"bt2BX-WeRneyzeT-xZOF5g\", \"server\": \"http://localhost:8989/api/v1\", \"type\": \"bar\", \"uid\": \"3b16c397-aea0-496c-a9a2-033510c32005\", \"height\": 50, \"options\": {\"name\": \"CA3 Glut ATAC CPM\"}}], \"center\": [{\"tilesetUid\": \"DOXSNkb1RSaDh6HrPbUC1g\", \"server\": \"http://localhost:8989/api/v1\", \"type\": \"heatmap\", \"uid\": \"b14e7a24-b9fa-4eee-a37f-b9c414a36f6e\", \"height\": 300, \"options\": {\"name\": \"CA3 Glut Impute 10K\"}}]}, \"uid\": \"4af0232d-9ed5-4403-abff-4278d63c8240\", \"initialXDomain\": [70000000.0, 80000000.0], \"zoomLimits\": [1.0, null]}, {\"layout\": {\"x\": 4, \"y\": 0, \"w\": 4, \"h\": 6}, \"tracks\": {\"top\": [{\"type\": \"bar\", \"uid\": \"850b0fc3-e480-4956-b5eb-deeb8ba5f267\", \"height\": 50, \"options\": {\"name\": \"CA3 Glut ATAC CPM\", \"valueScaleMin\": 0.1, \"valueScaleMax\": 10}, \"data\": {\"type\": \"divided\", \"children\": [{\"tilesetUid\": \"bt2BX-WeRneyzeT-xZOF5g\", \"server\": \"http://localhost:8989/api/v1\"}, {\"tilesetUid\": \"fA7Rwv3MRn6g9gZpjZAhNg\", \"server\": \"http://localhost:8989/api/v1\"}]}}], \"center\": [{\"type\": \"heatmap\", \"uid\": \"fc5de1b5-9321-47f0-9ce7-def014fd154a\", \"height\": 300, \"options\": {\"name\": \"CA3 Glut Impute 10K\", \"colorRange\": [\"blue\", \"white\", \"red\"], \"valueScaleMin\": 0.1, \"valueScaleMax\": 10}, \"data\": {\"type\": \"divided\", \"children\": [{\"tilesetUid\": \"DOXSNkb1RSaDh6HrPbUC1g\", \"server\": \"http://localhost:8989/api/v1\"}, {\"tilesetUid\": \"GFd1Y9WRQPGccPITuXmZbg\", \"server\": \"http://localhost:8989/api/v1\"}]}}]}, \"uid\": \"a7476577-a819-4131-8556-eef498423940\", \"initialXDomain\": [70000000.0, 80000000.0], \"zoomLimits\": [1.0, null]}, {\"layout\": {\"x\": 8, \"y\": 0, \"w\": 4, \"h\": 6}, \"tracks\": {\"top\": [{\"tilesetUid\": \"fA7Rwv3MRn6g9gZpjZAhNg\", \"server\": \"http://localhost:8989/api/v1\", \"type\": \"bar\", \"uid\": \"d96cdf28-7412-42a7-8ceb-b17c8d6fc888\", \"height\": 50, \"options\": {\"name\": \"Sst Gaba ATAC CPM\"}}], \"center\": [{\"tilesetUid\": \"GFd1Y9WRQPGccPITuXmZbg\", \"server\": \"http://localhost:8989/api/v1\", \"type\": \"heatmap\", \"uid\": \"3709e04a-db62-4b6f-8d25-5818a759997d\", \"height\": 300, \"options\": {\"name\": \"Sst Gaba Impute 10K\"}}]}, \"uid\": \"3968b2ff-d1ec-4bcb-99f4-547a96779777\", \"initialXDomain\": [70000000.0, 80000000.0], \"zoomLimits\": [1.0, null]}], \"zoomLocks\": {\"locksByViewUid\": {\"4af0232d-9ed5-4403-abff-4278d63c8240\": \"24c68c60-3236-4bfb-aa71-ee15be48f11d\", \"3968b2ff-d1ec-4bcb-99f4-547a96779777\": \"24c68c60-3236-4bfb-aa71-ee15be48f11d\", \"a7476577-a819-4131-8556-eef498423940\": \"24c68c60-3236-4bfb-aa71-ee15be48f11d\"}, \"locksDict\": {\"24c68c60-3236-4bfb-aa71-ee15be48f11d\": {\"uid\": \"24c68c60-3236-4bfb-aa71-ee15be48f11d\", \"4af0232d-9ed5-4403-abff-4278d63c8240\": [1.0, 1.0, 1.0], \"3968b2ff-d1ec-4bcb-99f4-547a96779777\": [1.0, 1.0, 1.0], \"a7476577-a819-4131-8556-eef498423940\": [1.0, 1.0, 1.0]}}}, \"locationLocks\": {\"locksByViewUid\": {\"4af0232d-9ed5-4403-abff-4278d63c8240\": \"24c68c60-3236-4bfb-aa71-ee15be48f11d\", \"3968b2ff-d1ec-4bcb-99f4-547a96779777\": \"24c68c60-3236-4bfb-aa71-ee15be48f11d\", \"a7476577-a819-4131-8556-eef498423940\": \"24c68c60-3236-4bfb-aa71-ee15be48f11d\"}, \"locksDict\": {\"24c68c60-3236-4bfb-aa71-ee15be48f11d\": {\"uid\": \"24c68c60-3236-4bfb-aa71-ee15be48f11d\", \"4af0232d-9ed5-4403-abff-4278d63c8240\": [1.0, 1.0, 1.0], \"3968b2ff-d1ec-4bcb-99f4-547a96779777\": [1.0, 1.0, 1.0], \"a7476577-a819-4131-8556-eef498423940\": [1.0, 1.0, 1.0]}}}, \"valueScaleLocks\": {\"locksByViewUid\": {}, \"locksDict\": {}}},\n",
       "    );\n",
       "    </script>\n",
       "</html>"
      ],
      "text/plain": [
       "Viewconf(editable=True, viewEditable=True, tracksEditable=True, zoomFixed=None, compactLayout=None, exportViewUrl=None, trackSourceServers=None, views=[View(layout=Layout(x=0, y=0, w=4, h=6, moved=None, static=None), tracks=Tracks[TrackT](left=None, right=None, top=[EnumTrack(tilesetUid='bt2BX-WeRneyzeT-xZOF5g', server='http://localhost:8989/api/v1', type='bar', uid='3b16c397-aea0-496c-a9a2-033510c32005', width=None, height=50, options={'name': 'CA3 Glut ATAC CPM'}, data=None, chromInfoPath=None, fromViewUid=None, x=None, y=None)], bottom=None, center=[HeatmapTrack(tilesetUid='DOXSNkb1RSaDh6HrPbUC1g', server='http://localhost:8989/api/v1', type='heatmap', uid='b14e7a24-b9fa-4eee-a37f-b9c414a36f6e', width=None, height=300, options={'name': 'CA3 Glut Impute 10K'}, data=None, position=None, transforms=None)], whole=None, gallery=None), uid='4af0232d-9ed5-4403-abff-4278d63c8240', autocompleteSource=None, chromInfoPath=None, genomePositionSearchBox=None, genomePositionSearchBoxVisible=None, initialXDomain=(70000000.0, 80000000.0), initialYDomain=None, overlays=None, selectionView=None, zoomFixed=None, zoomLimits=(1.0, None)), View(layout=Layout(x=4, y=0, w=4, h=6, moved=None, static=None), tracks=Tracks[TrackT](left=None, right=None, top=[EnumTrack(tilesetUid=None, server=None, type='bar', uid='850b0fc3-e480-4956-b5eb-deeb8ba5f267', width=None, height=50, options={'name': 'CA3 Glut ATAC CPM', 'valueScaleMin': 0.1, 'valueScaleMax': 10}, data=Data(type='divided', url=None, server=None, filetype=None, children=[{'tilesetUid': 'bt2BX-WeRneyzeT-xZOF5g', 'server': 'http://localhost:8989/api/v1'}, {'tilesetUid': 'fA7Rwv3MRn6g9gZpjZAhNg', 'server': 'http://localhost:8989/api/v1'}], tilesetInfo=None, tiles=None), chromInfoPath=None, fromViewUid=None, x=None, y=None)], bottom=None, center=[HeatmapTrack(tilesetUid=None, server=None, type='heatmap', uid='fc5de1b5-9321-47f0-9ce7-def014fd154a', width=None, height=300, options={'name': 'CA3 Glut Impute 10K', 'colorRange': ['blue', 'white', 'red'], 'valueScaleMin': 0.1, 'valueScaleMax': 10}, data=Data(type='divided', url=None, server=None, filetype=None, children=[{'tilesetUid': 'DOXSNkb1RSaDh6HrPbUC1g', 'server': 'http://localhost:8989/api/v1'}, {'tilesetUid': 'GFd1Y9WRQPGccPITuXmZbg', 'server': 'http://localhost:8989/api/v1'}], tilesetInfo=None, tiles=None), position=None, transforms=None)], whole=None, gallery=None), uid='a7476577-a819-4131-8556-eef498423940', autocompleteSource=None, chromInfoPath=None, genomePositionSearchBox=None, genomePositionSearchBoxVisible=None, initialXDomain=(70000000.0, 80000000.0), initialYDomain=None, overlays=None, selectionView=None, zoomFixed=None, zoomLimits=(1.0, None)), View(layout=Layout(x=8, y=0, w=4, h=6, moved=None, static=None), tracks=Tracks[TrackT](left=None, right=None, top=[EnumTrack(tilesetUid='fA7Rwv3MRn6g9gZpjZAhNg', server='http://localhost:8989/api/v1', type='bar', uid='d96cdf28-7412-42a7-8ceb-b17c8d6fc888', width=None, height=50, options={'name': 'Sst Gaba ATAC CPM'}, data=None, chromInfoPath=None, fromViewUid=None, x=None, y=None)], bottom=None, center=[HeatmapTrack(tilesetUid='GFd1Y9WRQPGccPITuXmZbg', server='http://localhost:8989/api/v1', type='heatmap', uid='3709e04a-db62-4b6f-8d25-5818a759997d', width=None, height=300, options={'name': 'Sst Gaba Impute 10K'}, data=None, position=None, transforms=None)], whole=None, gallery=None), uid='3968b2ff-d1ec-4bcb-99f4-547a96779777', autocompleteSource=None, chromInfoPath=None, genomePositionSearchBox=None, genomePositionSearchBoxVisible=None, initialXDomain=(70000000.0, 80000000.0), initialYDomain=None, overlays=None, selectionView=None, zoomFixed=None, zoomLimits=(1.0, None))], zoomLocks=ZoomLocks(locksByViewUid={'4af0232d-9ed5-4403-abff-4278d63c8240': '24c68c60-3236-4bfb-aa71-ee15be48f11d', '3968b2ff-d1ec-4bcb-99f4-547a96779777': '24c68c60-3236-4bfb-aa71-ee15be48f11d', 'a7476577-a819-4131-8556-eef498423940': '24c68c60-3236-4bfb-aa71-ee15be48f11d'}, locksDict={'24c68c60-3236-4bfb-aa71-ee15be48f11d': Lock(uid='24c68c60-3236-4bfb-aa71-ee15be48f11d', 4af0232d-9ed5-4403-abff-4278d63c8240=(1.0, 1.0, 1.0), 3968b2ff-d1ec-4bcb-99f4-547a96779777=(1.0, 1.0, 1.0), a7476577-a819-4131-8556-eef498423940=(1.0, 1.0, 1.0))}), locationLocks=LocationLocks(locksByViewUid={'4af0232d-9ed5-4403-abff-4278d63c8240': '24c68c60-3236-4bfb-aa71-ee15be48f11d', '3968b2ff-d1ec-4bcb-99f4-547a96779777': '24c68c60-3236-4bfb-aa71-ee15be48f11d', 'a7476577-a819-4131-8556-eef498423940': '24c68c60-3236-4bfb-aa71-ee15be48f11d'}, locksDict={'24c68c60-3236-4bfb-aa71-ee15be48f11d': Lock(uid='24c68c60-3236-4bfb-aa71-ee15be48f11d', 4af0232d-9ed5-4403-abff-4278d63c8240=(1.0, 1.0, 1.0), 3968b2ff-d1ec-4bcb-99f4-547a96779777=(1.0, 1.0, 1.0), a7476577-a819-4131-8556-eef498423940=(1.0, 1.0, 1.0))}), valueScaleLocks=ValueScaleLocks(locksByViewUid={}, locksDict={}), chromInfoPath=None)"
      ]
     },
     "execution_count": 31,
     "metadata": {},
     "output_type": "execute_result"
    }
   ],
   "source": [
    "\n",
    "t1 = tset1.track(\"heatmap\", height=300)\n",
    "t2 = tset2.track(\"heatmap\", height=300)\n",
    "\n",
    "t3 = hg.divide(t1, t2).opts(\n",
    "    colorRange=[\"blue\", \"white\", \"red\"],\n",
    "    valueScaleMin=0.1,\n",
    "    valueScaleMax=10,\n",
    ")\n",
    "\n",
    "domain = (7e7, 8e7)\n",
    "v1 = hg.view((t1, 'center'), (t5, 'top'), width=4).domain(x=domain)\n",
    "v2 = hg.view((t2, 'center'), (t6, 'top'), width=4).domain(x=domain)\n",
    "v3 = hg.view((t3, 'center'), (t7, 'top'), width=4).domain(x=domain)\n",
    "\n",
    "(v1 | v3 | v2).locks(hg.lock(v1, v2, v3))"
   ]
  },
  {
   "cell_type": "code",
   "execution_count": null,
   "id": "a304e476-74e9-4eb9-80b2-e4f9f82db3a8",
   "metadata": {},
   "outputs": [],
   "source": []
  }
 ],
 "metadata": {
  "kernelspec": {
   "display_name": "Python 3 (ipykernel)",
   "language": "python",
   "name": "python3"
  },
  "language_info": {
   "codemirror_mode": {
    "name": "ipython",
    "version": 3
   },
   "file_extension": ".py",
   "mimetype": "text/x-python",
   "name": "python",
   "nbconvert_exporter": "python",
   "pygments_lexer": "ipython3",
   "version": "3.9.17"
  }
 },
 "nbformat": 4,
 "nbformat_minor": 5
}
